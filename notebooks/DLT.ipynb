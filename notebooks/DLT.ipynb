{
 "cells": [
  {
   "cell_type": "markdown",
   "metadata": {},
   "source": [
    "# DLT\n",
    "\n",
    "*Direct Linear Transform*\n",
    "\n",
    "Método sencillo para estimar transformaciones proyectivas mediante la solución de un sistema de ecuaciones lineal."
   ]
  },
  {
   "cell_type": "code",
   "execution_count": null,
   "metadata": {},
   "outputs": [],
   "source": [
    "import numpy             as np\n",
    "import cv2               as cv\n",
    "import matplotlib.pyplot as plt\n",
    "\n",
    "from matplotlib.pyplot   import imshow, subplot, plot\n",
    "\n",
    "from umucv.htrans import htrans, homog, kgen, null1\n",
    "\n",
    "def fig(w,h):\n",
    "    plt.figure(figsize=(w,h))\n",
    "\n",
    "def readrgb(file):\n",
    "    return cv.cvtColor( cv.imread('../images/'+file), cv.COLOR_BGR2RGB) \n",
    "\n",
    "def rgb2gray(x):\n",
    "    return cv.cvtColor(x,cv.COLOR_RGB2GRAY)"
   ]
  },
  {
   "cell_type": "markdown",
   "metadata": {},
   "source": [
    "## matriz fundamental"
   ]
  },
  {
   "cell_type": "markdown",
   "metadata": {},
   "source": [
    "Algoritmo de los 8 puntos (o más).\n",
    "\n",
    "Cada correspondencia entre puntos en la imagen izquierda $(x,y,1)$ y derecha $(p,q,1)$, datos conocidos, da lugar a una ecuación sobre los elementos de la matriz F.\n",
    "\n",
    "$$\\begin{bmatrix} x & y& 1\\end{bmatrix} \\begin{bmatrix} f_1 & f_2 & f_3 \\\\ f_4 & f_5 & f_6  \\\\ f_7 & f_8 & f_9 \\end{bmatrix} \\begin{bmatrix} p \\\\ q \\\\1\\end{bmatrix} = 0$$\n",
    "\n",
    "Esto es equivalente a\n",
    "\n",
    "$$ \\begin{bmatrix} px & py &  p & qx & qy & q & x & y & 1\\end{bmatrix} \\begin{bmatrix} f_1 \\\\ f_2 \\\\f_3 \\\\ f_4 \\\\ f_5 \\\\ f_6  \\\\ f_7 \\\\ f_8 \\\\ f_9 \\end{bmatrix} = 0$$\n",
    "\n",
    "Cada fila de la matriz de coeficientes (ecuación homogénea generada por cada correspondencia en el sistema cuya solución es F) se puede obtener como el \"outer product\" de los puntos correspondientes."
   ]
  },
  {
   "cell_type": "code",
   "execution_count": null,
   "metadata": {},
   "outputs": [],
   "source": [
    "v1 = np.array(\n",
    "      [[ 278.,  343.],\n",
    "       [ 335.,  312.],\n",
    "       [ 386.,  279.],\n",
    "       [ 433.,  254.],\n",
    "       [ 270.,  304.],\n",
    "       [ 332.,  272.],\n",
    "       [ 389.,  238.],\n",
    "       [ 434.,  210.],\n",
    "       [ 260.,  253.],\n",
    "       [ 324.,  218.],\n",
    "       [ 389.,  186.],\n",
    "       [ 442.,  160.],\n",
    "       [ 244.,  189.],\n",
    "       [ 317.,  158.],\n",
    "       [ 390.,  125.],\n",
    "       [ 447.,   97.],\n",
    "       [ 204.,  147.],\n",
    "       [ 276.,  114.],\n",
    "       [ 340.,   87.],\n",
    "       [ 395.,   64.],\n",
    "       [ 172.,  107.],\n",
    "       [ 238.,   83.],\n",
    "       [ 302.,   55.],\n",
    "       [ 355.,   39.],\n",
    "       [ 146.,   81.],\n",
    "       [ 210.,   58.],\n",
    "       [ 273.,   37.],\n",
    "       [ 318.,   21.]])\n",
    "\n",
    "v2 = np.array(\n",
    "      [[ 184.,  399.],\n",
    "       [ 226.,  418.],\n",
    "       [ 277.,  434.],\n",
    "       [ 338.,  460.],\n",
    "       [ 171.,  358.],\n",
    "       [ 216.,  374.],\n",
    "       [ 273.,  394.],\n",
    "       [ 331.,  412.],\n",
    "       [ 155.,  307.],\n",
    "       [ 203.,  321.],\n",
    "       [ 262.,  342.],\n",
    "       [ 324.,  358.],\n",
    "       [ 138.,  251.],\n",
    "       [ 191.,  265.],\n",
    "       [ 252.,  284.],\n",
    "       [ 321.,  299.],\n",
    "       [ 186.,  218.],\n",
    "       [ 233.,  227.],\n",
    "       [ 291.,  240.],\n",
    "       [ 357.,  255.],\n",
    "       [ 226.,  188.],\n",
    "       [ 269.,  196.],\n",
    "       [ 327.,  206.],\n",
    "       [ 387.,  220.],\n",
    "       [ 257.,  170.],\n",
    "       [ 299.,  177.],\n",
    "       [ 352.,  185.],\n",
    "       [ 409.,  194.]])\n",
    "\n",
    "x1 = rgb2gray(readrgb('cube3.png'))\n",
    "x2 = rgb2gray(readrgb('cube4.png'))\n",
    "\n",
    "fig(12,4)\n",
    "subplot(1,2,1)\n",
    "imshow(x1,'gray'); ax = plt.axis()\n",
    "plot(v1[:,0],v1[:,1],'r.'); plt.axis(ax)\n",
    "subplot(1,2,2)\n",
    "imshow(x2,'gray')\n",
    "plot(v2[:,0],v2[:,1],'r.'); plt.axis(ax);"
   ]
  },
  {
   "cell_type": "markdown",
   "metadata": {},
   "source": [
    "Cuando no hay outliers la matriz $F$ se puede obtener resolviendo un sencillo sistema de ecuaciones. En la práctica es mejor usar la siguiente función de OpenCV que admite correspondencias incorrectas."
   ]
  },
  {
   "cell_type": "code",
   "execution_count": null,
   "metadata": {},
   "outputs": [],
   "source": [
    "F,_ = cv.findFundamentalMat(v1,v2,cv.FM_LMEDS)\n",
    "F"
   ]
  },
  {
   "cell_type": "markdown",
   "metadata": {},
   "source": [
    "Comprobemos que funciona:"
   ]
  },
  {
   "cell_type": "code",
   "execution_count": null,
   "metadata": {},
   "outputs": [],
   "source": [
    "[ x2 @ F @ x1 for x1,x2 in zip(homog(v1),homog(v2)) ]"
   ]
  },
  {
   "cell_type": "code",
   "execution_count": null,
   "metadata": {},
   "outputs": [],
   "source": [
    "sum([ abs(x2 @ F @ x1) for x1,x2 in zip(homog(v1),homog(v2)) ])"
   ]
  },
  {
   "cell_type": "markdown",
   "metadata": {},
   "source": [
    "No son ceros perfectos, pero el residuo es razonablemente pequeño, puede no estar mal del todo."
   ]
  },
  {
   "cell_type": "markdown",
   "metadata": {},
   "source": [
    "Vamos a calcular nosotros mismos la matriz fundamental resolviendo un sistema de ecuaciones homogéneo. Para que el sistema esté bien condicionado numéricamente es necesario trabajar con coordenadas del orden de 1, en vez de coordenadas de pixels, que al estar multiplicadas entre sí producen elementos de magnitudes muy descompensadas. Por tanto, vamos a normalizar los pixels, quitando la transformación de calibración, de modo que obtendremos inicialmente una aproximación a la matriz Esencial."
   ]
  },
  {
   "cell_type": "code",
   "execution_count": null,
   "metadata": {},
   "outputs": [],
   "source": [
    "from numpy.linalg import inv, svd"
   ]
  },
  {
   "cell_type": "code",
   "execution_count": null,
   "metadata": {},
   "outputs": [],
   "source": [
    "K = kgen((640,480),1.6)\n",
    "\n",
    "hn1 = homog(v1) @ inv(K).T\n",
    "hn2 = homog(v2) @ inv(K).T"
   ]
  },
  {
   "cell_type": "markdown",
   "metadata": {},
   "source": [
    "Formamos la matriz de coefientes del sistema homogéneo y lo resolvemos con `null1` (en su momento vimos (en el notebook de [sistemas de ecuaciones](sistecs.ipynb)) que es un sencillo algoritmo basado en la descomposición en valores singulares)."
   ]
  },
  {
   "cell_type": "code",
   "execution_count": null,
   "metadata": {},
   "outputs": [],
   "source": [
    "dat = np.array([np.outer(x,y) for x,y in zip(hn2,hn1) ])\n",
    "myE = null1(dat.reshape(-1,9)).reshape(3,3)"
   ]
  },
  {
   "cell_type": "code",
   "execution_count": null,
   "metadata": {},
   "outputs": [],
   "source": [
    "myE"
   ]
  },
  {
   "cell_type": "code",
   "execution_count": null,
   "metadata": {},
   "outputs": [],
   "source": [
    "[ x2 @ myE @ x1 for x1,x2 in zip(hn1,hn2) ]"
   ]
  },
  {
   "cell_type": "markdown",
   "metadata": {
    "cell_style": "center"
   },
   "source": [
    "Se cumple bastante bien la restricción en todas las correspondencias. Es muy simple ahora conseguir la matriz fundamental, que opera directamente con coordenadas de pixel:"
   ]
  },
  {
   "cell_type": "code",
   "execution_count": null,
   "metadata": {},
   "outputs": [],
   "source": [
    "myF = inv(K).T @ myE @ inv(K)"
   ]
  },
  {
   "cell_type": "code",
   "execution_count": null,
   "metadata": {},
   "outputs": [],
   "source": [
    "[ x2 @ myF @ x1 for x1,x2 in zip(homog(v1),homog(v2)) ]"
   ]
  },
  {
   "cell_type": "markdown",
   "metadata": {},
   "source": [
    "Las condiciones se cumplen también muy bien sobre pixels crudos. Y los valores numéricos de nuestra matriz Fundamental son muy parecidos a los conseguidos por OpenCV. (Para comparar las matrices, que son homogéneas, es necesario ponerlas con una escala común, p.ej., dividiendo todo por el mayor elemento):"
   ]
  },
  {
   "cell_type": "code",
   "execution_count": null,
   "metadata": {},
   "outputs": [],
   "source": [
    "myF = myF/myF[2,2] \n",
    "myF"
   ]
  },
  {
   "cell_type": "code",
   "execution_count": null,
   "metadata": {},
   "outputs": [],
   "source": [
    "F"
   ]
  },
  {
   "cell_type": "markdown",
   "metadata": {},
   "source": [
    "Incluso conseguimos un residuo menor (!?):"
   ]
  },
  {
   "cell_type": "code",
   "execution_count": null,
   "metadata": {},
   "outputs": [],
   "source": [
    "sum([ abs(x2 @ myF @ x1) for x1,x2 in zip(homog(v1),homog(v2)) ])"
   ]
  },
  {
   "cell_type": "markdown",
   "metadata": {},
   "source": [
    "Esto no significa que este método tan simple sea mejor que el de OpenCV. Lo que ocurre es que no hemos impuesto a nuestra $F$ una condición importante: que todas las líneas epipolares generadas pasen por un punto común: el \"epipolo\", que es la imagen del centro de la otra cámara. Matemáticamente esto significa que $F$ tiene que tener rango 2, o sea, su tercer valor singular nulo."
   ]
  },
  {
   "cell_type": "code",
   "execution_count": null,
   "metadata": {},
   "outputs": [],
   "source": [
    "svd(F)[1]"
   ]
  },
  {
   "cell_type": "code",
   "execution_count": null,
   "metadata": {},
   "outputs": [],
   "source": [
    "svd(myF)[1]"
   ]
  },
  {
   "cell_type": "markdown",
   "metadata": {},
   "source": [
    "En nuestro caso $s_3$ es $\\sim 100$ veces menor que el $s_2$, que no está mal, pero no es un cero numérico."
   ]
  },
  {
   "cell_type": "markdown",
   "metadata": {},
   "source": [
    "## homografía"
   ]
  },
  {
   "cell_type": "markdown",
   "metadata": {},
   "source": [
    "Dado un conjunto de correspondencias  $(x,y,1) \\leftrightarrow (p,q,1)$ relacionadas por una homografía, cada una da lugar a una ecuación\n",
    "\n",
    "$$\\begin{bmatrix} x \\\\ y \\\\1\\end{bmatrix} = \\lambda \\begin{bmatrix} h_1 & h_2 & h_3 \\\\ h_4 & h_5 & h_6  \\\\ h_7 & h_8 & h_9 \\end{bmatrix}  \\begin{bmatrix} p \\\\ q \\\\1\\end{bmatrix}$$\n",
    "\n",
    "Se desconoce la escala homogénea $\\lambda$ de cada ecuación. Pero es posible transformarlo a 3 ecuaciones homogéneas. Como ambos lados de la ecuación son vectores proporcionales, su producto vectorial (cross) debe ser cero.\n",
    "\n",
    "$$ \\begin{bmatrix} x \\\\ y \\\\1\\end{bmatrix} \\times \\begin{bmatrix} h_1 & h_2 & h_3 \\\\ h_4 & h_5 & h_6  \\\\ h_7 & h_8 & h_9 \\end{bmatrix}  \\begin{bmatrix} p \\\\ q \\\\1\\end{bmatrix} = \\begin{bmatrix} 0 \\\\ 0 \\\\0\\end{bmatrix} $$\n",
    "\n",
    "Desarrollando esto podemos construir 3 ecuaciones homogéneas (2 de ellas independientes) para los elementos de la homografía.\n",
    "\n",
    "$$\\begin{bmatrix} 0 & 0 & 0 & p & q & 1 & -p y & -q y & -y \\\\ \n",
    "            -p & -q & -1& 0& 0& 0& p x& q x& x\\\\\n",
    "            p y& q y& y& -p x& -q x& -x& 0& 0 & 0 \\end{bmatrix} \\begin{bmatrix} h_1 \\\\ h_2 \\\\h_3 \\\\ h_4 \\\\ h_5 \\\\ h_6  \\\\ h_7 \\\\ h_8 \\\\ h_9 \\end{bmatrix} = \\begin{bmatrix} 0 \\\\ 0 \\\\0\\end{bmatrix} $$\n",
    "\n"
   ]
  },
  {
   "cell_type": "code",
   "execution_count": null,
   "metadata": {},
   "outputs": [],
   "source": [
    "X = np.array(\n",
    "   [[0,   0  ],\n",
    "    [0,   1  ],\n",
    "    [0.5, 1  ],\n",
    "    [0.5, 0.5],\n",
    "    [1,   0.5],\n",
    "    [1,   0  ]])\n",
    "\n",
    "Y = np.array(\n",
    "   [[ 260.,  320.],\n",
    "    [ 192.,  272.],\n",
    "    [ 267.,  260.],\n",
    "    [ 304.,  278.],\n",
    "    [ 374.,  266.],\n",
    "    [ 425.,  285.]])"
   ]
  },
  {
   "cell_type": "markdown",
   "metadata": {},
   "source": [
    "Estos datos de prueba los hemos creado con una transformación conocida."
   ]
  },
  {
   "cell_type": "code",
   "execution_count": null,
   "metadata": {},
   "outputs": [],
   "source": [
    "H = np.array([[250,-11, 260],\n",
    "              [22,  33, 320],\n",
    "              [0.2,  0.3, 1]])\n",
    "\n",
    "np.round(htrans(H,X))"
   ]
  },
  {
   "cell_type": "code",
   "execution_count": null,
   "metadata": {},
   "outputs": [],
   "source": [
    "def eqs(x,y):\n",
    "    x_0, x_1 = x\n",
    "    y_0, y_1 = y\n",
    "    return [[0, 0, 0, x_0, x_1, 1, -x_0*y_1, -x_1*y_1, -y_1], \n",
    "            [-x_0, -x_1, -1, 0, 0, 0, x_0*y_0, x_1*y_0, y_0],\n",
    "            [x_0*y_1, x_1*y_1, y_1, -x_0*y_0, -x_1*y_0, -y_0, 0, 0, 0]]"
   ]
  },
  {
   "cell_type": "code",
   "execution_count": null,
   "metadata": {},
   "outputs": [],
   "source": [
    "eqs(X[0],Y[0])"
   ]
  },
  {
   "cell_type": "code",
   "execution_count": null,
   "metadata": {},
   "outputs": [],
   "source": [
    "A = sum([eqs(x,y) for x,y in zip(X,Y)],[])"
   ]
  },
  {
   "cell_type": "code",
   "execution_count": null,
   "metadata": {},
   "outputs": [],
   "source": [
    "myH = null1(A).reshape(3,3)\n",
    "myH"
   ]
  },
  {
   "cell_type": "code",
   "execution_count": null,
   "metadata": {},
   "outputs": [],
   "source": [
    "myH = myH/myH[2,2]\n",
    "myH"
   ]
  },
  {
   "cell_type": "code",
   "execution_count": null,
   "metadata": {},
   "outputs": [],
   "source": [
    "htrans(myH,X)"
   ]
  },
  {
   "cell_type": "code",
   "execution_count": null,
   "metadata": {},
   "outputs": [],
   "source": [
    "Y"
   ]
  },
  {
   "cell_type": "markdown",
   "metadata": {},
   "source": [
    "## camera resection"
   ]
  },
  {
   "cell_type": "markdown",
   "metadata": {},
   "source": [
    "pendiente"
   ]
  },
  {
   "cell_type": "markdown",
   "metadata": {},
   "source": [
    "## triangulation"
   ]
  },
  {
   "cell_type": "markdown",
   "metadata": {},
   "source": [
    "pendiente"
   ]
  }
 ],
 "metadata": {
  "hide_input": false,
  "kernelspec": {
   "display_name": "Python 3 (ipykernel)",
   "language": "python",
   "name": "python3"
  },
  "language_info": {
   "codemirror_mode": {
    "name": "ipython",
    "version": 3
   },
   "file_extension": ".py",
   "mimetype": "text/x-python",
   "name": "python",
   "nbconvert_exporter": "python",
   "pygments_lexer": "ipython3",
   "version": "3.11.5"
  }
 },
 "nbformat": 4,
 "nbformat_minor": 4
}

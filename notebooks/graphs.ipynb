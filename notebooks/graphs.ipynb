{
 "cells": [
  {
   "cell_type": "markdown",
   "metadata": {},
   "source": [
    "# Gráficas"
   ]
  },
  {
   "cell_type": "markdown",
   "metadata": {},
   "source": [
    "## Primitivas gráficas"
   ]
  },
  {
   "cell_type": "markdown",
   "metadata": {},
   "source": [
    "Podemos combinar en un gráfico imágenes, puntos, polilíneas, etc."
   ]
  },
  {
   "cell_type": "code",
   "execution_count": null,
   "metadata": {},
   "outputs": [],
   "source": [
    "import numpy             as np\n",
    "import cv2               as cv\n",
    "import matplotlib.pyplot as plt\n",
    "import skimage.io        as io"
   ]
  },
  {
   "cell_type": "code",
   "execution_count": null,
   "metadata": {},
   "outputs": [],
   "source": [
    "img = io.imread('../images/coins.png')\n",
    "\n",
    "print(img.shape)\n",
    "plt.imshow(img)"
   ]
  },
  {
   "cell_type": "code",
   "execution_count": null,
   "metadata": {},
   "outputs": [],
   "source": [
    "plt.imshow(img)\n",
    "plt.title('monedas'); plt.axis('off');"
   ]
  },
  {
   "cell_type": "code",
   "execution_count": null,
   "metadata": {},
   "outputs": [],
   "source": [
    "plt.imshow(img);\n",
    "\n",
    "# dibujamos polígonos y puntos\n",
    "plt.plot([100,100,200,150,100]\n",
    "        ,[100,200,200, 50,100],color='orange');\n",
    "\n",
    "plt.plot([500,600,300]\n",
    "        ,[100,150,400],'.',color='red')\n",
    "\n",
    "plt.plot([100,200],[300,300],'.',color='yellow',markersize=15);\n",
    "plt.plot([400,500,600,400],[400,400,200,400],color='blue',lw=3,ls='dashed');"
   ]
  },
  {
   "cell_type": "code",
   "execution_count": null,
   "metadata": {},
   "outputs": [],
   "source": [
    "# muestramos la imagen completa\n",
    "plt.imshow(img);\n",
    "\n",
    "# guardamos los límites para luego\n",
    "ax = plt.axis()\n",
    "print(ax)\n",
    "\n",
    "# extraemos un rectángulo del array de imagen\n",
    "reg = img[400:,:200]\n",
    "\n",
    "# lo modificamos\n",
    "reg[150:170 , 50:70 , :] = 0,255,0\n",
    "\n",
    "# y lo situamos en la figura en la zona deseada\n",
    "plt.imshow(reg, extent=[400,700,500,400])\n",
    "\n",
    "# recuperamos los límites de la figura,\n",
    "# porque el último imshow los cambia.\n",
    "plt.axis(ax);\n",
    "\n",
    "# podemos elegir los límites como deseemos\n",
    "# plt.axis([0,1000,0,1000]);"
   ]
  },
  {
   "cell_type": "markdown",
   "metadata": {},
   "source": [
    "El trozo de imagen extraído es una referencia y sus modificaciones se producen realmente en la imagen original:"
   ]
  },
  {
   "cell_type": "code",
   "execution_count": null,
   "metadata": {},
   "outputs": [],
   "source": [
    "plt.imshow(img);"
   ]
  },
  {
   "cell_type": "markdown",
   "metadata": {},
   "source": [
    "Para evitarlo podemos hacer `reg = img[400:,:200].copy()`."
   ]
  },
  {
   "cell_type": "markdown",
   "metadata": {},
   "source": [
    "## Guardar imágenes"
   ]
  },
  {
   "cell_type": "markdown",
   "metadata": {},
   "source": [
    "Con `plt.savefig` podemos guardar la gráfica completa, y con `io.imsave` guardamos un array de imagen."
   ]
  },
  {
   "cell_type": "code",
   "execution_count": null,
   "metadata": {},
   "outputs": [],
   "source": [
    "# plt.savefig('result.pdf')  # o .svg, .png, .jpg, etc.\n",
    "# io.imsave('result.png', img)"
   ]
  },
  {
   "cell_type": "markdown",
   "metadata": {},
   "source": [
    "## OpenCV"
   ]
  },
  {
   "cell_type": "markdown",
   "metadata": {},
   "source": [
    "Matplotlib es apropiado para crear figuras de gran calidad en libros, artículos, etc. Pero para visualizar información en vivo es más eficiente usar las primitivas gráficas de opencv. Estas funciones modifican destructivamente un array de imagen, por lo que hay que manejarlas con cuidado."
   ]
  },
  {
   "cell_type": "code",
   "execution_count": null,
   "metadata": {},
   "outputs": [],
   "source": [
    "cv.circle(img,(600,200),80,(255,0,0),2)\n",
    "cv.line(img,(50,100),(700,500),(0,0,255),1,cv.LINE_AA)\n",
    "\n",
    "poly = np.array([[100,300],\n",
    "                 [200,200],\n",
    "                 [300,500]])\n",
    "cv.polylines(img, [ poly ], isClosed= True, color=(0,255,0), thickness= 2, lineType=cv.LINE_AA )\n",
    "\n",
    "plt.figure(figsize=(8,6))\n",
    "plt.imshow(img);"
   ]
  },
  {
   "cell_type": "markdown",
   "metadata": {},
   "source": [
    "Es importante recordar que opencv lee y escribe imágenes en orden BGR, mientras que matplotlib y skimage usan RGB."
   ]
  },
  {
   "cell_type": "code",
   "execution_count": null,
   "metadata": {},
   "outputs": [],
   "source": [
    "img = cv.imread('../images/coins.png')\n",
    "plt.imshow(img);"
   ]
  },
  {
   "cell_type": "code",
   "execution_count": null,
   "metadata": {},
   "outputs": [],
   "source": [
    "imgrgb = cv.cvtColor(img,cv.COLOR_BGR2RGB)\n",
    "plt.imshow(imgrgb);"
   ]
  },
  {
   "cell_type": "markdown",
   "metadata": {},
   "source": [
    "## Conversión a monocromo y colormap"
   ]
  },
  {
   "cell_type": "code",
   "execution_count": null,
   "metadata": {},
   "outputs": [],
   "source": [
    "g = cv.cvtColor(img,cv.COLOR_RGB2GRAY)\n",
    "g.shape"
   ]
  },
  {
   "cell_type": "code",
   "execution_count": null,
   "metadata": {},
   "outputs": [],
   "source": [
    "plt.imshow(g);"
   ]
  },
  {
   "cell_type": "markdown",
   "metadata": {},
   "source": [
    "Las imágenes monocromas (un solo canal), se muestran con un mapa de color que por omisión no es muy bonito. Podemos cambiarlo."
   ]
  },
  {
   "cell_type": "code",
   "execution_count": null,
   "metadata": {},
   "outputs": [],
   "source": [
    "plt.imshow(g,'coolwarm');"
   ]
  },
  {
   "cell_type": "code",
   "execution_count": null,
   "metadata": {},
   "outputs": [],
   "source": [
    "plt.imshow(g,'gray');"
   ]
  },
  {
   "cell_type": "code",
   "execution_count": null,
   "metadata": {},
   "outputs": [],
   "source": [
    "plt.imshow(255-g,'gray');"
   ]
  },
  {
   "cell_type": "code",
   "execution_count": null,
   "metadata": {},
   "outputs": [],
   "source": [
    "plt.set_cmap('gray'); # fijamos el colormap\n",
    "\n",
    "plt.imshow(g);"
   ]
  },
  {
   "cell_type": "markdown",
   "metadata": {},
   "source": [
    "## Imagen como superficie"
   ]
  },
  {
   "cell_type": "code",
   "execution_count": null,
   "metadata": {},
   "outputs": [],
   "source": [
    "np.meshgrid(np.arange(5),np.arange(4))"
   ]
  },
  {
   "cell_type": "code",
   "execution_count": null,
   "metadata": {},
   "outputs": [],
   "source": [
    "np.mgrid[0:4 , 0:5]"
   ]
  },
  {
   "cell_type": "code",
   "execution_count": null,
   "metadata": {},
   "outputs": [],
   "source": [
    "from mpl_toolkits.mplot3d import Axes3D\n",
    "\n",
    "fig = plt.figure()\n",
    "ax = fig.add_subplot(111, projection='3d')\n",
    "\n",
    "r,c = g.shape\n",
    "x,y = np.meshgrid(np.arange(c), np.arange(r))\n",
    "\n",
    "# la coordenada z del gráfico 3D es el nivel de gris de la imagen anterior.\n",
    "z = g\n",
    "\n",
    "ax.plot_surface(x,y,z, cmap='coolwarm', linewidth=0);\n",
    "ax.view_init(60, 20)"
   ]
  },
  {
   "cell_type": "markdown",
   "metadata": {},
   "source": [
    "Con el mapa de color `cmap='gray'` y mirando desde arriba se ve la imagen original. "
   ]
  },
  {
   "cell_type": "markdown",
   "metadata": {},
   "source": [
    "Rearrancando con `%matplotlib notebook` las gráficas se pueden modificar interactivamente dentro del notebook, aunque no va muy ágil. Con `%matplotlib qt` o `%matplotlib tk` salen en una ventana aparte igual que en las aplicaciones normales de escritorio."
   ]
  },
  {
   "cell_type": "markdown",
   "metadata": {},
   "source": [
    "Otra forma de cambiar el punto de vista dinámicamente es la opción `%matplolib widget` del paquete `ipympl`, que permite interactuar dinámicamente con matplotlib dentro de los notebooks."
   ]
  },
  {
   "cell_type": "code",
   "execution_count": null,
   "metadata": {
    "tags": []
   },
   "outputs": [],
   "source": [
    "# !pip install ipympl\n",
    "# cierra jupyter y vuelve a entrar"
   ]
  },
  {
   "cell_type": "code",
   "execution_count": null,
   "metadata": {},
   "outputs": [],
   "source": [
    "%matplotlib widget\n",
    "\n",
    "import numpy             as np\n",
    "import cv2               as cv\n",
    "import matplotlib.pyplot as plt"
   ]
  },
  {
   "cell_type": "code",
   "execution_count": null,
   "metadata": {},
   "outputs": [],
   "source": [
    "r = np.linspace(-3,3,40)\n",
    "x,y = np.meshgrid(r,r)\n",
    "z = np.exp(-(x**2+y**2)/4)\n",
    "\n",
    "fig = plt.figure(figsize=(6,4))\n",
    "plt.subplots_adjust(top=1)\n",
    "if True:\n",
    "    fig.canvas.toolbar_visible = False\n",
    "    fig.canvas.header_visible = False\n",
    "    fig.canvas.footer_visible = False\n",
    "    fig.canvas.capture_scroll = False\n",
    "ax = fig.add_subplot(111, projection='3d')\n",
    "ax.plot_surface(x,y,z, cmap='coolwarm', linewidth=0);\n",
    "ax.view_init(60, 20)\n",
    "plt.suptitle('Example of interactive plot')\n",
    "plt.show()"
   ]
  },
  {
   "cell_type": "markdown",
   "metadata": {},
   "source": [
    "## Vector field"
   ]
  },
  {
   "cell_type": "code",
   "execution_count": null,
   "metadata": {},
   "outputs": [],
   "source": [
    "# ejemplo de quiver\n",
    "\n",
    "img = io.imread('../images/cube3.png')\n",
    "\n",
    "x1 = np.array([100,200,600])\n",
    "y1 = np.array([400,400,300])\n",
    "\n",
    "x2 = np.array([50,100,-100])\n",
    "y2 = np.array([100,100,200])\n",
    "\n",
    "plt.figure(figsize=(9,6))\n",
    "plt.imshow(img)\n",
    "plt.quiver(x1, y1, x2, y2, color='Red',\n",
    "           width=0.003, scale=1, scale_units='xy');\n",
    "plt.grid()"
   ]
  },
  {
   "cell_type": "markdown",
   "metadata": {},
   "source": [
    "## OpenGL"
   ]
  },
  {
   "cell_type": "markdown",
   "metadata": {},
   "source": [
    "Para crear efectos 3D lo ideal es utilizar bibliotecas gráficas optimizadas.\n",
    "\n",
    "El ejemplo de código [`surface.py`](../code/surface.py) muestra en vivo la superficie de niveles de gris anterior con la secuencia de imágenes de la webcam.  En la ventana gráfica podemos hacer zoom y cambiar el punto de vista."
   ]
  },
  {
   "cell_type": "markdown",
   "metadata": {},
   "source": [
    "## Animaciones"
   ]
  },
  {
   "cell_type": "code",
   "execution_count": null,
   "metadata": {
    "tags": []
   },
   "outputs": [],
   "source": [
    "%matplotlib widget\n",
    "import numpy             as np\n",
    "import matplotlib.pyplot as plt\n",
    "\n",
    "fig = plt.figure(figsize=(7,3))\n",
    "if True:\n",
    "    fig.canvas.toolbar_visible = False\n",
    "    fig.canvas.header_visible = False\n",
    "    fig.canvas.footer_visible = False\n",
    "    fig.canvas.capture_scroll = False\n",
    "\n",
    "plt.xlim(( 0, 2*np.pi))\n",
    "plt.ylim((-1.1, 1.1))\n",
    "plt.grid()\n",
    "plt.title('Animación (no es un vídeo pregrabado)')\n",
    "[line] = plt.plot([], [])\n",
    "\n",
    "def play():\n",
    "    x = np.linspace(0,2*np.pi,300)\n",
    "\n",
    "    def fotograma(t):\n",
    "        line.set_data(x,np.sin(2*x-t*2*np.pi/100))\n",
    "\n",
    "    for k in range(100):\n",
    "        fotograma(2*k)\n",
    "        fig.canvas.draw()"
   ]
  },
  {
   "cell_type": "code",
   "execution_count": null,
   "metadata": {},
   "outputs": [],
   "source": [
    "play()"
   ]
  },
  {
   "cell_type": "markdown",
   "metadata": {},
   "source": [
    "## Interacción con ratón y teclado"
   ]
  },
  {
   "cell_type": "code",
   "execution_count": null,
   "metadata": {},
   "outputs": [],
   "source": [
    "%matplotlib widget\n",
    "import numpy             as np\n",
    "import matplotlib.pyplot as plt\n",
    "\n",
    "xs =  []\n",
    "ys =  []\n",
    "\n",
    "def update():\n",
    "    l1.set_data(xs,ys)\n",
    "    fig.canvas.draw()\n",
    "\n",
    "def on_click(event):\n",
    "    if event.button == 3:\n",
    "        xs.append(xs[0])\n",
    "        ys.append(ys[0])\n",
    "    else:\n",
    "        xs.append(event.xdata)\n",
    "        ys.append(event.ydata)\n",
    "    update()\n",
    "\n",
    "def on_key(event):\n",
    "    t.set_text(f'Tecla: {event.key}')\n",
    "    if event.key == 'x':\n",
    "        del xs[-1]\n",
    "        del ys[-1]\n",
    "        update()\n",
    "    else:\n",
    "        fig.canvas.draw()\n",
    "\n",
    "fig = plt.figure(figsize=(5,4))\n",
    "fig.canvas.toolbar_visible = False\n",
    "fig.canvas.header_visible = False\n",
    "fig.canvas.footer_visible = False\n",
    "fig.canvas.capture_scroll = False\n",
    "\n",
    "plt.subplots_adjust(top=1)\n",
    "#plt.suptitle('Interactive plot')\n",
    "ax = fig.add_subplot(111)\n",
    "#ax.set_title('click me')\n",
    "\n",
    "l1, = ax.plot(xs,ys,'.-',markersize=10)\n",
    "ax.set_xlim(-1,1)\n",
    "ax.set_ylim(-1,1)\n",
    "ax.axis('equal')\n",
    "ax.grid()\n",
    "t = ax.text(s='',x=-0.75,y=-0.75)\n",
    "\n",
    "fig.canvas.set_window_title = \"tonto\"\n",
    "plt.show()\n",
    "cid  = fig.canvas.mpl_connect('button_press_event', on_click)\n",
    "cid2 = fig.canvas.mpl_connect('key_press_event', on_key)"
   ]
  },
  {
   "cell_type": "markdown",
   "metadata": {},
   "source": [
    "Esta gráfica es interactiva: Left click: añade punto. Right click: cierra la figura. X: borra el último punto. Q: salir de la figura."
   ]
  },
  {
   "cell_type": "markdown",
   "metadata": {
    "tags": []
   },
   "source": [
    "## Cámaras interactivas en el notebook!"
   ]
  },
  {
   "cell_type": "code",
   "execution_count": null,
   "metadata": {
    "tags": []
   },
   "outputs": [],
   "source": [
    "%matplotlib widget\n",
    "import numpy             as np\n",
    "import matplotlib.pyplot as plt\n",
    "import cv2 as cv\n",
    "from umucv.stream import mkStream\n",
    "\n",
    "import ipywidgets as widgets\n",
    "\n",
    "import asyncio\n",
    "\n",
    "stream = mkStream(dev='0',loop=True)"
   ]
  },
  {
   "cell_type": "code",
   "execution_count": null,
   "metadata": {
    "tags": []
   },
   "outputs": [],
   "source": [
    "fig = plt.figure(figsize=(12,4))\n",
    "\n",
    "fig.canvas.toolbar_visible = False\n",
    "fig.canvas.header_visible = False\n",
    "fig.canvas.footer_visible = False\n",
    "fig.canvas.capture_scroll = False\n",
    "\n",
    "ax = fig.add_axes([-0.25,0,1,1])\n",
    "im = ax.imshow(np.zeros((480,640)),'gray',vmin=0,vmax=255)\n",
    "ax.set_axis_off();\n",
    "\n",
    "ax2 = fig.add_axes([0.55,0.12,0.4,0.8])\n",
    "ax2.set_title('histogram')\n",
    "ax2.set_xlabel('gray level')\n",
    "ax2.set_ylabel('frequency')\n",
    "\n",
    "width=16\n",
    "\n",
    "bins = np.arange(0,257,width)\n",
    "centers = bins[:-1] + width//2\n",
    "\n",
    "cosa = ax2.bar(centers, centers*0, width=width, edgecolor='black')\n",
    "ax2.set_xticks(list(np.arange(0,256,64))+[255])\n",
    "ax2.set_xlim(0,255)\n",
    "ax2.set_ylim(0,1/255*5)\n",
    "\n",
    "plt.show()\n",
    "\n",
    "async def main_loop():\n",
    "    global stop\n",
    "    while not stop:\n",
    "\n",
    "        frame = next(stream)\n",
    "        x = cv.cvtColor(frame,cv.COLOR_BGR2GRAY)\n",
    "        im.set_data(x)\n",
    "\n",
    "        h,b = np.histogram(x, bins, density=True)\n",
    "\n",
    "        for rect, v in zip(cosa,h):\n",
    "            rect.set_height(v)\n",
    "\n",
    "        fig.canvas.draw()\n",
    "\n",
    "        await asyncio.sleep(0.001)\n",
    "\n",
    "\n",
    "def stop_clicked(b):\n",
    "    global stop\n",
    "    stop = True\n",
    "\n",
    "stop_button = widgets.Button(description=\"Stop\")\n",
    "stop_button.on_click(stop_clicked)\n",
    "\n",
    "def play_clicked(b):\n",
    "    global stop\n",
    "    stop = False\n",
    "    loop = asyncio.get_event_loop()\n",
    "    loop.create_task(main_loop())\n",
    "\n",
    "play_button = widgets.Button(description=\"Play\")\n",
    "play_button.on_click(play_clicked)\n",
    "\n",
    "display(play_button)\n",
    "display(stop_button)"
   ]
  },
  {
   "cell_type": "markdown",
   "metadata": {},
   "source": [
    "## 3D graphics using vispy"
   ]
  },
  {
   "cell_type": "code",
   "execution_count": null,
   "metadata": {},
   "outputs": [],
   "source": [
    "# !pip install vispy jupyter_rfb\n",
    "# y reinicia jupyter"
   ]
  },
  {
   "cell_type": "code",
   "execution_count": null,
   "metadata": {},
   "outputs": [],
   "source": [
    "import numpy as np\n",
    "\n",
    "from vispy import app, scene\n",
    "from vispy.io import imread\n",
    "\n",
    "canvas = scene.SceneCanvas(keys='interactive', bgcolor='w')\n",
    "view = canvas.central_widget.add_view()\n",
    "view.camera = scene.TurntableCamera(up='z', fov=60)\n",
    "\n",
    "# Add a 3D axis to keep us oriented\n",
    "axis = scene.visuals.XYZAxis(parent=view.scene)\n",
    "\n",
    "image1_filename = \"/home/brutus/repos/umucv/images/coins.png\"\n",
    "image2_filename = \"/home/brutus/repos/umucv/images/monty-python2.jpg\"\n",
    "\n",
    "# Load images\n",
    "img1 = imread(image1_filename)\n",
    "img2 = imread(image2_filename)\n",
    "\n",
    "# Create image visuals\n",
    "image1 = scene.visuals.Image(img1, parent=view.scene)\n",
    "image1.transform = scene.MatrixTransform()\n",
    "image1.transform.scale([1/640.,1/640.,1/640.])\n",
    "image1.transform.translate([0,0,0.5])\n",
    "\n",
    "image2 = scene.visuals.Image(img2, parent=view.scene)\n",
    "image2.transform = scene.MatrixTransform()\n",
    "image2.transform.scale([1/640.,1/640.,1/640.])\n",
    "image2.transform.rotate(30,[0,1,0])\n",
    "\n",
    "sphere = scene.visuals.Sphere(radius=0.25, method='ico',\n",
    "                              parent=view.scene,\n",
    "                              edge_color='lightgray')\n",
    "sphere.transform = scene.MatrixTransform()\n",
    "sphere.transform.translate([0,0,1])\n",
    "\n",
    "canvas"
   ]
  }
 ],
 "metadata": {
  "hide_input": false,
  "kernelspec": {
   "display_name": "Python 3 (ipykernel)",
   "language": "python",
   "name": "python3"
  },
  "language_info": {
   "codemirror_mode": {
    "name": "ipython",
    "version": 3
   },
   "file_extension": ".py",
   "mimetype": "text/x-python",
   "name": "python",
   "nbconvert_exporter": "python",
   "pygments_lexer": "ipython3",
   "version": "3.11.0"
  },
  "varInspector": {
   "cols": {
    "lenName": 16,
    "lenType": 16,
    "lenVar": 40
   },
   "kernels_config": {
    "python": {
     "delete_cmd_postfix": "",
     "delete_cmd_prefix": "del ",
     "library": "var_list.py",
     "varRefreshCmd": "print(var_dic_list())"
    },
    "r": {
     "delete_cmd_postfix": ") ",
     "delete_cmd_prefix": "rm(",
     "library": "var_list.r",
     "varRefreshCmd": "cat(var_dic_list()) "
    }
   },
   "types_to_exclude": [
    "module",
    "function",
    "builtin_function_or_method",
    "instance",
    "_Feature"
   ],
   "window_display": false
  }
 },
 "nbformat": 4,
 "nbformat_minor": 4
}

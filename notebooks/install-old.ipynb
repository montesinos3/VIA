{
 "cells": [
  {
   "cell_type": "markdown",
   "id": "50cbec4e",
   "metadata": {},
   "source": [
    "Recogemos aquí otros métodos de instalación utilizados previamente en la asignatura."
   ]
  },
  {
   "cell_type": "markdown",
   "id": "320a693e",
   "metadata": {},
   "source": [
    "## Paquetes congelados\n",
    "\n",
    "Es una versión completa consistente que incluye todos los paquetes necesarios:\n",
    "\n",
    "    wget https://robot.inf.um.es/material/va/via-local.zip\n",
    "    \n",
    "    unzip via-local.zip\n",
    "    \n",
    "    cd via-local\n",
    "\n",
    "    conda create --name via --file visionreqlocal.txt\n",
    "    \n",
    "    conda activate via\n",
    "    \n",
    "    bash install-pip.sh\n",
    "\n",
    "Si todo ha ido bien puedes borrar el archivo `via-local.zip` y el directorio `via-local` descomprimido.\n",
    "\n",
    "Debe funcionar todo sin mayores problemas, pero tiene versiones de los paquetes que no son recientes y es más difícil actualizarla."
   ]
  },
  {
   "cell_type": "markdown",
   "id": "2bb7c5b7",
   "metadata": {},
   "source": [
    "## Compilar OpenCV"
   ]
  },
  {
   "cell_type": "markdown",
   "id": "5f95e1e1",
   "metadata": {},
   "source": [
    "Una opción mejor es compilar OpenCV. Requiere más tiempo pero es recomendable para tener un entorno más completo y actualizado.\n",
    "\n",
    "    wget https://robot.inf.um.es/material/va/opencv.tar.gz\n",
    "    \n",
    "    tar -xzf opencv.tar.gz\n",
    "\n",
    "Hace falta instalar algunos paquetes con apt-get. Se hace con un script incluido en el tgz:\n",
    "\n",
    "    cd opencv\n",
    "    \n",
    "    bash packages\n",
    "\n",
    "En ubuntus recientes es necesario hacer antes lo siguiente:\n",
    "\n",
    "    sudo add-apt-repository ppa:rock-core/qt4 \n",
    "    sudo apt update \n",
    "\n",
    "\n",
    "\n",
    "Creamos el entorno:\n",
    "\n",
    "    conda create --name viacv\n",
    "    \n",
    "    conda activate viacv\n",
    "    \n",
    "    conda install numpy\n",
    "    \n",
    "Lanzamos el script de configuración incluido en el tgz: \n",
    "    \n",
    "    cd build\n",
    "    \n",
    "    bash opencvconfig\n",
    "\n",
    "Revisamos la salida para ver si están las opciones deseadas: en la opción Video I/O debe salir YES en FFMPEG y en v4l/v4l2. (Para compilarlo con CUDA consulta al profesor).\n",
    "\n",
    "    make -j4\n",
    "    \n",
    "    make install\n",
    "    \n",
    "Comprobamos que se ha instalado correctamente:\n",
    "\n",
    "    cd\n",
    "\n",
    "    python\n",
    "    \n",
    "    import cv2\n",
    "    \n",
    "    cv2.__version__\n",
    "    \n",
    "Y completamos la instalación con\n",
    "\n",
    "    pip install pyqtgraph pyqt5 pyopengl\n",
    "    pip install dlib\n",
    "    pip install http://robot.inf.um.es/material/umucv.tar.gz\n",
    "    \n",
    "    pip install matplotlib"
   ]
  },
  {
   "cell_type": "markdown",
   "id": "9eca5ea0",
   "metadata": {},
   "source": [
    "Se recomienda no instalar jupyter en este entorno porque puede interferir con las versiones  de qt que acabamos de instalar. Es mejor utilizar otro entorno sencillo para trabajar con los notebooks y reservar viacv para los \"programas\" interactivos."
   ]
  },
  {
   "cell_type": "markdown",
   "id": "ebeb0337",
   "metadata": {},
   "source": [
    "    conda deactivate viacv\n",
    "    conda activate base\n",
    "    conda install jupyter opencv"
   ]
  },
  {
   "cell_type": "markdown",
   "id": "bd4eb811",
   "metadata": {},
   "source": [
    "### MYBINDER"
   ]
  },
  {
   "cell_type": "markdown",
   "id": "796c2e93",
   "metadata": {},
   "source": [
    "Hemos creado una máquina virtual con los paquetes necesarios. A veces tarda un rato en arrancar y si te despistas un poco se cierra la sesión, pero es una herramienta útil para experimentar en un entorno reproducible.\n",
    "\n",
    "[VIA en mybinder](https://mybinder.org/v2/gh/albertoruiz/generic/master?filepath=Visi%C3%B3n_Artificial.ipynb)"
   ]
  }
 ],
 "metadata": {
  "kernelspec": {
   "display_name": "Python 3 (ipykernel)",
   "language": "python",
   "name": "python3"
  },
  "language_info": {
   "codemirror_mode": {
    "name": "ipython",
    "version": 3
   },
   "file_extension": ".py",
   "mimetype": "text/x-python",
   "name": "python",
   "nbconvert_exporter": "python",
   "pygments_lexer": "ipython3",
   "version": "3.8.5"
  }
 },
 "nbformat": 4,
 "nbformat_minor": 5
}

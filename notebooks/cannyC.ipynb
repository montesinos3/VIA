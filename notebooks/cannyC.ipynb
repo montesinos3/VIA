{
 "cells": [
  {
   "cell_type": "markdown",
   "metadata": {},
   "source": [
    "# Canny Non Maximum Suppresion (NMS)"
   ]
  },
  {
   "cell_type": "markdown",
   "metadata": {
    "editable": true,
    "slideshow": {
     "slide_type": ""
    },
    "tags": []
   },
   "source": [
    "Vamos a implementar partiendo de cero la etapa de **supresión de no máximos** del método de Canny."
   ]
  },
  {
   "cell_type": "markdown",
   "metadata": {},
   "source": [
    "## Python básico"
   ]
  },
  {
   "cell_type": "code",
   "execution_count": null,
   "metadata": {},
   "outputs": [],
   "source": [
    "import numpy             as np\n",
    "import cv2               as cv\n",
    "import matplotlib.pyplot as plt\n",
    "\n",
    "from matplotlib.pyplot import imshow, subplot, title, plot\n",
    "\n",
    "\n",
    "def fig(w,h):\n",
    "    plt.figure(figsize=(w,h))\n",
    "\n",
    "def readrgb(file):\n",
    "    return cv.cvtColor( cv.imread(\"../images/\"+file), cv.COLOR_BGR2RGB) \n",
    "\n",
    "def rgb2gray(x):\n",
    "    return cv.cvtColor(x,cv.COLOR_RGB2GRAY)\n",
    "\n",
    "def gray2float(x):\n",
    "    return x.astype(float) #/ 255\n",
    "\n",
    "# para ver imágenes monocromas autoescalando el rango\n",
    "def imshowg(x):\n",
    "    imshow(x, 'gray')\n",
    "    \n",
    "def grad(x):\n",
    "    gx =  cv.Sobel(x,-1,1,0)/8\n",
    "    gy =  cv.Sobel(x,-1,0,1)/8\n",
    "    return gx,gy"
   ]
  },
  {
   "cell_type": "markdown",
   "metadata": {},
   "source": [
    "En primer lugar preparamos la operación de discretización de ángulos."
   ]
  },
  {
   "cell_type": "code",
   "execution_count": null,
   "metadata": {
    "hide_input": true
   },
   "outputs": [],
   "source": [
    "cy,cx = np.mgrid[-50:50,-50:50]"
   ]
  },
  {
   "cell_type": "code",
   "execution_count": null,
   "metadata": {},
   "outputs": [],
   "source": [
    "ga = np.arctan2(cy,cx)\n",
    "imshow(ga); plt.colorbar();"
   ]
  },
  {
   "cell_type": "code",
   "execution_count": null,
   "metadata": {},
   "outputs": [],
   "source": [
    "gad = np.round(ga / np.pi * 4) % 4\n",
    "imshow(gad);"
   ]
  },
  {
   "cell_type": "markdown",
   "metadata": {},
   "source": [
    "Calculamos el módulo del gradiente y su ángulo discretizado en una imagen de prueba."
   ]
  },
  {
   "cell_type": "code",
   "execution_count": null,
   "metadata": {},
   "outputs": [],
   "source": [
    "if False:\n",
    "    x = np.zeros((500,500))\n",
    "    x[100:400,100:400] = 255\n",
    "    gx,gy = grad(cv.GaussianBlur(x,(0,0),20))\n",
    "else:\n",
    "    x   = gray2float(rgb2gray(readrgb('cube3.png')))\n",
    "    gx,gy = grad(cv.GaussianBlur(x,(0,0),5))\n",
    "\n",
    "gm = np.sqrt(gx**2+gy**2)\n",
    "ga = np.arctan2(gy,gx)\n",
    "gad = (np.round(ga / np.pi * 4) % 4).astype(np.uint8)\n",
    "\n",
    "fig(16,4)\n",
    "subplot(1,3,1); imshowg(x), plt.title('imagen');\n",
    "subplot(1,3,2); imshowg(gm), plt.title('módulo del gradiente');\n",
    "subplot(1,3,3); imshow(gad); plt.colorbar(); plt.title('código de ángulo');"
   ]
  },
  {
   "cell_type": "markdown",
   "metadata": {},
   "source": [
    "Implementación usando bucles de Python:"
   ]
  },
  {
   "cell_type": "code",
   "execution_count": null,
   "metadata": {},
   "outputs": [],
   "source": [
    "%%time\n",
    "\n",
    "nms = gm.copy() # nms: non maximum supression\n",
    "\n",
    "r,c = x.shape\n",
    "\n",
    "for i in range(1,r-1):\n",
    "    for j in range(1,c-1):\n",
    "        if    ((gad[i,j] == 0 and (gm[i,j] < gm[i,j-1] or gm[i,j] < gm[i,j+1]))\n",
    "           or  (gad[i,j] == 1 and (gm[i,j] < gm[i-1,j-1] or gm[i,j] < gm[i+1,j+1]))\n",
    "           or  (gad[i,j] == 2 and (gm[i,j] < gm[i-1,j] or gm[i,j] < gm[i+1,j]))    \n",
    "           or  (gad[i,j] == 3 and (gm[i,j] < gm[i-1,j+1] or gm[i,j] < gm[i+1,j-1]))):\n",
    "            nms[i,j] = 0  "
   ]
  },
  {
   "cell_type": "code",
   "execution_count": null,
   "metadata": {},
   "outputs": [],
   "source": [
    "imshow( nms , 'gray', interpolation='bicubic', );"
   ]
  },
  {
   "cell_type": "markdown",
   "metadata": {},
   "source": [
    "## Numpy"
   ]
  },
  {
   "cell_type": "markdown",
   "metadata": {},
   "source": [
    "Implementación usando operaciones vectorizadas de numpy:"
   ]
  },
  {
   "cell_type": "code",
   "execution_count": null,
   "metadata": {},
   "outputs": [],
   "source": [
    "# %%timeit\n",
    "\n",
    "G  = gm[1:-1,1:-1]\n",
    "Ga = gm[1:-1,2:]\n",
    "Gb = gm[:-2,2:]\n",
    "Gc = gm[:-2,1:-1]\n",
    "Gd = gm[:-2,:-2]\n",
    "Ge = gm[1:-1,:-2]\n",
    "Gf = gm[2:,:-2]\n",
    "Gg = gm[2:,1:-1]\n",
    "Gh = gm[2:,2:]\n",
    "\n",
    "A = gad[1:-1,1:-1]\n",
    "\n",
    "mask = ( (A==0) & (G > Ga) & (G > Ge) \n",
    "       | (A==1) & (G > Gd) & (G > Gh) \n",
    "       | (A==2) & (G > Gc) & (G > Gg)\n",
    "       | (A==3) & (G > Gb) & (G > Gf) )\n",
    "\n",
    "canny = np.zeros_like(G)\n",
    "canny[mask]=G[mask]"
   ]
  },
  {
   "cell_type": "code",
   "execution_count": null,
   "metadata": {},
   "outputs": [],
   "source": [
    "fig(12,8)\n",
    "imshow( canny, 'gray', interpolation='bicubic');"
   ]
  },
  {
   "cell_type": "markdown",
   "metadata": {},
   "source": [
    "## C"
   ]
  },
  {
   "cell_type": "markdown",
   "metadata": {},
   "source": [
    "El código anterior se puede acelerar aún más si lo escribimos en un lenguaje compilado. No es complicado escribir [extensiones](https://docs.scipy.org/doc/numpy-1.13.0/user/c-info.python-as-glue.html) para manipular arrays de numpy."
   ]
  },
  {
   "cell_type": "markdown",
   "metadata": {},
   "source": [
    "Vamos a usar C plano para acceder directamente a los arrays de imagen.\n",
    "\n",
    "La forma de crear un interfaz con C se explicará en detalle en el laboratorio. Cuando esté terminado tendremos una función *wrapper* que admite los tipos de Python."
   ]
  },
  {
   "cell_type": "code",
   "execution_count": null,
   "metadata": {},
   "outputs": [],
   "source": [
    "# Añadimos por programa la ubicación del nuestro módulo al path.\n",
    "# (Otra posibilidad es añadir esa ruta a PYTHONPATH)\n",
    "\n",
    "import os, sys\n",
    "sys.path.append(os.getcwd()+\"/../code/inC\")"
   ]
  },
  {
   "cell_type": "code",
   "execution_count": null,
   "metadata": {},
   "outputs": [],
   "source": [
    "import cfuns"
   ]
  },
  {
   "cell_type": "code",
   "execution_count": null,
   "metadata": {},
   "outputs": [],
   "source": [
    "cnms = cfuns.nms(gm,gad)\n",
    "\n",
    "fig(12,8)\n",
    "imshow(cnms, 'gray', interpolation='bicubic');"
   ]
  },
  {
   "cell_type": "code",
   "execution_count": null,
   "metadata": {},
   "outputs": [],
   "source": [
    "%%timeit\n",
    "cnms = cfuns.nms(gm,gad)"
   ]
  },
  {
   "cell_type": "markdown",
   "metadata": {},
   "source": [
    "Si recompilamos con optimización bajamos a 2ms."
   ]
  },
  {
   "cell_type": "markdown",
   "metadata": {},
   "source": [
    "Es una mejora significativa pero cuyo impacto en el rendimiento global dependerá mucho del resto de etapas de la cadena de proceso. Solo tiene sentido dedicar tiempo a optimizar las etapas más lentas."
   ]
  },
  {
   "cell_type": "markdown",
   "metadata": {},
   "source": [
    "La implementación en C no admite directamente slices, pero si es necesario hacemos una copia de las entradas."
   ]
  },
  {
   "cell_type": "code",
   "execution_count": null,
   "metadata": {},
   "outputs": [],
   "source": [
    "cnms = cfuns.nms(gm[::4,::4].copy(),gad[::4,::4].copy())\n",
    "\n",
    "imshow(cnms, 'gray', interpolation='bicubic');"
   ]
  },
  {
   "cell_type": "markdown",
   "metadata": {},
   "source": [
    "Comparemos el rendimiento con la implementación de OpenCV."
   ]
  },
  {
   "cell_type": "code",
   "execution_count": null,
   "metadata": {},
   "outputs": [],
   "source": [
    "xs = cv.GaussianBlur(x,(0,0),5).astype(np.uint8)"
   ]
  },
  {
   "cell_type": "code",
   "execution_count": null,
   "metadata": {},
   "outputs": [],
   "source": [
    "%%timeit\n",
    "\n",
    "cannycv = cv.Canny(xs,20,60)"
   ]
  },
  {
   "cell_type": "markdown",
   "metadata": {
    "editable": true,
    "slideshow": {
     "slide_type": ""
    },
    "tags": []
   },
   "source": [
    "Es mucho más rápido, teniendo en cuenta que tiene que calcular los gradientes y aplicar el doble umbralizado. Podemos echar un vistazo al código fuente [canny.cpp](https://github.com/opencv/opencv/blob/master/modules/imgproc/src/canny.cpp). Son más de 1000 líneas de código C++ con implementaciones alternativas dependiendo de las instrucciones disponibles en cada procesador."
   ]
  }
 ],
 "metadata": {
  "hide_input": false,
  "kernelspec": {
   "display_name": "Python 3 (ipykernel)",
   "language": "python",
   "name": "python3"
  },
  "language_info": {
   "codemirror_mode": {
    "name": "ipython",
    "version": 3
   },
   "file_extension": ".py",
   "mimetype": "text/x-python",
   "name": "python",
   "nbconvert_exporter": "python",
   "pygments_lexer": "ipython3",
   "version": "3.12.8"
  },
  "varInspector": {
   "cols": {
    "lenName": 16,
    "lenType": 16,
    "lenVar": 40
   },
   "kernels_config": {
    "python": {
     "delete_cmd_postfix": "",
     "delete_cmd_prefix": "del ",
     "library": "var_list.py",
     "varRefreshCmd": "print(var_dic_list())"
    },
    "r": {
     "delete_cmd_postfix": ") ",
     "delete_cmd_prefix": "rm(",
     "library": "var_list.r",
     "varRefreshCmd": "cat(var_dic_list()) "
    }
   },
   "types_to_exclude": [
    "module",
    "function",
    "builtin_function_or_method",
    "instance",
    "_Feature"
   ],
   "window_display": false
  }
 },
 "nbformat": 4,
 "nbformat_minor": 4
}

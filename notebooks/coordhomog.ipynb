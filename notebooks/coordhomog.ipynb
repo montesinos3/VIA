{
 "cells": [
  {
   "cell_type": "markdown",
   "metadata": {},
   "source": [
    "# Coordenadas homogéneas"
   ]
  },
  {
   "cell_type": "markdown",
   "metadata": {},
   "source": [
    "Primeros pasos con puntos y rectas del plano, usando [coordenadas homogéneas](https://en.wikipedia.org/wiki/Homogeneous_coordinates) (wikipedia):\n",
    "\n",
    "> In mathematics, homogeneous coordinates or projective coordinates, introduced by August Ferdinand Möbius in his 1827 work Der barycentrische Calcül,[1][2] are a system of coordinates used in projective geometry, as Cartesian coordinates are used in Euclidean geometry. They have the advantage that the coordinates of points, including points at infinity, can be represented using finite coordinates. Formulas involving homogeneous coordinates are often simpler and more symmetric than their Cartesian counterparts. Homogeneous coordinates have a range of applications, including computer graphics and 3D computer vision, where they allow affine transformations and, in general, projective transformations to be easily represented by a matrix. "
   ]
  },
  {
   "cell_type": "markdown",
   "metadata": {},
   "source": [
    "## Resumen teórico informal"
   ]
  },
  {
   "cell_type": "markdown",
   "metadata": {},
   "source": [
    "### Espacio vectorial"
   ]
  },
  {
   "cell_type": "markdown",
   "metadata": {},
   "source": [
    "Es un conjunto cuyos elementos se pueden expresar como **combinación lineal** de algunos de ellos, la **base** de representación, elegida por conveniencia. Los coeficientes de la combinación son las **coordenadas** del elemento en esa base.\n",
    "\n",
    "$$ \\vec{x} = x_1 \\vec{e}^1 + x_2 \\vec{e}^2 + \\ldots x_n \\vec{e}^n  = \\begin{bmatrix}\\vec{e}^1 & \\vec{e}^2 & \\ldots&\\vec{e}^1\\end{bmatrix} \\begin{bmatrix}x_1\\\\x_2\\\\\\vdots\\\\x_n\\end{bmatrix} = E\\; \\boldsymbol x$$\n",
    "\n",
    "Normalmente identificamos el vector $\\vec{x}$ con la tupla de coordenadas $\\boldsymbol{x}$, dando por supuesta la base."
   ]
  },
  {
   "cell_type": "markdown",
   "metadata": {},
   "source": [
    "### Transformaciones lineales"
   ]
  },
  {
   "cell_type": "markdown",
   "metadata": {},
   "source": [
    "Son las más naturales para operar con espacios vectoriales. La transformación de una combinación lineal es una combinación lineal de transformaciones:\n",
    "\n",
    "$$T(a \\boldsymbol x + b \\boldsymbol y) = a T(\\boldsymbol x) + b T(\\boldsymbol y)$$\n",
    "\n",
    "Por tanto, una transformación lineal queda completamente definida por su acción sobre la base.\n",
    "\n",
    "Las coordenadas del resultado son combinaciones lineales de coordenadas de la entrada: solo involucran multiplicaciones por constantes y sumas. La transformación se puede representar mediante una **matriz de coeficientes**.\n",
    "\n",
    "La implementación de la **aplicación** de la transformación a un vector es un producto matriz-vector. La **composición** de transformaciones da lugar a un producto de matrices.\n",
    "\n",
    "Si conseguimos reformular un problema mediante espacios vectoriales y transformaciones lineales daremos un paso muy importante hacia su resolución, al disponer de las potentes herramientas de álgebra lineal.\n",
    "\n",
    "[El cambio de base es una transformación lineal.]: vale\n",
    "\n",
    "Algunas transformaciones geométricas como los cambios de escala y la rotaciones respecto al origen son lineales cuando utilizamos coordenadas cartesianas. Pero los desplazamientos no lo son (y por tanto tampoco las rotaciones o escalados respecto a puntos arbitrarios), ni la transformación de perspectiva, en la que aparece una división de coordenadas. \n",
    "Estas transformaciones son la base de la geometría visual. Como veremos en el notebook siguiente, por suerte todas ellas son lineales cuando usamos coordenadas homogéneas.\n",
    "\n",
    "Antes vamos a familiarizarnos con este tipo coordenadas y con algunas operaciones que se facilitan mucho con ellas."
   ]
  },
  {
   "cell_type": "markdown",
   "metadata": {},
   "source": [
    "### Producto escalar"
   ]
  },
  {
   "cell_type": "markdown",
   "metadata": {},
   "source": [
    "Los vectores, sin más, son entes abstractos. Es mejor trabajar en un espacio euclídeo, donde los vectores tienen tamaño y podemos medir distancias y ángulos entre ellos. Esto se consigue cuando el espacio tiene una **métrica**, dada por una función (bi)lineal que acepta dos vectores y produce un número que indica el grado de alineamiento entre ellos (**inner product**). Con ella podemos definir el módulo de un vector y con ello distancias y ángulos.\n",
    "\n",
    "$$\\vec u \\cdot \\vec v = u_1v_1 + u_2v_2 \\in \\mathbb R $$\n",
    "\n",
    "$$\\left\\lVert u\\right\\rVert^2 = \\vec u \\cdot \\vec u$$\n",
    "\n",
    "$$cos \n",
    "\\angle (\\vec{u}, \\vec{v}) = \\frac{\\vec u \\cdot \\vec v }{ \\left\\lVert u\\right\\rVert \\left\\lVert v\\right\\rVert} $$\n",
    "\n",
    "(Las dos fórmulas anteriores son válidas en espacios de cualquier dimensión.)\n",
    "\n",
    "Los vectores se pueden identificar con matrices columna, por tanto el producto escalar se puede expresar con el operador punto (*dot product*) o como un producto de matrices fila y columna:\n",
    "\n",
    "$$ \\vec u \\cdot \\vec v = \\vec u^\\mathsf T \\vec v$$\n",
    "\n",
    "Algunas transformaciones del espacio, como por ejemplo una rotación, dejan la métrica invariante: ni la longitud de un vector ni el ángulo entre dos vectores cambian tras sufrir una rotación. Pero otras, como la transformación de perspectiva, sí cambian la métrica. De alguna manera, cuando vemos el espacio (o un plano, como por ejemplo un campo de deporte) proyectado en una imagen, la métrica se pierde y las medidas en la imagen no corresponden con las medidas del plano real. Pero en realidad la métrica no se ha perdido del todo. Con un poco de suerte encontraremos pistas en la imagen que permitan recuperarla."
   ]
  },
  {
   "cell_type": "markdown",
   "metadata": {},
   "source": [
    "### Producto vectorial"
   ]
  },
  {
   "cell_type": "markdown",
   "metadata": {},
   "source": [
    "El producto vectorial (*[cross product](https://en.wikipedia.org/wiki/Cross_product)*) de dos vectores $\\vec u$ y  $\\vec v$  de $\\mathbb R^3$ produce un vector $\\vec w = \\vec u \\times \\vec v$  perpendicular a ambos, cuyo módulo es el área del paralelogramo definido por $\\vec u$ y $\\vec v$, y su dirección viene dada por la regla de la mano derecha.\n",
    "\n",
    "El producto vectorial se utiliza mucho en Física. Nosotros lo utilizaremos como una herramienta muy útil para ciertas operaciones geométricas.\n",
    "\n",
    "El producto escalar \"responde\" (o \"detecta\") vectores alineados, mientras que el producto vectorial lo hace a vectores perpendiculares. Y viceversa: si $\\vec u$ y  $\\vec v$ son perpendiculares $\\vec u \\cdot \\vec v = 0$, y si $\\vec u$ y  $\\vec v$ son paralelos (proporcionales,  $\\vec u = \\alpha\\vec v$), entonces  $\\vec u \\times \\vec v = (0,0,0)$.\n",
    "\n",
    "Los operadores \"dot\" ($\\cdot$) y \"cross\" ($\\times$) serán nuestras herramientas básicas."
   ]
  },
  {
   "cell_type": "markdown",
   "metadata": {},
   "source": [
    "### Coordenadas homogéneas"
   ]
  },
  {
   "cell_type": "markdown",
   "metadata": {},
   "source": [
    "Las coordenadas homogéneas son una \"ampliación\" de las coordenadas cartesianas.\n",
    "\n",
    "De forma no muy rigurosa, vamos a asociar los puntos del plano con el espacio vectorial $\\mathbb R^2$. Los elementos se especifican con dos coordenadas $p=(x,y)$.\n",
    "\n",
    "Las coordenadas homogéneas de este punto $p$ son las mismas $x$ e $y$, a las que simplemente **añadimos un uno**: $(x,y,1)$. Y además, podemos multiplicar a los tres elementos de esta tripleta por un factor $\\lambda$ cualquiera, distinto de cero.\n",
    "\n",
    "$$(x,y) \\rightarrow \\lambda(x,y,1) $$\n",
    "\n",
    "Ejemplo: el punto de coordenadas cartesianas $(2,-3)$ tiene coordenadas homogéneas $(2,-3,1)$. Si multiplicamos por $5$ tenemos $(10,-15,5)$, que son otras coordenadas homogéneas equivalentes del mismo punto. Si multiplicamos por $-0.5$ tenemos otra posible tripleta  $(-1, 1.5, -0.5)$  de coordenadas homogéneas del punto $(2,-3)$. A un punto le corresponde una sola 2-tupla de coordenadas cartesianas, pero infinitas tripletas de coordenadas homogéneas.\n",
    "\n",
    "Podemos recuperar las coordenadas cartesianas a partir de las coordenadas homogéneas. Solo hay que dividir por la tercera componente:\n",
    "\n",
    "$$(x,y,w) \\rightarrow \\left(\\frac{x}{w}, \\frac{y}{w} \\right)$$\n",
    "\n",
    "Esta operación elimina el posible factor $\\lambda$, elimina la \"homogeneidad\". El término \"homogéneo\" significa que el objeto matemático (vector, matriz) tiene un factor de escala arbitrario.\n",
    "\n",
    "Cada punto del plano $\\mathbb R^2$ se representa con un subespacio vectorial de $\\mathbb R^3$: todos los puntos de la recta que une el punto $(x,y,1)$ y el origen (0,0,0). El conjunto de todos esos puntos se llama \"rayo\". El conjunto de todos los rayos (subespacios vectoriales) es $\\mathbb P^2$, el plano proyectivo.\n",
    "\n",
    "¿Qué ventajas tiene trabajar con coordenadas homogéneas?. Hay muchas. La primera es que las transformaciones geométricas que nos interesan se convierten en transformaciones lineales (matrices). La segunda es que en el plano proyectivo aparecen nuevos puntos de gran importancia en la geometría visual. Son puntos $(x,y,0)$ que no tienen su correspondiente punto cartesiano, pero que pueden aparecer como resultado de operaciones geométricas. Son puntos \"ideales\", o \"del infinito\", en cada dirección. Como veremos a continuación podemos operar con ellos sin problemas computacionales de ningún tipo (usando coordenadas cartesianas hay ciertas operaciones que producen divisiones por cero). Las bibliotecas gráficas y las tarjetas aceleradoras admiten de forma natural coordenadas homogéneas.\n",
    "\n",
    "El proceso es el mismo en 3D. El espacio cartesiano $\\mathbb R^3$ tiene su correspondiente espacio proyectivo $\\mathbb P^3$."
   ]
  },
  {
   "cell_type": "markdown",
   "metadata": {},
   "source": [
    "### Puntos y rectas"
   ]
  },
  {
   "cell_type": "markdown",
   "metadata": {},
   "source": [
    "La ecuación de una recta de la forma $y=mx+b$ no vale para rectas verticales. Es mejor usar la forma implícita\n",
    "\n",
    "$$ax+by+c=0$$\n",
    "\n",
    "que puede intepretarse como \n",
    "\n",
    "$$l \\cdot p =0$$\n",
    "\n",
    "donde $l=(a,b,c)$ y $p=(x,y,1)$ son las coordenadas homogéneas de la recta y el punto respectivamente.\n",
    "\n",
    "Cuando $l\\cdot p = 0$ decimos que la recta $l$ pasa por el punto $p$, o que el punto $p$ está en la recta $l$. El punto y la recta del plano son objetos duales. Ambos se representan con una tripleta homogénea. (Viendo simplemente los 3 números no podemos saber si se refieren a un punto o una recta.)\n",
    "\n",
    "Hay dos operaciones fundamentales que involucran a los puntos y las rectas del plano:\n",
    "\n",
    "1) Calcular la recta $l$ que pasa por dos puntos $p$ y $q$.\n",
    "\n",
    "Esto se puede hacer fácilmente resolviendo un sistema de ecuaciones (hay otras formas). Pero hay una forma de hacerlo que es todavía más simple, aprovechando la operación de producto vectorial. Usando coordenadas homogéneas:\n",
    "\n",
    "$$l = p \\times q$$\n",
    "\n",
    "Es fácil ver que esta recta $l$, vista como un vector de $\\mathbb R^3$, será perpendicular a los dos vectores de $\\mathbb R^3$ que contienen las coordenadas homogéneas de $p$ y $q$. Por tanto, $l\\cdot p = l\\cdot q  = 0$. Ambos puntos verifican la ecuación de la recta.\n",
    "\n",
    "2) Calcular el punto $p$ de intersección de dos rectas $l$ y $m$.\n",
    "\n",
    "Esto también se resuelve con un sistema de ecuaciones. Pero, de nuevo, el producto vectorial ofrece un método directo:\n",
    "\n",
    "$$p = l \\times m$$\n",
    "\n",
    "Como vectores de $\\mathbb R^3$, $p$ será perpendicular a $l$ y $m$, por lo que $l \\cdot p = m \\cdot p = 0$. El punto está en las dos rectas.\n",
    "\n",
    "Si intentamos calcular la intersección de dos rectas paralelas mediante el método tradicional, con coordenadas cartesianas, encontramos que el determinante del sistema de ecuaciones es cero. Solo hay una ecuación independiente, y por tanto el problema no tiene solución.\n",
    "\n",
    "Pero la operación de producto vectorial de coordenadas homogéneas produce un punto perfectamente válido también en este caso. La tercera coordenada homogénea será cero, lo que significa que es un punto ideal, que está infinitamente alejado (en la dirección de las dos rectas paralelas). Podemos continuar operando tranquilamente con él. Veremos un ejemplo de esto dentro de un momento."
   ]
  },
  {
   "cell_type": "markdown",
   "metadata": {},
   "source": [
    "## Experimentos"
   ]
  },
  {
   "cell_type": "markdown",
   "metadata": {},
   "source": [
    "En primer lugar preparamos unas utilidades para dibujar puntos y rectas."
   ]
  },
  {
   "cell_type": "code",
   "execution_count": null,
   "metadata": {},
   "outputs": [],
   "source": [
    "import numpy as np\n",
    "import numpy.linalg as la\n",
    "import cv2   as cv\n",
    "import matplotlib.pyplot as plt\n",
    "\n",
    "def fig(w,h):\n",
    "    plt.figure(figsize=(w,h))\n",
    "\n",
    "def readrgb(file):\n",
    "    return cv.cvtColor( cv.imread('../images/'+file), cv.COLOR_BGR2RGB) \n",
    "\n",
    "# muestra un polígono cuyos nodos son las filas de un array 2D\n",
    "def shcont(c, color='blue', nodes=True):\n",
    "    x = c[:,0]\n",
    "    y = c[:,1]\n",
    "    x = np.append(x,x[0])\n",
    "    y = np.append(y,y[0])\n",
    "    plt.plot(x,y,color)\n",
    "    if nodes: plt.plot(x,y,'.',color=color, markersize=11)\n",
    "\n",
    "# muestra un punto cartesiano\n",
    "def shpoint(p, color='blue'):\n",
    "    plt.plot(p[0],p[1],'.',color=color, markersize=15)        \n",
    "\n",
    "# dibuja una recta \"infinita\"\n",
    "def shline(l,xmin=-2000,xmax=2000, color='red'):\n",
    "    a,b,c = l / la.norm(l)\n",
    "    if abs(b) < 1e-6:\n",
    "        x = -c/a\n",
    "        r = np.array([[x,-2000],[x,2000]])\n",
    "    else:\n",
    "        y0 = (-a*xmin - c) / b\n",
    "        y1 = (-a*xmax - c) / b\n",
    "        r = np.array([[xmin,y0],[xmax,y1]])\n",
    "    shcont(r,color=color,nodes=False)"
   ]
  },
  {
   "cell_type": "markdown",
   "metadata": {},
   "source": [
    "Funciones para convertir coordenadas cartesianas en homoǵeneas y viceversa:"
   ]
  },
  {
   "cell_type": "code",
   "execution_count": null,
   "metadata": {},
   "outputs": [],
   "source": [
    "# convierte un conjunto de puntos ordinarios (almacenados como filas de la matriz de entrada)\n",
    "# en coordenas homogéneas (añadimos una columna de 1)\n",
    "def homog(x):\n",
    "    ax = np.array(x)\n",
    "    uc = np.ones(ax.shape[:-1]+(1,))\n",
    "    return np.append(ax,uc,axis=-1)\n",
    "\n",
    "\n",
    "# convierte en coordenadas tradicionales\n",
    "def inhomog(x):\n",
    "    ax = np.array(x)\n",
    "    return ax[..., :-1] / ax[...,[-1]]"
   ]
  },
  {
   "cell_type": "markdown",
   "metadata": {},
   "source": [
    "Producto vectorial."
   ]
  },
  {
   "cell_type": "code",
   "execution_count": null,
   "metadata": {},
   "outputs": [],
   "source": [
    "# Está disponible en numpy, pero es conveniente\n",
    "# normalizar el resultado para que las coordenadas\n",
    "# no crezcan cada vez más al hacer varias operaciones.\n",
    "def cross(u,v):\n",
    "    r = np.cross(u,v)\n",
    "    return r / la.norm(r)"
   ]
  },
  {
   "cell_type": "markdown",
   "metadata": {},
   "source": [
    "Veamos algunos ejemplos de uso."
   ]
  },
  {
   "cell_type": "markdown",
   "metadata": {},
   "source": [
    "La función `homog` admite vectores individuales de cualquier dimensión (no hace falta que sean np.array)."
   ]
  },
  {
   "cell_type": "code",
   "execution_count": null,
   "metadata": {},
   "outputs": [],
   "source": [
    "homog( (1,2) )"
   ]
  },
  {
   "cell_type": "markdown",
   "metadata": {},
   "source": [
    "La función `inhomog` produce el resultado inverso, recupera las coordenadas cartesianas a partir de las homogéneas."
   ]
  },
  {
   "cell_type": "code",
   "execution_count": null,
   "metadata": {},
   "outputs": [],
   "source": [
    "inhomog([6,4,2])"
   ]
  },
  {
   "cell_type": "markdown",
   "metadata": {},
   "source": [
    "Es más frecuente convertir un conjunto de puntos a la vez."
   ]
  },
  {
   "cell_type": "code",
   "execution_count": null,
   "metadata": {},
   "outputs": [],
   "source": [
    "homog([( 1,2),\n",
    "       ( 4,4),\n",
    "       (-3,3)])"
   ]
  },
  {
   "cell_type": "code",
   "execution_count": null,
   "metadata": {},
   "outputs": [],
   "source": [
    "inhomog([(1,2,5),\n",
    "         (4,4,2)])"
   ]
  },
  {
   "cell_type": "markdown",
   "metadata": {},
   "source": [
    "Multiplicar por un factor cualquiera las coordenadas homogéneas no afecta a las cartesianas:"
   ]
  },
  {
   "cell_type": "code",
   "execution_count": null,
   "metadata": {},
   "outputs": [],
   "source": [
    "inhomog(3*homog([[1,2],\n",
    "                 [4,4]]))"
   ]
  },
  {
   "cell_type": "markdown",
   "metadata": {},
   "source": [
    "El paso siguiente es practicar con las operaciones de \"unión\" e \"intersección\" de puntos y rectas con coordenadas homogéneas."
   ]
  },
  {
   "cell_type": "markdown",
   "metadata": {},
   "source": [
    "En primer lugar calculamos la recta que pasa por dos puntos."
   ]
  },
  {
   "cell_type": "code",
   "execution_count": null,
   "metadata": {},
   "outputs": [],
   "source": [
    "p, q = homog([(1,2),\n",
    "              (4,4)])\n",
    "print(f'p={p}')\n",
    "print(f'q={q}')\n",
    "\n",
    "l = np.cross(p,q)\n",
    "\n",
    "print(f'l={l}')\n",
    "\n",
    "fig(6,6); plt.axis([-1,5,-1,5]);\n",
    "shline(l)\n",
    "shpoint(p)\n",
    "shpoint(q)"
   ]
  },
  {
   "cell_type": "markdown",
   "metadata": {},
   "source": [
    "A continuación calculamos el punto de intersección de dos rectas."
   ]
  },
  {
   "cell_type": "code",
   "execution_count": null,
   "metadata": {},
   "outputs": [],
   "source": [
    "l = (2,-3,4)\n",
    "m = (1,0,-3)\n",
    "\n",
    "p = np.cross(l,m)\n",
    "\n",
    "print(f'p={p}')\n",
    "\n",
    "fig(6,6); plt.axis([-1,5,-1,5]);\n",
    "shline(l)\n",
    "shline(m)\n",
    "shpoint(inhomog(p))"
   ]
  },
  {
   "cell_type": "markdown",
   "metadata": {},
   "source": [
    "Observa que hemos impreso las coordenadas homogeneas de $p$, aunque para dibujarlo lo pasamos a cartesianas. La recta $m$ es vertical, por lo que no se podría usar la representación $y=ax+b$."
   ]
  },
  {
   "cell_type": "markdown",
   "metadata": {},
   "source": [
    "La intersección de rectas paralelas da un punto en el infinito."
   ]
  },
  {
   "cell_type": "code",
   "execution_count": null,
   "metadata": {},
   "outputs": [],
   "source": [
    "l = (2,-3,4)\n",
    "m = (4,-6,3)\n",
    "\n",
    "p = np.cross(l,m)\n",
    "print(p)\n",
    "\n",
    "fig(6,6); plt.axis([-1,5,-1,5]);\n",
    "shline(l)\n",
    "shline(m)"
   ]
  },
  {
   "cell_type": "markdown",
   "metadata": {},
   "source": [
    "Se puede seguir trabajando tranquilamente con él. Por ejemplo, no hay problema en calcular la recta que pasa por un punto normal $(1,2)$ y otro en el infinito en la dirección diagonal $(1,1,0)$:"
   ]
  },
  {
   "cell_type": "code",
   "execution_count": null,
   "metadata": {},
   "outputs": [],
   "source": [
    "fig(6,6); plt.axis([-1,5,-1,5]);\n",
    "\n",
    "shline(cross((1,2,1),(1,1,0)))\n",
    "shpoint((1,2))"
   ]
  },
  {
   "cell_type": "markdown",
   "metadata": {},
   "source": [
    "### Horizonte de un plano a partir de la imagen de un rectángulo"
   ]
  },
  {
   "cell_type": "markdown",
   "metadata": {},
   "source": [
    "El horizonte de un plano es una recta que contiene la imagen de los puntos que están infinitamente alejados en el plano original. Aunque no se vea directamente en la imagen, su posición puede deducirse porque contiene los puntos de fuga de rectas paralelas."
   ]
  },
  {
   "cell_type": "markdown",
   "metadata": {},
   "source": [
    "Si vemos un rectángulo tenemos dos juegos de rectas en la imagen que sabemos que son paralelas en el mundo real. Esto permite encontrar el horizonte del plano en el que está dicho rectángulo."
   ]
  },
  {
   "cell_type": "code",
   "execution_count": null,
   "metadata": {},
   "outputs": [],
   "source": [
    "img = readrgb('disk1.jpg')\n",
    "\n",
    "plt.imshow(img);"
   ]
  },
  {
   "cell_type": "markdown",
   "metadata": {},
   "source": [
    "En este caso los vértices del rectángulo se han tomado a mano y a ojo. (En realidad en esa imagen tenemos un cuadrado, que aporta más información, pero eso no lo usamos en este ejercicio)."
   ]
  },
  {
   "cell_type": "code",
   "execution_count": null,
   "metadata": {},
   "outputs": [],
   "source": [
    "ref = np.array([\n",
    "        [140,280],\n",
    "        [40,140],\n",
    "        [225,100],\n",
    "        [350,200]])\n",
    "\n",
    "plt.imshow(img);\n",
    "shcont(ref,color='red')"
   ]
  },
  {
   "cell_type": "markdown",
   "metadata": {},
   "source": [
    "Pasamos a homogéneas:"
   ]
  },
  {
   "cell_type": "code",
   "execution_count": null,
   "metadata": {},
   "outputs": [],
   "source": [
    "r0,r1,r2,r3 = href = homog(ref)\n",
    "href"
   ]
  },
  {
   "cell_type": "markdown",
   "metadata": {},
   "source": [
    "Mediante el producto vectorial calculamos las 4 rectas que unen los vértices, formando los lados del cuadrado, y con las dos intersecciones obtenemos dos puntos del horizonte, que finalmente unimos."
   ]
  },
  {
   "cell_type": "code",
   "execution_count": null,
   "metadata": {},
   "outputs": [],
   "source": [
    "l1 = cross(r1,r2)\n",
    "l2 = cross(r0,r3)\n",
    "\n",
    "l3 = cross(r0,r1)\n",
    "l4 = cross(r2,r3)\n",
    "\n",
    "ph = cross(l1,l2)\n",
    "qh = cross(l3,l4)\n",
    "\n",
    "p = inhomog(ph)\n",
    "q = inhomog(qh)\n",
    "\n",
    "horiz = cross(ph,qh)\n",
    "\n",
    "fig(12,12)\n",
    "plt.imshow(img)\n",
    "\n",
    "shline(l1,color='green')\n",
    "shline(l2,color='green')\n",
    "shline(l3,color='green')\n",
    "shline(l4,color='green')\n",
    "shline(horiz,color='red')\n",
    "shcont(ref);\n",
    "shpoint(p,color='orange')\n",
    "shpoint(q,color='orange')\n",
    "\n",
    "plt.axis([-400,1200,400,-400]);"
   ]
  },
  {
   "cell_type": "markdown",
   "metadata": {},
   "source": [
    "Por supuesto, lo ideal sería detectar automáticamente los vértices del rectángulo y mostrar el resultado en vivo con la webcam. Esto lo haremos en la sesión práctica."
   ]
  },
  {
   "cell_type": "markdown",
   "metadata": {},
   "source": [
    "En una vista frontal de un rectángulo los puntos de fuga están en el infinito y el horizonte no se puede dibujar, pero la ecuación de la recta se calcula bien:"
   ]
  },
  {
   "cell_type": "code",
   "execution_count": null,
   "metadata": {},
   "outputs": [],
   "source": [
    "ref = np.array([\n",
    "        [0,0],\n",
    "        [0,1],\n",
    "        [2,1],\n",
    "        [2,0]])\n",
    "\n",
    "href = homog(ref)\n",
    "\n",
    "l1 = cross(href[1,:],href[2,:])\n",
    "l2 = cross(href[0,:],href[3,:])\n",
    "\n",
    "l3 = cross(href[0,:],href[1,:])\n",
    "l4 = cross(href[2,:],href[3,:])\n",
    "\n",
    "ph = cross(l1,l2)\n",
    "qh = cross(l3,l4)\n",
    "\n",
    "horiz = cross(ph,qh)\n",
    "\n",
    "print(horiz)"
   ]
  },
  {
   "cell_type": "markdown",
   "metadata": {},
   "source": [
    "Esta recta se llama $l_\\infty$ y contiene a todos los puntos $(x,y,0)$ ideales (\"infinitamente alejados\")."
   ]
  },
  {
   "cell_type": "markdown",
   "metadata": {},
   "source": [
    "### Centro de un círculo definido por 3 puntos"
   ]
  },
  {
   "cell_type": "markdown",
   "metadata": {},
   "source": [
    "Ejercicio: define una función para obtener el centro de un círculo dados 3 puntos en la circunferencia. Intenta utilizar las operaciones de unión de puntos e intersección de rectas basadas en el producto vectorial."
   ]
  }
 ],
 "metadata": {
  "hide_input": false,
  "kernelspec": {
   "display_name": "Python 3 (ipykernel)",
   "language": "python",
   "name": "python3"
  },
  "language_info": {
   "codemirror_mode": {
    "name": "ipython",
    "version": 3
   },
   "file_extension": ".py",
   "mimetype": "text/x-python",
   "name": "python",
   "nbconvert_exporter": "python",
   "pygments_lexer": "ipython3",
   "version": "3.11.5"
  },
  "varInspector": {
   "cols": {
    "lenName": 16,
    "lenType": 16,
    "lenVar": 40
   },
   "kernels_config": {
    "python": {
     "delete_cmd_postfix": "",
     "delete_cmd_prefix": "del ",
     "library": "var_list.py",
     "varRefreshCmd": "print(var_dic_list())"
    },
    "r": {
     "delete_cmd_postfix": ") ",
     "delete_cmd_prefix": "rm(",
     "library": "var_list.r",
     "varRefreshCmd": "cat(var_dic_list()) "
    }
   },
   "types_to_exclude": [
    "module",
    "function",
    "builtin_function_or_method",
    "instance",
    "_Feature"
   ],
   "window_display": false
  }
 },
 "nbformat": 4,
 "nbformat_minor": 4
}

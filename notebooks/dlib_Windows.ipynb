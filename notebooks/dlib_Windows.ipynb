{
 "cells": [
  {
   "cell_type": "markdown",
   "metadata": {},
   "source": [
    "# Instalacion del paquete dlib"
   ]
  },
  {
   "cell_type": "markdown",
   "metadata": {},
   "source": [
    "Para poder ejecutar el programa *facelandmarks.py* debemos importar la libreria *dlib*. Para instalar en Windows el paquete, ejecutamos el siguiente comando en el terminal de conda:"
   ]
  },
  {
   "cell_type": "markdown",
   "metadata": {},
   "source": [
    "- conda install -c menpo dlib"
   ]
  },
  {
   "cell_type": "markdown",
   "metadata": {},
   "source": [
    "En windows, la libreria solamente soporta hasta la version 3.5 de python, luego si tenemos una versión mayor, debemos crear un nuevo entorno de trabajo. Desde Anaconda Navigator basta seleccionar la versión 3.5 de python al crear un nuevo entorno, desde el terminal podemos crear un nuevo entorno ejecutando:"
   ]
  },
  {
   "cell_type": "markdown",
   "metadata": {},
   "source": [
    "- conda create -n \"nombre del nuevo entorno\" python=3.5 anaconda"
   ]
  },
  {
   "cell_type": "markdown",
   "metadata": {},
   "source": [
    "Activamos el entorno mediante:\n",
    "- conda activate \"nombre del nuevo entorno\"\n",
    "\n",
    "y ya podemos instalar el paquete. Hay que tener en cuenta que en este nuevo entorno hay que instalar las librerías de opencv y umucv:\n",
    "- pip install --upgrade opencv-python\n",
    "- pip install --upgrade http://robot.inf.um.es/material/umucv.tar.gz"
   ]
  },
  {
   "cell_type": "markdown",
   "metadata": {},
   "source": [
    "## Ejecucion de facelandmaks.py"
   ]
  },
  {
   "cell_type": "markdown",
   "metadata": {},
   "source": [
    "En la carpeta umucv/data se encuentra un guión shell para descargarse un fichero de datos, el cual es necesario para la ejecución del programa."
   ]
  },
  {
   "cell_type": "markdown",
   "metadata": {},
   "source": [
    "A partir de python 3.6 se incluye un opción más para formatear una cadena, llamada *f-string*. Un ejemplo de este formato sería:\n",
    "\n",
    "- print(f'Cannot open source \"{dev}\"')\n",
    "\n",
    "En los ficheros *util.py* y *stream.py* de la librería umucv se utiliza esta nueva caracteristica, así, como nuestra versión de python será menor que 3.6, siempre que estemos trabajando en este entorno de trabajo y debamos usar las anteriores librerias, hay que sustituirlas por *utilw.py* y *streamw.py*. En estos ficheros se ha sustituido ese tipo de formateo por *str.format()*:\n",
    "\n",
    "- print('Cannot open source \"{dev}\"'.format(dev=dev))"
   ]
  },
  {
   "cell_type": "markdown",
   "metadata": {},
   "source": [
    "Por tanto, si en el fichero *facelandmarks.py* importamos *streamw.py* en vez de *stream.py*, el programa debería ejecutarse sin problemas. No obstante, es posible que si se trabaja desde este entorno, exista otro programa que falle debido a que use el formateo *f-string*, así que si no se va a utilizar la librería *dlib*, posiblemente sea recomendable trabajar en otro entorno con una versión de python más actualizada. "
   ]
  },
  {
   "cell_type": "markdown",
   "metadata": {},
   "source": [
    "Cualquier duda o problema, enviar a martin.garciac@um.es."
   ]
  }
 ],
 "metadata": {
  "kernelspec": {
   "display_name": "Python 3",
   "language": "python",
   "name": "python3"
  },
  "language_info": {
   "codemirror_mode": {
    "name": "ipython",
    "version": 3
   },
   "file_extension": ".py",
   "mimetype": "text/x-python",
   "name": "python",
   "nbconvert_exporter": "python",
   "pygments_lexer": "ipython3",
   "version": "3.7.3"
  }
 },
 "nbformat": 4,
 "nbformat_minor": 2
}

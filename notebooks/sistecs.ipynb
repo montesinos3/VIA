{
 "cells": [
  {
   "cell_type": "markdown",
   "metadata": {},
   "source": [
    "# Sistemas de ecuaciones sobredeterminados"
   ]
  },
  {
   "cell_type": "markdown",
   "metadata": {},
   "source": [
    "Este notebook repasa brevemente las herramientas apropiadas para resolver varios tipos de sistemas de ecuaciones lineales que surgen al estimar modelos a partir de observaciones."
   ]
  },
  {
   "cell_type": "markdown",
   "metadata": {},
   "source": [
    "## Sistemas determinados"
   ]
  },
  {
   "cell_type": "markdown",
   "metadata": {},
   "source": [
    "Resolvamos el sistema de ecuaciones\n",
    "\n",
    "$$\n",
    "\\begin{align*}\n",
    "x + 2y &= 3\\\\\n",
    "3x+4y  &= 5\n",
    "\\end{align*}\n",
    "$$\n",
    "\n",
    "o, en forma matricial $A X = B$:\n",
    "\n",
    "$$\\begin{bmatrix}1 & 2 \\\\ 3 & 4\\end{bmatrix} X = \\begin{bmatrix}3 \\\\ 5 \\end{bmatrix}\n",
    "$$"
   ]
  },
  {
   "cell_type": "code",
   "execution_count": null,
   "metadata": {},
   "outputs": [],
   "source": [
    "import numpy as np"
   ]
  },
  {
   "cell_type": "code",
   "execution_count": null,
   "metadata": {},
   "outputs": [],
   "source": [
    "a = np.array([[1,2]\n",
    "             ,[3,4]])\n",
    "\n",
    "b = np.array([3,5])"
   ]
  },
  {
   "cell_type": "code",
   "execution_count": null,
   "metadata": {},
   "outputs": [],
   "source": [
    "x = np.linalg.solve(a,b)"
   ]
  },
  {
   "cell_type": "code",
   "execution_count": null,
   "metadata": {},
   "outputs": [],
   "source": [
    "x"
   ]
  },
  {
   "cell_type": "code",
   "execution_count": null,
   "metadata": {},
   "outputs": [],
   "source": [
    "a @ x"
   ]
  },
  {
   "cell_type": "markdown",
   "metadata": {},
   "source": [
    "También se puede resolver con la inversa de la matriz de coeficientes. $x=A^{-1}B$"
   ]
  },
  {
   "cell_type": "code",
   "execution_count": null,
   "metadata": {},
   "outputs": [],
   "source": [
    "np.linalg.inv(a)"
   ]
  },
  {
   "cell_type": "code",
   "execution_count": null,
   "metadata": {},
   "outputs": [],
   "source": [
    "np.linalg.inv(a) @ b"
   ]
  },
  {
   "cell_type": "markdown",
   "metadata": {},
   "source": [
    "Pero normalmente se recomienda `solve` porque es más eficiente y estable numéricamente."
   ]
  },
  {
   "cell_type": "markdown",
   "metadata": {},
   "source": [
    "## Múltiples lados derechos"
   ]
  },
  {
   "cell_type": "markdown",
   "metadata": {},
   "source": [
    "Cuando hay múltiples lados derechos podemos ponerlos en una matriz y entonces tenemos una ecuación $AX=B$ donde $A$, $B$, y $X$ son matrices. Por ejemplo:\n",
    "\n",
    "$$\\begin{bmatrix}1 & 2 \\\\ 3 & 4\\end{bmatrix} X = \\begin{bmatrix}3 & 1 & 2\\\\ 5 & 7 & 2\\end{bmatrix}\n",
    "$$"
   ]
  },
  {
   "cell_type": "markdown",
   "metadata": {},
   "source": [
    "Son tres sistemas distintos que comparten la misma matriz de coeficientes $A$."
   ]
  },
  {
   "cell_type": "code",
   "execution_count": null,
   "metadata": {},
   "outputs": [],
   "source": [
    "a = np.array([[1,2]\n",
    "             ,[3,4]])\n",
    "\n",
    "b = np.array([[3,1,2]\n",
    "             ,[5,7,2]])"
   ]
  },
  {
   "cell_type": "code",
   "execution_count": null,
   "metadata": {},
   "outputs": [],
   "source": [
    "x = np.linalg.solve(a,b)\n",
    "x"
   ]
  },
  {
   "cell_type": "code",
   "execution_count": null,
   "metadata": {},
   "outputs": [],
   "source": [
    "a @ x"
   ]
  },
  {
   "cell_type": "markdown",
   "metadata": {},
   "source": [
    "Se puede precomputar una estructura (la [descomposición LU](https://en.wikipedia.org/wiki/LU_decomposition)) que permite resolver rápidamente cualquier lado derecho."
   ]
  },
  {
   "cell_type": "markdown",
   "metadata": {},
   "source": [
    "## Número de soluciones"
   ]
  },
  {
   "cell_type": "markdown",
   "metadata": {},
   "source": [
    "El sistema $AX=B$ tendrá solución única si $A$ tiene rango completo. Si hay más ecuaciones (independientes) que incógnitas el sistema será incompatible, y si hay menos, tendrá múltiples soluciones."
   ]
  },
  {
   "cell_type": "markdown",
   "metadata": {},
   "source": [
    "## Sistema homogéneo"
   ]
  },
  {
   "cell_type": "markdown",
   "metadata": {},
   "source": [
    "Si $B = 0$ tenemos un sistema *homogéneo*: buscamos un vector $X \\neq \\vec 0$ que consiga $AX=\\vec 0$. La solución será un elemento del *espacio nulo* de $A$. Para que exista una solución no trivial la matriz $A$ no pude ser de rango completo.\n",
    "\n",
    "Por ejemplo, resolvamos\n",
    "\n",
    "$$\\begin{bmatrix}1 & 2 & 3 \\\\ 3 & -4 & 7\\end{bmatrix} X = \\begin{bmatrix}0 \\\\ 0 \\end{bmatrix}\n",
    "$$"
   ]
  },
  {
   "cell_type": "code",
   "execution_count": null,
   "metadata": {},
   "outputs": [],
   "source": [
    "a = np.array([[1,2,3],\n",
    "              [3,-4,7]])\n",
    "\n",
    "# calcula el espacio nulo de una matriz\n",
    "# suponiendo que tiene dimensión 1\n",
    "def null1(M):\n",
    "    u,s,vt = np.linalg.svd(M)\n",
    "    return vt[-1]\n",
    "\n",
    "x = null1(a)\n",
    "x"
   ]
  },
  {
   "cell_type": "code",
   "execution_count": null,
   "metadata": {},
   "outputs": [],
   "source": [
    "a @ x"
   ]
  },
  {
   "cell_type": "markdown",
   "metadata": {},
   "source": [
    "(Son ceros núméricos.)"
   ]
  },
  {
   "cell_type": "markdown",
   "metadata": {},
   "source": [
    "## Sistemas sobredeterminados"
   ]
  },
  {
   "cell_type": "markdown",
   "metadata": {},
   "source": [
    "En muchas aplicaciones surgen sistemas de ecuaciones que tienen más ecuaciones que incógnitas. Esto suele ocurrir cuando se intenta estimar los parámetros de un modelo a partir de un gran número de datos experimentales. Estrictamente hablando esos sistemas son incompatibles pero en muchos casos se puede encontrar una solución aceptable que minimice el error cuadrático."
   ]
  },
  {
   "cell_type": "markdown",
   "metadata": {},
   "source": [
    "Por ejemplo, el sistema siguiente no tiene solución:\n",
    "\n",
    "$$\\begin{bmatrix}1 & 2 \\\\ 3 & 4 \\\\ 6 & 7\\end{bmatrix} X = \\begin{bmatrix}3 \\\\ 5 \\\\ 10 \\end{bmatrix}\n",
    "$$"
   ]
  },
  {
   "cell_type": "code",
   "execution_count": null,
   "metadata": {},
   "outputs": [],
   "source": [
    "a = np.array([[1,2],\n",
    "              [3,4],\n",
    "              [6,7]])\n",
    "\n",
    "b = np.array([3,5,10])"
   ]
  },
  {
   "cell_type": "markdown",
   "metadata": {},
   "source": [
    "En este caso `np.linalg.solve(a,b)` daría error: \"expected square matrix\". Pero podemos encontrar una solución aproximada con `np.linalg.lstsq` (*least squares*):"
   ]
  },
  {
   "cell_type": "code",
   "execution_count": null,
   "metadata": {},
   "outputs": [],
   "source": [
    "x = np.linalg.lstsq(a,b, rcond=None)[0]\n",
    "x"
   ]
  },
  {
   "cell_type": "code",
   "execution_count": null,
   "metadata": {},
   "outputs": [],
   "source": [
    "a @ x"
   ]
  },
  {
   "cell_type": "markdown",
   "metadata": {},
   "source": [
    "Esta función devuelve también el error conseguido (suma de residuos cuadráticos) e información sobre lo \"bien condicionado\" que está el sistema."
   ]
  },
  {
   "cell_type": "markdown",
   "metadata": {},
   "source": [
    "Se obtiene la misma solución utilizando la *pseudoinversa*: $A^+ \\equiv (A^T A)^{-1}A^T$"
   ]
  },
  {
   "cell_type": "code",
   "execution_count": null,
   "metadata": {},
   "outputs": [],
   "source": [
    "pinv = np.linalg.inv(a.T @ a) @ a.T\n",
    "pinv"
   ]
  },
  {
   "cell_type": "code",
   "execution_count": null,
   "metadata": {},
   "outputs": [],
   "source": [
    "pinv @ b"
   ]
  },
  {
   "cell_type": "markdown",
   "metadata": {},
   "source": [
    "Pero si solo vamos a usarla para multiplicar por $B$ es mejor usar directamente `np.linalg.lstsq`."
   ]
  },
  {
   "cell_type": "markdown",
   "metadata": {},
   "source": [
    "## Sistemas homogéneos sobredeterminados"
   ]
  },
  {
   "cell_type": "markdown",
   "metadata": {},
   "source": [
    "Finalmente, también nos encontraremos con sistemas homogéneos sobredeterminados. Por ejemplo:\n",
    "    \n",
    "$$\\begin{bmatrix}10 & 20 & 50 \\\\ 10 & 21  & 49 \\\\ 9 & 20 & 51 \\\\ 11 & 19 & 50\\end{bmatrix} X = \\begin{bmatrix}0 \\\\ 0 \\\\ 0\\\\0\\end{bmatrix}\n",
    "$$"
   ]
  },
  {
   "cell_type": "code",
   "execution_count": null,
   "metadata": {},
   "outputs": [],
   "source": [
    "a = np.array([[10, 20, 50],\n",
    "              [10, 21, 49],\n",
    "              [ 9, 20, 51],\n",
    "              [11, 19, 50]])\n",
    "\n",
    "x = null1(a)\n",
    "x"
   ]
  },
  {
   "cell_type": "markdown",
   "metadata": {},
   "source": [
    "La función `null1` definida más arriba obtiene el vector de norma 1 que minimiza $\\left\\rVert AX \\right\\rVert$. Se basa en la [descomposición SVD](https://en.wikipedia.org/wiki/Singular_value_decomposition), la herramienta más importante del Álgebra Lineal Numérica."
   ]
  },
  {
   "cell_type": "code",
   "execution_count": null,
   "metadata": {},
   "outputs": [],
   "source": [
    "a @ x"
   ]
  },
  {
   "cell_type": "markdown",
   "metadata": {},
   "source": [
    "Este vector no \"anula\" perfectamente a la matriz pero consigue un residuo pequeño."
   ]
  },
  {
   "cell_type": "markdown",
   "metadata": {},
   "source": [
    "## Ejercicios:\n",
    "\n",
    "- Encuentra la recta que mejor se ajusta a una colección de puntos 2D.\n",
    "\n",
    "- Encuentra la ecuación de una elipse que pase cerca de un conjunto de puntos 2D."
   ]
  },
  {
   "cell_type": "markdown",
   "metadata": {},
   "source": [
    "## Sistemas sobredeterminados y generalización"
   ]
  },
  {
   "cell_type": "markdown",
   "metadata": {},
   "source": [
    "El problema fundamental en  *Machine Learning* es encontrar un modelo de los ejemplos de entrenamiento que resuelva correctamente la mayoría de casos futuros no vistos previamente.\n",
    "\n",
    "Si estos ejemplos son representativos del problema y sobredeterminan los parámetros libres del modelo, y además el proceso de aprendizaje (optimización) consigue una buena solución, cabe esperar que esta solución \"generalice\" y resuelva bien casos futuros. Pero si los parámetros no están sobredeterminados, es seguro que encontraremos una solución perfecta para los datos de entrenamiento, sean cuales sean las etiquetas de clase que se les asignen: es un aprendizaje puramente memorístico, sin ninguna garantía sobre los resultados en futuras instancias del problema. Es necesario controlar la capacidad de las máquinas de aprendizaje (véase el apartado \"Regularización\" del capítulo sobre [Machine Learning](machine-learning.ipynb#Regularización))."
   ]
  }
 ],
 "metadata": {
  "hide_input": false,
  "kernelspec": {
   "display_name": "Python 3 (ipykernel)",
   "language": "python",
   "name": "python3"
  },
  "language_info": {
   "codemirror_mode": {
    "name": "ipython",
    "version": 3
   },
   "file_extension": ".py",
   "mimetype": "text/x-python",
   "name": "python",
   "nbconvert_exporter": "python",
   "pygments_lexer": "ipython3",
   "version": "3.11.9"
  },
  "varInspector": {
   "cols": {
    "lenName": 16,
    "lenType": 16,
    "lenVar": 40
   },
   "kernels_config": {
    "python": {
     "delete_cmd_postfix": "",
     "delete_cmd_prefix": "del ",
     "library": "var_list.py",
     "varRefreshCmd": "print(var_dic_list())"
    },
    "r": {
     "delete_cmd_postfix": ") ",
     "delete_cmd_prefix": "rm(",
     "library": "var_list.r",
     "varRefreshCmd": "cat(var_dic_list()) "
    }
   },
   "types_to_exclude": [
    "module",
    "function",
    "builtin_function_or_method",
    "instance",
    "_Feature"
   ],
   "window_display": false
  }
 },
 "nbformat": 4,
 "nbformat_minor": 4
}

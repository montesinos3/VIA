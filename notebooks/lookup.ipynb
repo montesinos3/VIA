{
 "cells": [
  {
   "cell_type": "markdown",
   "metadata": {},
   "source": [
    "# Transformaciones de dominio"
   ]
  },
  {
   "cell_type": "markdown",
   "metadata": {},
   "source": [
    "## Lookup table"
   ]
  },
  {
   "cell_type": "markdown",
   "metadata": {},
   "source": [
    "Las transformaciones de dominio se pueden implementar mediante una \"tabla de acceso\" (*lookup table*) a los pixels."
   ]
  },
  {
   "cell_type": "code",
   "execution_count": null,
   "metadata": {},
   "outputs": [],
   "source": [
    "import numpy             as np\n",
    "import cv2               as cv\n",
    "import skimage.io        as io\n",
    "import matplotlib.pyplot as plt"
   ]
  },
  {
   "cell_type": "code",
   "execution_count": null,
   "metadata": {},
   "outputs": [],
   "source": [
    "path = \"../images/\"\n",
    "\n",
    "img = io.imread(path+\"palmeras.jpg\")\n",
    "print(img.shape)\n",
    "r,c,_ = img.shape\n",
    "plt.imshow(img);"
   ]
  },
  {
   "cell_type": "code",
   "execution_count": null,
   "metadata": {},
   "outputs": [],
   "source": [
    "y,x = np.mgrid[0:r,0:c]"
   ]
  },
  {
   "cell_type": "code",
   "execution_count": null,
   "metadata": {},
   "outputs": [],
   "source": [
    "plt.imshow(x,'coolwarm');"
   ]
  },
  {
   "cell_type": "markdown",
   "metadata": {},
   "source": [
    "Elegimos un color para los pixels que se quedan fuera de la imagen."
   ]
  },
  {
   "cell_type": "code",
   "execution_count": null,
   "metadata": {},
   "outputs": [],
   "source": [
    "fondo =  np.array([160,128,128])\n",
    "img[0,:]  = fondo\n",
    "img[-1,:] = fondo\n",
    "img[:,0]  = fondo\n",
    "img[:,-1] = fondo"
   ]
  },
  {
   "cell_type": "markdown",
   "metadata": {},
   "source": [
    "Calculamos las nuevas posiciones $(x',y')$ de una transformación de prueba. Por ejemplo, un desplazamiento vertical y un escalado horizontal. Creamos la imagen resultante accediendo a la imagen original en las posiciones nuevas. Por tanto, el efecto observado es el \"contrario\" a la transformación: al dividir por dos la coordenada la imagen se amplía."
   ]
  },
  {
   "cell_type": "code",
   "execution_count": null,
   "metadata": {},
   "outputs": [],
   "source": [
    "xp = x/2\n",
    "yp = y+100\n",
    "\n",
    "t = img[np.clip(yp.astype(int),0,r-1),np.clip(xp.astype(int),0,c-1)]\n",
    "\n",
    "plt.imshow(t);"
   ]
  },
  {
   "cell_type": "markdown",
   "metadata": {},
   "source": [
    "Alternativamente, podemos crear una imagen destino y asignar en las posiciones nuevas los colores de las posiciones iniciales:"
   ]
  },
  {
   "cell_type": "code",
   "execution_count": null,
   "metadata": {},
   "outputs": [],
   "source": [
    "t = img.copy()\n",
    "t[:] = fondo\n",
    "\n",
    "xp = x/2\n",
    "yp = y+100\n",
    "\n",
    "#t = img[np.clip(yp.astype(int),0,r-1),np.clip(xp.astype(int),0,c-1)]\n",
    "t[np.clip(yp.astype(int),0,r-1),np.clip(xp.astype(int),0,c-1)] = img\n",
    "\n",
    "plt.imshow(t);"
   ]
  },
  {
   "cell_type": "markdown",
   "metadata": {},
   "source": [
    "Al hacerlo de esta forma la imagen sufre \"el mismo\" efecto que las coordenadas. Pero tiene un inconveniente: puedes observarlo si intentas estirar la imagen haciendo $x'=2x$."
   ]
  },
  {
   "cell_type": "markdown",
   "metadata": {},
   "source": [
    "Otro ejemplo: aplicamos una rotación y desplazamiento mediante la primera técnica."
   ]
  },
  {
   "cell_type": "code",
   "execution_count": null,
   "metadata": {},
   "outputs": [],
   "source": [
    "ang = np.radians(30)\n",
    "xp = np.cos(ang)*x - np.sin(ang)*y\n",
    "yp = np.sin(ang)*x + np.cos(ang)*y - 100\n",
    "\n",
    "t = img[np.clip(yp.astype(int),0,r-1),np.clip(xp.astype(int),0,c-1)]\n",
    "\n",
    "plt.imshow(t);"
   ]
  },
  {
   "cell_type": "markdown",
   "metadata": {},
   "source": [
    "Las transformaciones más importantes (que estudiaremos más adelante) están [implementadas eficientemente](https://docs.opencv.org/3.0-beta/modules/imgproc/doc/geometric_transformations.html#warpperspective) en opencv. La ventaja de la tabla de acceso es que nos permite aplicar cualquier deformación:"
   ]
  },
  {
   "cell_type": "code",
   "execution_count": null,
   "metadata": {},
   "outputs": [],
   "source": [
    "R = np.sqrt((x-c/2)**2 + (y-r/2)**2)\n",
    "ang = R/400\n",
    "xp = (np.cos(ang)*(x-c/2) - np.sin(ang)*(y-r/2))*1.3 + c/2\n",
    "yp = (np.sin(ang)*(x-c/2) + np.cos(ang)*(y-r/2))*1.3 + r/2\n",
    "\n",
    "t = img[np.clip(yp.astype(int),0,r-1),np.clip(xp.astype(int),0,c-1)]\n",
    "\n",
    "plt.imshow(t);\n",
    "#io.imsave('trans.png',t)"
   ]
  },
  {
   "cell_type": "markdown",
   "metadata": {},
   "source": [
    "## Distorsión radial"
   ]
  },
  {
   "cell_type": "markdown",
   "metadata": {},
   "source": [
    "Una transformación de dominio muy importante es la eliminación de distorsión radial. La siguiente imagen está tomada de [esta página](https://onlinephotoinstitute.wordpress.com/tag/distortion/) que muestra la distorsión de varias lentes."
   ]
  },
  {
   "cell_type": "code",
   "execution_count": null,
   "metadata": {},
   "outputs": [],
   "source": [
    "img = io.imread(path+\"fisheye-test-7265.jpg\")\n",
    "print(img.shape)\n",
    "r,c,_ = img.shape\n",
    "plt.rc('figure',figsize=(12,8))\n",
    "plt.imshow(img);"
   ]
  },
  {
   "cell_type": "markdown",
   "metadata": {},
   "source": [
    "Podemos intentar algo parecido con la técnica de tabla de acceso que hemos visto. Un modelo de compensación de distorsión radial muy simple es:\n",
    "\n",
    "$$ x' = o_x + (x-o_x) \\left[ 1 + k r^2 \\right] $$\n",
    "\n",
    "$$ y' = o_y + (y-o_y) \\left[ 1 + k r^2 \\right] $$\n",
    "\n",
    "donde $(o_x,o_y)$ es el \"centro de distorsión\" y $\\;r^2 = (x-o_x)^2 + (y-o_y)^2$. Se hace un pequeño desplazamiento de cada pixel en dirección al centro de distorsión.\n",
    "\n"
   ]
  },
  {
   "cell_type": "code",
   "execution_count": null,
   "metadata": {},
   "outputs": [],
   "source": [
    "y,x = np.mgrid[0:r,0:c]\n",
    "\n",
    "ox = c/2\n",
    "oy = r/2\n",
    "\n",
    "k = -0.00000027\n",
    "xp = ox + (x-ox)*(1+ ((x-ox)**2 + (y-oy)**2)*k)\n",
    "yp = oy + (y-oy)*(1+ ((x-oy)**2 + (y-oy)**2)*k)\n",
    "\n",
    "t = img[np.clip(yp.astype(int),0,r-1),np.clip(xp.astype(int),0,c-1)]\n",
    "\n",
    "plt.imshow(t);"
   ]
  },
  {
   "cell_type": "markdown",
   "metadata": {},
   "source": [
    "El coeficiente $k$ lo hemos puesto por prueba y error hasta que las columnas están bastante rectas. No queda mal del todo pero es mejor utilizar OpenCV.\n",
    "\n",
    "La corregimos con valores a ojo de la matriz de calibración (que estudiaremos más adelante) y el coeficiente de distorsión radial. En el resultado podemos cambiar el campo de visión de la imagen con una matriz de calibración distinta para quitar las zonas negras y consegir una región rectangular completa."
   ]
  },
  {
   "cell_type": "code",
   "execution_count": null,
   "metadata": {},
   "outputs": [],
   "source": [
    "def kgen(sz,f):\n",
    "    w,h = sz\n",
    "    w2 = w / 2\n",
    "    h2 = h / 2\n",
    "    return np.array([[f*w2,0,   w2],\n",
    "                     [0,  f*w2, h2],\n",
    "                     [0,   0,   1 ]])\n",
    "\n",
    "\n",
    "K  = kgen((c,r),2)\n",
    "#KN = K\n",
    "KN = kgen((c,r),1.5)\n",
    "\n",
    "plt.imshow(cv.undistort(img,K,np.array([-0.5,0,0,0,0]),None,KN)); "
   ]
  },
  {
   "cell_type": "markdown",
   "metadata": {},
   "source": [
    "Por supuesto, la forma correcta de hacerlo es aplicar el método de calibración basado en varias imágenes de un *chessboard* que estudiaremos en un capítulo posterior."
   ]
  },
  {
   "cell_type": "markdown",
   "metadata": {},
   "source": [
    "El modelo de `cv.undistort` no funciona muy bien con las distorsiones tremendas de las cámaras wide-angle (tipo go pro). Afortunadamente OpenCV incluye nuevas funciones de calibración de para este tipo de cámaras: [pyfisheye](https://github.com/p0wdrdotcom/pyfisheye)."
   ]
  }
 ],
 "metadata": {
  "hide_input": false,
  "kernelspec": {
   "display_name": "Python 3 (ipykernel)",
   "language": "python",
   "name": "python3"
  },
  "language_info": {
   "codemirror_mode": {
    "name": "ipython",
    "version": 3
   },
   "file_extension": ".py",
   "mimetype": "text/x-python",
   "name": "python",
   "nbconvert_exporter": "python",
   "pygments_lexer": "ipython3",
   "version": "3.12.8"
  }
 },
 "nbformat": 4,
 "nbformat_minor": 4
}

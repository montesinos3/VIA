{
 "cells": [
  {
   "cell_type": "markdown",
   "metadata": {},
   "source": [
    "# Color quantization"
   ]
  },
  {
   "cell_type": "markdown",
   "metadata": {},
   "source": [
    "Para reducir el tamaño de una imagen podemos elegir los colores más frecuentes y representarlos mediante una etiqueta entera. Los colores típicos se pueden encontrar mediante el algoritmo *K-means*. Para decidir la etiqueta de cada pixel hacemos una búsqueda de vecino más próximo (*nearest neighbour*)."
   ]
  },
  {
   "cell_type": "markdown",
   "metadata": {},
   "source": [
    "Adaptado del [ejemplo de scikit-learn](http://scikit-learn.org/stable/auto_examples/cluster/plot_color_quantization.html)."
   ]
  },
  {
   "cell_type": "code",
   "execution_count": null,
   "metadata": {},
   "outputs": [],
   "source": [
    "%matplotlib inline\n",
    "\n",
    "import numpy             as np\n",
    "import cv2               as cv\n",
    "import matplotlib.pyplot as plt\n",
    "import glob\n",
    "from matplotlib.pyplot   import imshow, subplot, title, plot\n",
    "from sklearn.cluster import KMeans\n",
    "from sklearn.utils import shuffle\n",
    "\n",
    "\n",
    "def readrgb(file):\n",
    "    return cv.cvtColor( cv.imread(file), cv.COLOR_BGR2RGB) \n",
    "\n",
    "def fig(w,h):\n",
    "    return plt.figure(figsize=(w,h))\n",
    "\n",
    "def imshowg(x):\n",
    "    imshow(x, 'gray')"
   ]
  },
  {
   "cell_type": "code",
   "execution_count": null,
   "metadata": {},
   "outputs": [],
   "source": [
    "def flat(img):\n",
    "    h,w,d = img.shape\n",
    "    return np.reshape(img, [w*h, d]).astype(float)/255\n",
    "\n",
    "def codebook(n, imgs, m=10000):\n",
    "    pixels = np.vstack([flat(x) for x in imgs])\n",
    "    sample = shuffle(pixels, random_state=0)[:m]\n",
    "    code = KMeans(n_clusters=n, n_init='auto').fit(sample)\n",
    "    return code\n",
    "\n",
    "def encode(code,x):\n",
    "    h,w,d = x.shape\n",
    "    return np.reshape(code.predict(flat(x)),[h,w])\n",
    "\n",
    "def recreate(code,l):\n",
    "    c = code.cluster_centers_\n",
    "    return c[l,:]"
   ]
  },
  {
   "cell_type": "code",
   "execution_count": null,
   "metadata": {},
   "outputs": [],
   "source": [
    "imgs = [cv.resize(readrgb(f),(0,0), fx=1/4, fy=1/4) for f in glob.glob('../images/naranjas/*.jpg') ]"
   ]
  },
  {
   "cell_type": "code",
   "execution_count": null,
   "metadata": {},
   "outputs": [],
   "source": [
    "# después puedes cambiar de imagen\n",
    "x = imgs[1]\n",
    "\n",
    "print(x.dtype)\n",
    "imshow(x);\n",
    "print(flat(x).dtype)\n",
    "print(np.max(flat(x)))"
   ]
  },
  {
   "cell_type": "code",
   "execution_count": null,
   "metadata": {},
   "outputs": [],
   "source": [
    "# número de colores\n",
    "code = codebook(10,imgs)\n",
    "\n",
    "labs = encode(code,x)\n",
    "\n",
    "rec  = recreate(code,labs)\n",
    "\n",
    "fig(12,4)\n",
    "subplot(1,2,1); imshow(labs)\n",
    "subplot(1,2,2); imshow(rec);"
   ]
  },
  {
   "cell_type": "code",
   "execution_count": null,
   "metadata": {},
   "outputs": [],
   "source": [
    "fig(16,8)\n",
    "subplot(1,2,1); imshow((rec[200:300,300:400])) #*255).astype(np.uint8));\n",
    "subplot(1,2,2); imshow(  x[200:300,300:400]);"
   ]
  },
  {
   "cell_type": "code",
   "execution_count": null,
   "metadata": {},
   "outputs": [],
   "source": [
    "code.cluster_centers_"
   ]
  },
  {
   "cell_type": "code",
   "execution_count": null,
   "metadata": {},
   "outputs": [],
   "source": [
    "pal = np.outer(np.ones([10]),sorted(code.cluster_centers_,key=lambda c: -c[1])).reshape(10,code.n_clusters,3)\n",
    "imshow(pal,interpolation='none');"
   ]
  },
  {
   "cell_type": "code",
   "execution_count": null,
   "metadata": {},
   "outputs": [],
   "source": [
    "imshow(code.transform(code.cluster_centers_),cmap='gray',interpolation='none');"
   ]
  },
  {
   "cell_type": "markdown",
   "metadata": {},
   "source": [
    "## k-d tree"
   ]
  },
  {
   "cell_type": "markdown",
   "metadata": {},
   "source": [
    "El tiempo de cómputo del vecino más próximo se puede reducir precomputando un [k-dtree](https://en.wikipedia.org/wiki/K-d_tree). En este [blog post](http://blog.krum.io/k-d-trees/) se muestran algunos experimentos."
   ]
  },
  {
   "cell_type": "markdown",
   "metadata": {},
   "source": [
    "En algunas aplicaciones se utiliza una búsqueda aproximada más rápida del vecino más próximo ([FLANN](https://www.cs.ubc.ca/research/flann/))."
   ]
  }
 ],
 "metadata": {
  "hide_input": false,
  "kernelspec": {
   "display_name": "Python 3 (ipykernel)",
   "language": "python",
   "name": "python3"
  },
  "language_info": {
   "codemirror_mode": {
    "name": "ipython",
    "version": 3
   },
   "file_extension": ".py",
   "mimetype": "text/x-python",
   "name": "python",
   "nbconvert_exporter": "python",
   "pygments_lexer": "ipython3",
   "version": "3.10.8"
  }
 },
 "nbformat": 4,
 "nbformat_minor": 4
}

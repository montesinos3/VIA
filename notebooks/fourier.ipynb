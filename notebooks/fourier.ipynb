{
 "cells": [
  {
   "cell_type": "markdown",
   "metadata": {},
   "source": [
    "# Análisis frecuencial"
   ]
  },
  {
   "cell_type": "markdown",
   "metadata": {},
   "source": [
    "En muchas situaciones es conveniente descomponer las señales de interés (sonido, imaǵenes, etc.) en elementos \"más simples\". Estos elementos (la base de representación) pueden ser de muchos tipos, pero existe una base especial, \"las frecuencias puras\" (senos o cosenos), que son especialmente útiles. Esta descomposición se efectúa de forma eficiente con el algoritmo FFT."
   ]
  },
  {
   "cell_type": "markdown",
   "metadata": {},
   "source": [
    "El artículo de wikipedia [Fourier analysis](https://en.wikipedia.org/wiki/Fourier_analysis) tiene una buena introducción a este tema y a sus múltiples aplicaciones."
   ]
  },
  {
   "cell_type": "markdown",
   "metadata": {},
   "source": [
    "Estos vídeos del excelente canal 3blue1brown son muy recomendables:\n",
    "\n",
    "- [Fourier Series: everything is rotations](https://www.youtube.com/watch?v=r6sGWTCMz2k)\n",
    "\n",
    "\n",
    "- [Fourier visualized](https://www.youtube.com/watch?v=spUNpyF58BY)"
   ]
  },
  {
   "cell_type": "markdown",
   "metadata": {},
   "source": [
    "## Bibliotecas y utilidades"
   ]
  },
  {
   "cell_type": "code",
   "execution_count": null,
   "metadata": {},
   "outputs": [],
   "source": [
    "import numpy             as np\n",
    "import numpy.fft         as fft\n",
    "import cv2               as cv\n",
    "import skimage           as si\n",
    "import matplotlib.pyplot as plt\n",
    "import numpy.random      as rnd\n",
    "import scipy.signal      as signal"
   ]
  },
  {
   "cell_type": "code",
   "execution_count": null,
   "metadata": {},
   "outputs": [],
   "source": [
    "def fig(w,h):\n",
    "    plt.figure(figsize=(w,h))\n",
    "\n",
    "def readrgb(file):\n",
    "    return cv.cvtColor( cv.imread(\"../images/\"+file), cv.COLOR_BGR2RGB) \n",
    "\n",
    "def rgb2gray(x):\n",
    "    return cv.cvtColor(x,cv.COLOR_RGB2GRAY)\n",
    "\n",
    "def gray2float(x):\n",
    "    return x.astype(float) / 255\n",
    "\n",
    "# para ver imágenes monocromas autoescalando el rango\n",
    "def imshowg(x):\n",
    "    plt.imshow(x, 'gray')\n",
    "\n",
    "# para ver imágenes monocromas de float con rango fijo\n",
    "def imshowf(x):\n",
    "    plt.imshow(x, 'gray', vmin = 0, vmax=1)\n",
    "\n",
    "# para ver imágenes con signo\n",
    "def imshows(x,r=1):\n",
    "    plt.imshow(x, 'gray', vmin = -r, vmax=r)\n",
    "\n",
    "# ojo: filter2D no hace flip de la máscara (realmente hace correlación)\n",
    "# (da igual en máscaras simétricas)\n",
    "def conv(k,x):\n",
    "    return cv.filter2D(x,-1,k)\n",
    "\n",
    "# esta versión es correcta\n",
    "def cconv(k,x):\n",
    "    return signal.convolve2d(x, k, boundary='symm', mode='same')\n",
    "\n",
    "def ft(x):\n",
    "    return fft.fft2(x)\n",
    "\n",
    "def ift(x):\n",
    "    return fft.ifft2(x)\n",
    "\n",
    "def centrafft(psf):\n",
    "    h = psf.copy()\n",
    "    r,c = psf.shape\n",
    "    h = h[list(range(r//2,r)) + list(range(r//2)) ,:]\n",
    "    h = h[:, list(range(c//2,c)) + list(range(c//2))]\n",
    "    return h"
   ]
  },
  {
   "cell_type": "markdown",
   "metadata": {},
   "source": [
    "## Ejemplo mínimo"
   ]
  },
  {
   "cell_type": "markdown",
   "metadata": {},
   "source": [
    "El objetivo de esta sección es mostrar que el anális de frecuencias no es más que un cambio de base como los que se estudian en álgebra lineal (aunque en la práctica se efectúa con un algoritmo más eficiente)."
   ]
  },
  {
   "cell_type": "markdown",
   "metadata": {},
   "source": [
    "Expresión de un vector en dos bases:"
   ]
  },
  {
   "cell_type": "markdown",
   "metadata": {},
   "source": [
    "$$\\begin{bmatrix}2\\\\-3\\\\8\\\\4\\end{bmatrix}\\; =\\; 2 \\begin{bmatrix}{\\color{red}1}\\\\0\\\\0\\\\0\\end{bmatrix} -3 \\begin{bmatrix}0\\\\{\\color{red}1}\\\\0\\\\0\\end{bmatrix} + 8 \\begin{bmatrix}0\\\\0\\\\{\\color{red}1}\\\\0\\end{bmatrix} + 4 \\begin{bmatrix}0\\\\0\\\\0\\\\{\\color{red}1}\\end{bmatrix} \\; =\\; 5.5 \\begin{bmatrix}0.5\\\\0.5\\\\0.5\\\\0.5\\end{bmatrix} -4.3 \\begin{bmatrix}0.65\\\\0.27\\\\-0.27\\\\-0.65\\end{bmatrix} + 0.5 \\begin{bmatrix}0.5\\\\-0.5\\\\-0.5\\\\0.5\\end{bmatrix} + 6.6 \\begin{bmatrix}0.27\\\\-0.65\\\\0.65\\\\-0.27\\end{bmatrix}$$"
   ]
  },
  {
   "cell_type": "markdown",
   "metadata": {},
   "source": [
    "La primera base es la canónica y la segunda es la DCT (que explicaremos después). (En este apartado usamos la base DCT porque trabaja con números reales.)"
   ]
  },
  {
   "cell_type": "code",
   "execution_count": null,
   "metadata": {},
   "outputs": [],
   "source": [
    "from scipy.fftpack import dct,idct\n",
    "\n",
    "for k,v in enumerate([idct(v,norm='ortho') for v in np.eye(4)]):\n",
    "    plt.plot(v,'o-',label='$F_{}$'.format(k))\n",
    "plt.legend();\n",
    "plt.title('Base frecuencial DCT-4');"
   ]
  },
  {
   "cell_type": "markdown",
   "metadata": {},
   "source": [
    "La de tamaño 8 es más fácil de interpretar:"
   ]
  },
  {
   "cell_type": "code",
   "execution_count": null,
   "metadata": {},
   "outputs": [],
   "source": [
    "plt.figure(figsize=(16,12))\n",
    "plt.subplots_adjust(hspace=0.5)\n",
    "for k,v in enumerate([idct(v,norm='ortho') for v in np.eye(8)]):\n",
    "    plt.subplot(4,4,k+1)\n",
    "    plt.plot(v,'o-'); plt.ylim(-.6,.6)\n",
    "    plt.title('$F_{}$'.format(k)); plt.grid(); plt.axis('off')\n",
    "plt.suptitle('DCT-8',y=0.93,fontsize=16);"
   ]
  },
  {
   "cell_type": "markdown",
   "metadata": {},
   "source": [
    "Volvemos a la dimensión 4 y hacemos algunas comprobaciones. Definimos las dos bases:"
   ]
  },
  {
   "cell_type": "code",
   "execution_count": null,
   "metadata": {},
   "outputs": [],
   "source": [
    "B = np.array([v for v in np.eye(4)])\n",
    "F = np.array([idct(v,norm='ortho') for v in np.eye(4)])\n",
    "\n",
    "inv = np.linalg.inv"
   ]
  },
  {
   "cell_type": "code",
   "execution_count": null,
   "metadata": {},
   "outputs": [],
   "source": [
    "B"
   ]
  },
  {
   "cell_type": "code",
   "execution_count": null,
   "metadata": {},
   "outputs": [],
   "source": [
    "F"
   ]
  },
  {
   "cell_type": "markdown",
   "metadata": {},
   "source": [
    "Estas matrices contienen los elementos de las bases por filas, de modo que podemos extraerlos con el primer índice:"
   ]
  },
  {
   "cell_type": "code",
   "execution_count": null,
   "metadata": {},
   "outputs": [],
   "source": [
    "F[1]"
   ]
  },
  {
   "cell_type": "markdown",
   "metadata": {},
   "source": [
    "Un vector cualquiera es la combinación lineal de la base con sus coordenadas. En la base canónica:"
   ]
  },
  {
   "cell_type": "code",
   "execution_count": null,
   "metadata": {},
   "outputs": [],
   "source": [
    "x = np.array([2,-3,8,4])"
   ]
  },
  {
   "cell_type": "markdown",
   "metadata": {},
   "source": [
    "(Recordemos que para expresar una combinación lineal de vectores de forma matricial podemos poner los vectores en una matriz por filas y multiplicamos los coeficientes por la izquierda. O ponemos los vectores de la base por columnas y multiplicamos las coordenadas por la derecha.)"
   ]
  },
  {
   "cell_type": "code",
   "execution_count": null,
   "metadata": {},
   "outputs": [],
   "source": [
    "x @ B"
   ]
  },
  {
   "cell_type": "markdown",
   "metadata": {},
   "source": [
    "Cambiamos de base:"
   ]
  },
  {
   "cell_type": "code",
   "execution_count": null,
   "metadata": {},
   "outputs": [],
   "source": [
    "inv(F).T @ x"
   ]
  },
  {
   "cell_type": "code",
   "execution_count": null,
   "metadata": {},
   "outputs": [],
   "source": [
    "x @ inv(F)"
   ]
  },
  {
   "cell_type": "markdown",
   "metadata": {},
   "source": [
    "Como la base es ortonormal la inversa y la traspuesta coinciden:"
   ]
  },
  {
   "cell_type": "code",
   "execution_count": null,
   "metadata": {},
   "outputs": [],
   "source": [
    "y = F @ x\n",
    "y"
   ]
  },
  {
   "cell_type": "code",
   "execution_count": null,
   "metadata": {},
   "outputs": [],
   "source": [
    "y = x @ F.T\n",
    "y"
   ]
  },
  {
   "cell_type": "markdown",
   "metadata": {},
   "source": [
    "La transformada DCT realiza esta operación de forma mucho más eficiente (se aprecia en dimensión grande)."
   ]
  },
  {
   "cell_type": "code",
   "execution_count": null,
   "metadata": {},
   "outputs": [],
   "source": [
    "dct(x,norm='ortho')"
   ]
  },
  {
   "cell_type": "markdown",
   "metadata": {},
   "source": [
    "El vector original es el mismo, aunque sus coordenadas dependen de la base:"
   ]
  },
  {
   "cell_type": "code",
   "execution_count": null,
   "metadata": {},
   "outputs": [],
   "source": [
    "y @ F"
   ]
  },
  {
   "cell_type": "code",
   "execution_count": null,
   "metadata": {},
   "outputs": [],
   "source": [
    "x @ B"
   ]
  },
  {
   "cell_type": "markdown",
   "metadata": {},
   "source": [
    "## La base de Fourier"
   ]
  },
  {
   "cell_type": "markdown",
   "metadata": {},
   "source": [
    "Cualquier señal se puede expresar como una combinación de ondas de diferentes frecuencias.\n",
    "\n",
    "$$ f(x) = \\sum_\\omega A_\\omega \\cos(2\\pi \\omega x + \\phi_\\omega) $$\n",
    "\n",
    "Cada frecuencia $\\omega$ contribuye con una cierta amplitud $A_\\omega$ y desplazamiento $\\phi_\\omega$. La Transformada de Fourier es un algoritmo que analiza la señal y obtiene estos dos ingredientes.\n",
    "\n",
    "Por conveniencia matemática es mucho mejor usar ondas complejas\n",
    "\n",
    "$$ f(x) = \\sum _ \\omega F_\\omega  e ^ {2 \\pi i \\omega x} $$\n",
    "\n",
    "donde los coeficientes codifican en un número complejo la amplitud y el desplazamiento de cada frecuencia.\n",
    "\n",
    "$$ F_\\omega = A e^{i \\phi_\\omega} $$\n",
    "\n",
    "Hay una explicación más detallada en [este documento](https://robot.inf.um.es/material/va/percep.pdf#appendix.B), que incluye también una interpretación geométrica de la base de exponenciales complejas. (Son unos apuntes de cursos anteriores de esta asignatura, que están pendientes de actualizar y convertir en notebooks interactivos.)"
   ]
  },
  {
   "cell_type": "markdown",
   "metadata": {},
   "source": [
    "Como ejemplo, generamos una señal con componentes frecuenciales conocidas y vemos como la FFT las encuentra:"
   ]
  },
  {
   "cell_type": "code",
   "execution_count": null,
   "metadata": {},
   "outputs": [],
   "source": [
    "# componente frecuencial de amplitud a, frecuencia w y fase d\n",
    "def C(w,d,x):\n",
    "    return np.cos(2*np.pi*w*x+d)\n",
    "\n",
    "def fun(x):\n",
    "    return 1 + 3*C(2,0.1,x) + 4*C(5,-0.2,x) + 2*C(15,0.3,x)\n",
    "\n",
    "x = np.linspace(0,1,1000)"
   ]
  },
  {
   "cell_type": "code",
   "execution_count": null,
   "metadata": {},
   "outputs": [],
   "source": [
    "fig(12,4)\n",
    "plt.plot(x,fun(x),lw=2);\n",
    "plt.grid();"
   ]
  },
  {
   "cell_type": "markdown",
   "metadata": {},
   "source": [
    "La hemos conseguido sumando las siguientes componentes:"
   ]
  },
  {
   "cell_type": "code",
   "execution_count": null,
   "metadata": {},
   "outputs": [],
   "source": [
    "fig(12,4)\n",
    "plt.plot(x,1*C(0,0,x), label='freq 0')\n",
    "plt.plot(x,3*C(2,0.1,x), label='freq 2')\n",
    "plt.plot(x,4*C(5,-0.2,x), label='freq 5')\n",
    "plt.plot(x,2*C(15,0.3,x), label='freq 15');\n",
    "plt.grid(); plt.legend();"
   ]
  },
  {
   "cell_type": "markdown",
   "metadata": {},
   "source": [
    "En la práctica, solo observamos un muestreo de la señal:"
   ]
  },
  {
   "cell_type": "code",
   "execution_count": null,
   "metadata": {},
   "outputs": [],
   "source": [
    "delta = 0.02\n",
    "xs =  np.linspace(0,1-delta,50)\n",
    "f = fun(xs)\n",
    "\n",
    "print(f)\n",
    "\n",
    "fig(12,4)\n",
    "plt.plot(x,fun(x),'r',xs,f,'.b',markersize=10); plt.grid()\n",
    "plt.title('señal muestreada en 50 puntos');"
   ]
  },
  {
   "cell_type": "markdown",
   "metadata": {},
   "source": [
    "El algoritmo FFT (transformada discreta rápida de Fourier) analiza la señal muestreada y devuelve las amplitudes y fases de los componentes, aunque lo hace de forma un poco especial, codificadas como módulo y argumento de números complejos, y situadas en dos posiciones del array resultante."
   ]
  },
  {
   "cell_type": "code",
   "execution_count": null,
   "metadata": {},
   "outputs": [],
   "source": [
    "# dividimos por n para que la escala global de la FFT coincida con las amplitudes\n",
    "F = fft.fft(f)/len(f)\n",
    "\n",
    "# para visualizar mejor el array, quitamos los ceros numéricos\n",
    "F[abs(F)<1E-10] = 0\n",
    "\n",
    "F"
   ]
  },
  {
   "cell_type": "markdown",
   "metadata": {},
   "source": [
    "Vamos a manipular un poco el array para extraer las componentes de la señal."
   ]
  },
  {
   "cell_type": "markdown",
   "metadata": {},
   "source": [
    "El módulo del resultado:"
   ]
  },
  {
   "cell_type": "code",
   "execution_count": null,
   "metadata": {},
   "outputs": [],
   "source": [
    "abs(F)"
   ]
  },
  {
   "cell_type": "code",
   "execution_count": null,
   "metadata": {},
   "outputs": [],
   "source": [
    "w = np.array(range(len(F)))\n",
    "fig(18,4)\n",
    "plt.bar(w,abs(F), color='green',alpha=0.5)\n",
    "plt.xticks(w); plt.axis([-1,50,0,2.1]);\n",
    "plt.title('el módulo de la FFT codifica la amplitud');"
   ]
  },
  {
   "cell_type": "markdown",
   "metadata": {},
   "source": [
    "Y la fase:"
   ]
  },
  {
   "cell_type": "code",
   "execution_count": null,
   "metadata": {},
   "outputs": [],
   "source": [
    "w = np.array(range(len(F)))\n",
    "fig(18,4)\n",
    "plt.bar(w,np.angle(F), color='brown',alpha=0.5)\n",
    "plt.xticks(w); plt.axis([-1,50,-0.5,0.5]);\n",
    "#plt.grid()\n",
    "plt.title('la fase de la FFT codifica el desplazamiento');\n",
    "plt.grid(axis='y')"
   ]
  },
  {
   "cell_type": "markdown",
   "metadata": {},
   "source": [
    "Vemos que la magnitud de la transformada de Fourier, que es una señal compleja, contiene la amplitud de cada onda $A_\\omega$, y la \"fase\" es el desplazamiento $\\phi_\\omega$. Observa que cada frecuencia $\\omega$ aparece en la transformada en dos posiciones, correspondientes a $\\omega$ y $-\\omega$ (que en realidad son la misma onda), y que las frecuencias negativas aparecen al final del vector.\n",
    "\n",
    "La FFT es periódica y por tanto las frecuencias superiores a $N/2$ (la máxima que se puede detectar) equivalen a frecuencias negativas. Lo normal es mostrar \"rotada\" o \"centrada\" la fft para poner las frecuencias bajas en el centro del vector."
   ]
  },
  {
   "cell_type": "code",
   "execution_count": null,
   "metadata": {},
   "outputs": [],
   "source": [
    "n = len(F)\n",
    "n2 = (n+1) // 2\n",
    "w = np.array(range(len(F)))\n",
    "ws = np.roll(w,n2)\n",
    "Fs = np.roll(F,n2)\n",
    "fig(18,4)\n",
    "plt.bar(w-25,abs(Fs), color='green',alpha=0.5)\n",
    "plt.xticks(w-25); \n",
    "plt.axis([-24,24,0,2.5]);\n",
    "plt.title('abs(FFT)');"
   ]
  },
  {
   "cell_type": "markdown",
   "metadata": {},
   "source": [
    "Cuando la señal es real, como en este ejemplo, la FFT es simétrica conjugada. Las frecuencias negativas tienen la misma amplitud absoluta y podemos mostrar solo las frecuencias positivas:"
   ]
  },
  {
   "cell_type": "code",
   "execution_count": null,
   "metadata": {},
   "outputs": [],
   "source": [
    "n2 = len(F)//2\n",
    "P = abs(F)[:n2]\n",
    "P[2:] *= 2\n",
    "fig(10,4)\n",
    "plt.bar(w[:n2],P, color='blue',alpha=0.5)\n",
    "plt.xticks(w[:n2]); \n",
    "plt.axis([-.5,24.5,0,5]);\n",
    "plt.title('espectro de frecuencias');"
   ]
  },
  {
   "cell_type": "markdown",
   "metadata": {},
   "source": [
    "Estas amplitudes coinciden con los coeficientes utilizados para definir `fun`."
   ]
  },
  {
   "cell_type": "markdown",
   "metadata": {},
   "source": [
    "Si se toman $n$ muestras sólo se puede analizar hasta la frecuencia $n\\over2$."
   ]
  },
  {
   "cell_type": "markdown",
   "metadata": {},
   "source": [
    "### Ortogonalidad"
   ]
  },
  {
   "cell_type": "markdown",
   "metadata": {},
   "source": [
    "*Power spectrum*, *Parseval Theorem*. La energía de la señal se reparte entre las diferentes frecuencias:\n",
    "\n",
    "$$\\int_t \\left|x(t)\\right|^2 dt = \\int_\\omega \\left|F(\\omega)\\right|^2 d \\omega$$"
   ]
  },
  {
   "cell_type": "markdown",
   "metadata": {},
   "source": [
    "Con transformación unitaria."
   ]
  },
  {
   "cell_type": "markdown",
   "metadata": {},
   "source": [
    "Normalizamos la transformación adecuadamente para que la inversa sea simplemente la directa de la entrada conjugada."
   ]
  },
  {
   "cell_type": "code",
   "execution_count": null,
   "metadata": {},
   "outputs": [],
   "source": [
    "def myfft(x):\n",
    "    return np.fft.fft(x)/np.sqrt(len(x))\n",
    "\n",
    "def myifft(x):\n",
    "    return myfft(np.conj(x))"
   ]
  },
  {
   "cell_type": "markdown",
   "metadata": {},
   "source": [
    "Formamos la matriz de la transformación y vemos que efectivamente es unitaria."
   ]
  },
  {
   "cell_type": "code",
   "execution_count": null,
   "metadata": {},
   "outputs": [],
   "source": [
    "matF = np.array([myfft(row) for row in np.eye(10)])\n",
    "\n",
    "np.linalg.det(matF)"
   ]
  },
  {
   "cell_type": "markdown",
   "metadata": {},
   "source": [
    "Esta es la señal muestreada que hemos creado más arriba:"
   ]
  },
  {
   "cell_type": "markdown",
   "metadata": {},
   "source": [
    "La misma operación (con la conjugación) es la identidad."
   ]
  },
  {
   "cell_type": "code",
   "execution_count": null,
   "metadata": {},
   "outputs": [],
   "source": [
    "plt.plot(f,lw=5)\n",
    "plt.plot(np.real(myifft(myfft(f))));"
   ]
  },
  {
   "cell_type": "markdown",
   "metadata": {},
   "source": [
    "Y como debe ser, la TF preserva la norma."
   ]
  },
  {
   "cell_type": "code",
   "execution_count": null,
   "metadata": {},
   "outputs": [],
   "source": [
    "np.linalg.norm(f), np.linalg.norm(myfft(f))"
   ]
  },
  {
   "cell_type": "markdown",
   "metadata": {},
   "source": [
    "### Armónicos"
   ]
  },
  {
   "cell_type": "markdown",
   "metadata": {},
   "source": [
    "Consideremos ahora una señal periódica pero con forma de onda muy distinta de la sinusoidal."
   ]
  },
  {
   "cell_type": "code",
   "execution_count": null,
   "metadata": {},
   "outputs": [],
   "source": [
    "x = np.arange(1000)\n",
    "f = np.zeros_like(x)\n",
    "f[x % 50 < 10] = 1"
   ]
  },
  {
   "cell_type": "code",
   "execution_count": null,
   "metadata": {},
   "outputs": [],
   "source": [
    "fig(18,4)\n",
    "plt.plot(f,lw=2);"
   ]
  },
  {
   "cell_type": "code",
   "execution_count": null,
   "metadata": {},
   "outputs": [],
   "source": [
    "F = fft.fft(f)/len(f)"
   ]
  },
  {
   "cell_type": "code",
   "execution_count": null,
   "metadata": {},
   "outputs": [],
   "source": [
    "fig(18,4)\n",
    "plt.plot(abs(F));"
   ]
  },
  {
   "cell_type": "markdown",
   "metadata": {},
   "source": [
    "La frecuencia $20=1000/50$ se detecta perfectamente pero aparecen armónicos, múltiplos de la frecuencia fundamental."
   ]
  },
  {
   "cell_type": "code",
   "execution_count": null,
   "metadata": {},
   "outputs": [],
   "source": [
    "# frecuencias más bajas, quitando la constante\n",
    "plt.plot(np.arange(1,100), abs(F)[1:100]);"
   ]
  },
  {
   "cell_type": "markdown",
   "metadata": {},
   "source": [
    "### Modulación"
   ]
  },
  {
   "cell_type": "markdown",
   "metadata": {},
   "source": [
    "(Este apartado es opcional)"
   ]
  },
  {
   "cell_type": "markdown",
   "metadata": {},
   "source": [
    "Combinación de una portadora y una modulación no lineal, multiplicativa:"
   ]
  },
  {
   "cell_type": "code",
   "execution_count": null,
   "metadata": {},
   "outputs": [],
   "source": [
    "x = np.linspace(0,30,1000)\n",
    "f = np.sin(2*np.pi*2*x) *np.sin(2*np.pi*0.1*x)\n",
    "#f = np.sin(2*np.pi*0.1*x)"
   ]
  },
  {
   "cell_type": "code",
   "execution_count": null,
   "metadata": {},
   "outputs": [],
   "source": [
    "fig(18,4)\n",
    "plt.plot(f);"
   ]
  },
  {
   "cell_type": "code",
   "execution_count": null,
   "metadata": {},
   "outputs": [],
   "source": [
    "F = fft.fft(f)/len(f)"
   ]
  },
  {
   "cell_type": "code",
   "execution_count": null,
   "metadata": {},
   "outputs": [],
   "source": [
    "fig(18,4)\n",
    "plt.plot(abs(F));\n",
    "np.where(abs(F)>0.2)"
   ]
  },
  {
   "cell_type": "markdown",
   "metadata": {},
   "source": [
    "Aparece, no por separado, sino $f_c + f_m$  y $f_c-f_m$."
   ]
  },
  {
   "cell_type": "code",
   "execution_count": null,
   "metadata": {},
   "outputs": [],
   "source": [
    "plt.plot(abs(F)[:100]);"
   ]
  },
  {
   "cell_type": "markdown",
   "metadata": {},
   "source": [
    "(La portadora se ha generado con frecuencia 2 y el análisis es en 30 unidades, por tanto corresponde a la posición 60 de la transformada. La modulación, que tiene frecuencia 0.1 corresponde a la posición 3.)"
   ]
  },
  {
   "cell_type": "markdown",
   "metadata": {},
   "source": [
    "### Transformada inversa"
   ]
  },
  {
   "cell_type": "markdown",
   "metadata": {},
   "source": [
    "Podemos sintetizar ondas creando un vector con las amplitudes de cada frecuencia y aplicando la transformada inversa:"
   ]
  },
  {
   "cell_type": "code",
   "execution_count": null,
   "metadata": {},
   "outputs": [],
   "source": [
    "F = np.zeros(100,dtype=complex)\n",
    "F[3] = 2\n",
    "F[5] = 1\n",
    "f = fft.ifft(F)*len(F)\n",
    "plt.plot(np.real(f));"
   ]
  },
  {
   "cell_type": "markdown",
   "metadata": {},
   "source": [
    "### Filtrado frecuencial"
   ]
  },
  {
   "cell_type": "markdown",
   "metadata": {},
   "source": [
    "Generamos una señal de test:"
   ]
  },
  {
   "cell_type": "code",
   "execution_count": null,
   "metadata": {},
   "outputs": [],
   "source": [
    "x = np.linspace(-3,3,1000)\n",
    "s = np.exp(-x**2)*np.cos(15*x)\n",
    "plt.plot(x,s);"
   ]
  },
  {
   "cell_type": "markdown",
   "metadata": {},
   "source": [
    "La contaminamos con ruido gaussiano:"
   ]
  },
  {
   "cell_type": "code",
   "execution_count": null,
   "metadata": {},
   "outputs": [],
   "source": [
    "sr = s + 0.1*rnd.randn(len(s))\n",
    "plt.plot(x,sr);"
   ]
  },
  {
   "cell_type": "markdown",
   "metadata": {},
   "source": [
    "Nos gustaría \"limpiar\" esta señal ruidosa para recuperar una versión lo más parecida posible a la original. Esto se podría hacer de diferentes formas, pero aquí vamos a intentar hacerlo modificando su espectro de frecuencias. El ruido gaussiano es \"blanco\", tiene todas las frecuencias. Si sabemos cuál es el ancho de banda de la señal original podemos eliminar las demás frecuencias."
   ]
  },
  {
   "cell_type": "code",
   "execution_count": null,
   "metadata": {},
   "outputs": [],
   "source": [
    "fsr = fft.fft(sr)\n",
    "plt.plot(np.log(1+np.abs(fsr)));"
   ]
  },
  {
   "cell_type": "markdown",
   "metadata": {},
   "source": [
    "Hagamos \"zoom\":"
   ]
  },
  {
   "cell_type": "code",
   "execution_count": null,
   "metadata": {
    "tags": []
   },
   "outputs": [],
   "source": [
    "fsr = fft.fft(sr)\n",
    "plt.plot(np.log(1+np.abs(fsr))[0:50]);"
   ]
  },
  {
   "cell_type": "markdown",
   "metadata": {},
   "source": [
    "Parece que la señal llega hasta la frecuencia 20 más o menos. Anulamos todas las mayores y reconstruimos:"
   ]
  },
  {
   "cell_type": "code",
   "execution_count": null,
   "metadata": {},
   "outputs": [],
   "source": [
    "fig(12,8)\n",
    "fil = np.ones(len(fsr))\n",
    "c = 21\n",
    "fil[c:-(c-1)] = 0\n",
    "plt.subplot(2,1,1)\n",
    "plt.plot(fil); plt.axis([0,1000,-0.1,1.1]); plt.title('filtro')\n",
    "plt.subplot(2,1,2)\n",
    "plt.plot(np.real(fft.ifft(fsr*fil))); plt.title('resultado');"
   ]
  },
  {
   "cell_type": "markdown",
   "metadata": {},
   "source": [
    "Si conocemos el espectro de la señal original podríamos filtrar con mayor precisión."
   ]
  },
  {
   "cell_type": "code",
   "execution_count": null,
   "metadata": {},
   "outputs": [],
   "source": [
    "plt.plot(np.log(1+np.abs(fft.fft(s)[0:30])));"
   ]
  },
  {
   "cell_type": "markdown",
   "metadata": {},
   "source": [
    "Vemos que solo tiene componentes apreciables en las frecuencias desde 9 hasta 19. El resto se puede eliminar."
   ]
  },
  {
   "cell_type": "markdown",
   "metadata": {},
   "source": [
    "En la práctica no se debe filtrar tan bruscamente, es mejor atenuar frecuencias de forma gradual."
   ]
  },
  {
   "cell_type": "markdown",
   "metadata": {},
   "source": [
    "### Correlación"
   ]
  },
  {
   "cell_type": "markdown",
   "metadata": {},
   "source": [
    "Comprobamos que podemos calcular eficientemente la correlación entre dos señales en el dominio de la frecuencia.\n",
    "\n",
    "Creamos una señal del prueba y la desplazamos un número de muestras predeterminado."
   ]
  },
  {
   "cell_type": "code",
   "execution_count": null,
   "metadata": {},
   "outputs": [],
   "source": [
    "def gauss(x,m,s):\n",
    "    return np.exp(-0.5*((x-m)/s)**2)"
   ]
  },
  {
   "cell_type": "code",
   "execution_count": null,
   "metadata": {},
   "outputs": [],
   "source": [
    "D = 12\n",
    "\n",
    "#x = f\n",
    "x = gauss(np.arange(50),25,10)\n",
    "x = np.clip(x,0,0.8)\n",
    "xo = np.roll(x,D)/2+0.3\n",
    "\n",
    "plt.plot(x,label='model')\n",
    "plt.plot(xo,label='observed');\n",
    "plt.legend();"
   ]
  },
  {
   "cell_type": "markdown",
   "metadata": {},
   "source": [
    "Vemos el resultado intermedio, el producto de transformadas:"
   ]
  },
  {
   "cell_type": "code",
   "execution_count": null,
   "metadata": {},
   "outputs": [],
   "source": [
    "Fx =  myfft(x)\n",
    "Fxo = myfft(xo)\n",
    "Fcorr = np.conj(Fx) * (Fxo)\n",
    "\n",
    "plt.plot(np.real(Fcorr)); plt.plot(np.imag(Fcorr))\n",
    "plt.title(\"TF crosscorr\");"
   ]
  },
  {
   "cell_type": "markdown",
   "metadata": {},
   "source": [
    "Y pasamos la correlación al dominio espacial. La posición de máxima correlación detecta perfectamente el desplazamiento que hemos introducido."
   ]
  },
  {
   "cell_type": "code",
   "execution_count": null,
   "metadata": {},
   "outputs": [],
   "source": [
    "corr = np.real(np.fft.ifft(Fcorr))\n",
    "d = np.argmax(corr)\n",
    "\n",
    "plt.plot(corr);\n",
    "plt.plot(corr*0,color='gray',lw=0.5)\n",
    "plt.plot([d,d],[0,corr[d]],color='red');\n",
    "plt.title('crosscorr')\n",
    "plt.text(15,0.05,f\"lag = {d}\");"
   ]
  },
  {
   "cell_type": "markdown",
   "metadata": {},
   "source": [
    "En los \"discriminative correlation filters\" deseamos una respuesta mucho más afilada en la posición de máxima correlación:"
   ]
  },
  {
   "cell_type": "code",
   "execution_count": null,
   "metadata": {},
   "outputs": [],
   "source": [
    "y = np.roll(gauss(np.arange(len(x)),25,2),25)\n",
    "\n",
    "plt.plot(y);\n",
    "plt.title(\"sharper desired response (at zero lag)\");"
   ]
  },
  {
   "cell_type": "code",
   "execution_count": null,
   "metadata": {},
   "outputs": [],
   "source": [
    "Fy = myfft(y)\n",
    "\n",
    "plt.plot(np.real(Fy)); plt.plot(np.imag(Fy));\n",
    "plt.title(\"TF of desired response\");"
   ]
  },
  {
   "cell_type": "markdown",
   "metadata": {},
   "source": [
    "El filtro \"ingenuo\" que simplemente divide la respuesta deseada por la señal (en el dominio de la frecuencia) se puede encontrar con divisiones por cero:"
   ]
  },
  {
   "cell_type": "code",
   "execution_count": null,
   "metadata": {},
   "outputs": [],
   "source": [
    "print(f\"min abs value (denominator): {np.abs(Fx).min()}\")\n",
    "filtro = Fy / Fx\n",
    "\n",
    "plt.plot(np.real(filtro)); plt.plot(np.imag(filtro));\n",
    "plt.title(\"naive filter (Fy/Fx)\");"
   ]
  },
  {
   "cell_type": "code",
   "execution_count": null,
   "metadata": {},
   "outputs": [],
   "source": [
    "Fcorr = filtro * (Fxo)\n",
    "\n",
    "plt.plot(np.real(Fcorr)); plt.plot(np.imag(Fcorr))\n",
    "plt.title(\"naive (filter · Fx0)\");"
   ]
  },
  {
   "cell_type": "code",
   "execution_count": null,
   "metadata": {},
   "outputs": [],
   "source": [
    "corr = np.real(np.fft.ifft(Fcorr))\n",
    "d = np.argmax(corr)\n",
    "\n",
    "plt.plot(corr);\n",
    "plt.plot(corr*0,color='gray',lw=0.5)\n",
    "plt.plot([d,d],[0,corr[d]],color='red');\n",
    "plt.text(15,0.05,f\"lag = {d}\")\n",
    "plt.title('response');"
   ]
  },
  {
   "cell_type": "markdown",
   "metadata": {},
   "source": [
    "Funciona bien pero es numéricamente inestable. Es preferible obtener una solución regularizada."
   ]
  },
  {
   "cell_type": "code",
   "execution_count": null,
   "metadata": {},
   "outputs": [],
   "source": [
    "filtro = np.conj(Fx)*(Fy) / (Fx*np.conj(Fx) + 1E-4)\n",
    "\n",
    "plt.plot(np.real(filtro)); plt.plot(np.imag(filtro));\n",
    "plt.title(\"regularized filter Fx^ Fy / (Fx^Fx + lambda)\");"
   ]
  },
  {
   "cell_type": "code",
   "execution_count": null,
   "metadata": {},
   "outputs": [],
   "source": [
    "Fcorr = filtro * (Fxo)\n",
    "\n",
    "plt.plot(np.real(Fcorr)); plt.plot(np.imag(Fcorr))\n",
    "plt.title(\"regularized (filter · Fx0)\");"
   ]
  },
  {
   "cell_type": "code",
   "execution_count": null,
   "metadata": {},
   "outputs": [],
   "source": [
    "corr = np.real(np.fft.ifft(Fcorr))\n",
    "d = np.argmax(corr)\n",
    "\n",
    "plt.plot(corr);\n",
    "plt.plot(corr*0,color='gray',lw=0.5)\n",
    "plt.plot([d,d],[0,corr[d]],color='red');\n",
    "plt.text(15,0.05,f\"lag = {d}\")\n",
    "plt.title('response');"
   ]
  },
  {
   "cell_type": "markdown",
   "metadata": {},
   "source": [
    "Estas comprobaciones se hacen con señales periódicas. En aplicaciones reales con señales arbitrarias podemos usar una \"ventana\" que anula los extremos."
   ]
  },
  {
   "cell_type": "markdown",
   "metadata": {},
   "source": [
    "### Señales 2D"
   ]
  },
  {
   "cell_type": "markdown",
   "metadata": {},
   "source": [
    "Cuando trabajamos con señales bidimensionales (imágenes) las componentes frecuenciales son ondas planas en diferentes direcciones, frecuencias y desplazamientos:"
   ]
  },
  {
   "cell_type": "code",
   "execution_count": null,
   "metadata": {},
   "outputs": [],
   "source": [
    "F = np.zeros([500,500])\n",
    "F[3,4] = 1; F[-2,-3] = 1\n",
    "#F[4,6] = 1; F[-3,-5] = 1\n",
    "#F[1,2] = 1; F[-1,-2] = 1\n",
    "f = ift(F)\n",
    "fig(6,6)\n",
    "plt.imshow(np.abs(f),'gray');"
   ]
  },
  {
   "cell_type": "markdown",
   "metadata": {},
   "source": [
    "[Este vídeo](https://www.youtube.com/watch?v=D9ziTuJ3OCw) muestra la reconstrucción de una imagen a partir de estas ondas. Intenta descubrir quién es el personaje antes de que tenga suficiente detalle."
   ]
  },
  {
   "cell_type": "markdown",
   "metadata": {},
   "source": [
    "Si la imagen tiene un patrón repetido uniforme su orientación y frecuencia se puede descubrir en la FFT."
   ]
  },
  {
   "cell_type": "code",
   "execution_count": null,
   "metadata": {},
   "outputs": [],
   "source": [
    "img = readrgb('texto/borroso0.png')\n",
    "n = min(img.shape[:2])\n",
    "img = img[:n,:n]\n",
    "#img = readrgb('d2.jpg')[0:800,0:800]\n",
    "\n",
    "\n",
    "fig(12,4)\n",
    "plt.subplot(1,2,1); plt.imshow(img); plt.title('rgb')\n",
    "g = rgb2gray(img)\n",
    "f = gray2float(g)\n",
    "plt.subplot(1,2,2); imshowf(f); plt.title('grayscale');"
   ]
  },
  {
   "cell_type": "code",
   "execution_count": null,
   "metadata": {},
   "outputs": [],
   "source": [
    "ff = np.log(1+abs(ft(f)))\n",
    "#ff[0,0] = 0\n",
    "r,c = ff.shape\n",
    "r2 = r // 2\n",
    "c2 = c // 2\n",
    "\n",
    "fig(12,4)\n",
    "plt.subplot(1,2,1); imshowg(centrafft(ff)); plt.title('fft centrada')\n",
    "plt.subplot(1,2,2); imshowg(centrafft(ff)[r2-50:r2+50,c2-50:c2+50]); plt.title('zoom');"
   ]
  },
  {
   "cell_type": "markdown",
   "metadata": {},
   "source": [
    "Los picos más cercanos al origen nos dan la dirección y frecuencia de la oscilación fundamental. Esto puede utilizarse para corregir la orientación del texto anterior."
   ]
  },
  {
   "cell_type": "markdown",
   "metadata": {},
   "source": [
    "El ejemplo de código `code/spectral.py` muestra en vivo la fft 2D de la imagen de entrada."
   ]
  },
  {
   "cell_type": "markdown",
   "metadata": {},
   "source": [
    "## misc"
   ]
  },
  {
   "cell_type": "markdown",
   "metadata": {},
   "source": [
    "- clasificación de trazos\n",
    "\n",
    "- cambiar fase vs cambiar amplitud\n",
    "\n",
    "- [imágenes híbridas](http://jeremykun.com/2014/09/29/hybrid-images/)"
   ]
  }
 ],
 "metadata": {
  "hide_input": false,
  "kernelspec": {
   "display_name": "Python 3 (ipykernel)",
   "language": "python",
   "name": "python3"
  },
  "language_info": {
   "codemirror_mode": {
    "name": "ipython",
    "version": 3
   },
   "file_extension": ".py",
   "mimetype": "text/x-python",
   "name": "python",
   "nbconvert_exporter": "python",
   "pygments_lexer": "ipython3",
   "version": "3.11.5"
  },
  "varInspector": {
   "cols": {
    "lenName": 16,
    "lenType": 16,
    "lenVar": 40
   },
   "kernels_config": {
    "python": {
     "delete_cmd_postfix": "",
     "delete_cmd_prefix": "del ",
     "library": "var_list.py",
     "varRefreshCmd": "print(var_dic_list())"
    },
    "r": {
     "delete_cmd_postfix": ") ",
     "delete_cmd_prefix": "rm(",
     "library": "var_list.r",
     "varRefreshCmd": "cat(var_dic_list()) "
    }
   },
   "types_to_exclude": [
    "module",
    "function",
    "builtin_function_or_method",
    "instance",
    "_Feature"
   ],
   "window_display": false
  }
 },
 "nbformat": 4,
 "nbformat_minor": 4
}

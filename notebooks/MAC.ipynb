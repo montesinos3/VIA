{
 "cells": [
  {
   "cell_type": "markdown",
   "metadata": {},
   "source": [
    "# Instalación del entorno conda en Mac"
   ]
  },
  {
   "cell_type": "markdown",
   "metadata": {},
   "source": [
    "Para la instalación del enotorno \"via\" Mac, lo primero es instalar conda completo, desde el siguiente enlace: https://www.anaconda.com/download/. Esto es un proceso sencillo en el que simplemente tenemos que seguir las indicaciones del instalador."
   ]
  },
  {
   "cell_type": "markdown",
   "metadata": {},
   "source": [
    "Ahora, en una nueva terminal, debemos descargarnos el fichero para importar el entorno:\n",
    "\n",
    "    wget http://robot.inf.um.es/material/va/VIA.yml\n",
    "\n",
    "Edítalo y cambia en la última línea el nombre de usuario.\n",
    "\n",
    "A continuación, tenemos que importar el entorno ya preparado \"via\" mediante el siguiente comando:\n",
    "\n",
    "    conda env create -f VIA.yml\n",
    "\n",
    "Por último debemos instalar el paquete umucv, ya que este paquete no es posible instalarlo mediante el fichero del entorno:\n",
    "\n",
    "    pip install --upgrade http://robot.inf.um.es/material/umucv.tar.gz\n"
   ]
  },
  {
   "cell_type": "markdown",
   "metadata": {},
   "source": [
    "## Comprobar que el entorno funciona"
   ]
  },
  {
   "cell_type": "markdown",
   "metadata": {},
   "source": [
    "Para comprobar el funcionamiento del entorno, podemos los ejemplos del notebook de prueba y ejecutar algunos scripts de python como ./surface.py o ./stream.py."
   ]
  },
  {
   "cell_type": "markdown",
   "metadata": {},
   "source": [
    "## Comentarios finales"
   ]
  },
  {
   "cell_type": "markdown",
   "metadata": {},
   "source": [
    "Si teneis alguna duda, no dudeis en contactar conmigo mediante mi correo: eduardo.salmeronc@um.es"
   ]
  }
 ],
 "metadata": {
  "kernelspec": {
   "display_name": "Python 3",
   "language": "python",
   "name": "python3"
  },
  "language_info": {
   "codemirror_mode": {
    "name": "ipython",
    "version": 3
   },
   "file_extension": ".py",
   "mimetype": "text/x-python",
   "name": "python",
   "nbconvert_exporter": "python",
   "pygments_lexer": "ipython3",
   "version": "3.6.4"
  }
 },
 "nbformat": 4,
 "nbformat_minor": 2
}

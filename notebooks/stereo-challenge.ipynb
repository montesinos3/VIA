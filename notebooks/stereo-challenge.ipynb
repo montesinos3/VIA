{
 "cells": [
  {
   "cell_type": "markdown",
   "metadata": {},
   "source": [
    "# Ejercicios de visión estéreo"
   ]
  },
  {
   "cell_type": "code",
   "execution_count": 1,
   "metadata": {},
   "outputs": [],
   "source": [
    "%matplotlib inline\n",
    "\n",
    "import numpy             as np\n",
    "import matplotlib.pyplot as plt\n",
    "\n",
    "from umucv.util   import shcont\n",
    "\n",
    "def fig(w,h):\n",
    "    plt.figure(figsize=(w,h))"
   ]
  },
  {
   "cell_type": "markdown",
   "metadata": {},
   "source": [
    "## Problema 1"
   ]
  },
  {
   "cell_type": "markdown",
   "metadata": {},
   "source": [
    "En un partido de fútbol hemos conseguido registrar la posición de la portería, el área pequeña y la pelota en dos imágenes."
   ]
  },
  {
   "cell_type": "code",
   "execution_count": 2,
   "metadata": {},
   "outputs": [],
   "source": [
    "sz = (640,480)\n",
    "\n",
    "v1 =  np.array([\n",
    "       [ 356.,  244.],\n",
    "       [ 356.,  271.],\n",
    "       [ 283.,  264.],\n",
    "       [ 283.,  236.],\n",
    "       [ 408.,  249.],\n",
    "       [ 441.,  239.],\n",
    "       [ 256.,  219.],\n",
    "       [ 227.,  230.]])\n",
    "v2 =  np.array([\n",
    "       [ 354.,  234.],\n",
    "       [ 354.,  262.],\n",
    "       [ 286.,  273.],\n",
    "       [ 287.,  246.],\n",
    "       [ 408.,  225.],\n",
    "       [ 370.,  212.],\n",
    "       [ 198.,  243.],\n",
    "       [ 238.,  254.]])\n",
    "b1 =  np.array([[ 335.,  257.]])\n",
    "b2 =  np.array([[ 341.,  252.]])"
   ]
  },
  {
   "cell_type": "code",
   "execution_count": 3,
   "metadata": {},
   "outputs": [
    {
     "data": {
      "image/png": "[encoded data removed]",
      "text/plain": [
       "<matplotlib.figure.Figure at 0x7f212f49a748>"
      ]
     },
     "metadata": {},
     "output_type": "display_data"
    }
   ],
   "source": [
    "fig(12,4)\n",
    "plt.subplot(1,2,1); shcont(v1,nodes=False); shcont(b1,'red'); ax = plt.axis((sz[0],0,0,sz[1]))\n",
    "plt.subplot(1,2,2); shcont(v2,nodes=False); shcont(b2,'red'); plt.axis(ax);"
   ]
  },
  {
   "cell_type": "markdown",
   "metadata": {},
   "source": [
    "Determina si es gol, conociendo las medidas del campo y sabiendo que ambas cámaras tienen un campo visual horizontal de 20º."
   ]
  },
  {
   "cell_type": "markdown",
   "metadata": {},
   "source": [
    "(Nota: este problema es poco realista porque no es trivial tener perfectamente sincronizadas cámaras tan alejadas entre sí.)"
   ]
  },
  {
   "cell_type": "markdown",
   "metadata": {},
   "source": [
    "## Problema 2"
   ]
  },
  {
   "cell_type": "markdown",
   "metadata": {},
   "source": [
    "En otro partido de fútbol hemos conseguido registrar la posición de la portería, el área pequeña y la pelota en dos imágenes."
   ]
  },
  {
   "cell_type": "code",
   "execution_count": 4,
   "metadata": {},
   "outputs": [],
   "source": [
    "sz = (4*640,4*480)\n",
    "\n",
    "v1 =  np.array([\n",
    "       [ 1742.,  1179.],\n",
    "       [ 1769.,  1352.],\n",
    "       [ 1280.,  1144.],\n",
    "       [ 1280.,   960.],\n",
    "       [ 2020.,  1310.],\n",
    "       [ 2385.,  1132.],\n",
    "       [ 1154.,   385.],\n",
    "       [  837.,   750.]])\n",
    "v2 =  np.array([\n",
    "       [ 1171.,  1360.],\n",
    "       [ 1164.,  1560.],\n",
    "       [  704.,  1695.],\n",
    "       [  733.,  1512.],\n",
    "       [ 1582.,  1219.],\n",
    "       [ 1280.,   960.],\n",
    "       [  114.,  1470.],\n",
    "       [  466.,  1604.]])\n",
    "b1 =  np.array([[ 1612.,  1236.]])\n",
    "b2 =  np.array([[ 1078.,  1514.]])"
   ]
  },
  {
   "cell_type": "code",
   "execution_count": 5,
   "metadata": {},
   "outputs": [
    {
     "data": {
      "image/png": "[encoded data removed]",
      "text/plain": [
       "<matplotlib.figure.Figure at 0x7f2127151e80>"
      ]
     },
     "metadata": {},
     "output_type": "display_data"
    }
   ],
   "source": [
    "fig(12,4)\n",
    "plt.subplot(1,2,1); shcont(v1,nodes=False); shcont(b1,'red'); ax = plt.axis((sz[0],0,0,sz[1]))\n",
    "plt.subplot(1,2,2); shcont(v2,nodes=False); shcont(b2,'red'); plt.axis(ax);"
   ]
  },
  {
   "cell_type": "markdown",
   "metadata": {},
   "source": [
    "Determina si es gol, suponiendo que ahora **no** conocemos las medidas del campo ni de la portería, y tampoco conocemos la calibración de la cámara."
   ]
  }
 ],
 "metadata": {
  "hide_input": false,
  "kernelspec": {
   "display_name": "Python 3 (ipykernel)",
   "language": "python",
   "name": "python3"
  },
  "language_info": {
   "codemirror_mode": {
    "name": "ipython",
    "version": 3
   },
   "file_extension": ".py",
   "mimetype": "text/x-python",
   "name": "python",
   "nbconvert_exporter": "python",
   "pygments_lexer": "ipython3",
   "version": "3.12.8"
  },
  "varInspector": {
   "cols": {
    "lenName": 16,
    "lenType": 16,
    "lenVar": 40
   },
   "kernels_config": {
    "python": {
     "delete_cmd_postfix": "",
     "delete_cmd_prefix": "del ",
     "library": "var_list.py",
     "varRefreshCmd": "print(var_dic_list())"
    },
    "r": {
     "delete_cmd_postfix": ") ",
     "delete_cmd_prefix": "rm(",
     "library": "var_list.r",
     "varRefreshCmd": "cat(var_dic_list()) "
    }
   },
   "types_to_exclude": [
    "module",
    "function",
    "builtin_function_or_method",
    "instance",
    "_Feature"
   ],
   "window_display": false
  }
 },
 "nbformat": 4,
 "nbformat_minor": 4
}

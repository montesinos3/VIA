{
 "cells": [
  {
   "cell_type": "markdown",
   "metadata": {},
   "source": [
    "# Histograma"
   ]
  },
  {
   "cell_type": "code",
   "execution_count": null,
   "metadata": {},
   "outputs": [],
   "source": [
    "%matplotlib inline\n",
    "\n",
    "import numpy             as np\n",
    "import cv2               as cv\n",
    "import matplotlib.pyplot as plt\n",
    "\n",
    "from skimage.io import imread\n",
    "\n",
    "def fig(w,h):\n",
    "    return plt.figure(figsize=(w,h))"
   ]
  },
  {
   "cell_type": "code",
   "execution_count": null,
   "metadata": {},
   "outputs": [],
   "source": [
    "img = imread('../images/coins.png')\n",
    "g = cv.cvtColor(img,cv.COLOR_RGB2GRAY)\n",
    "\n",
    "plt.imshow(g,'gray');\n",
    "plt.colorbar();"
   ]
  },
  {
   "cell_type": "code",
   "execution_count": null,
   "metadata": {},
   "outputs": [],
   "source": [
    "np.histogram([0,1,2,3,0,3],np.arange(5))"
   ]
  },
  {
   "cell_type": "code",
   "execution_count": null,
   "metadata": {},
   "outputs": [],
   "source": [
    "fig(12,4)\n",
    "plt.hist(g.flatten(), np.arange(257)); plt.xlabel('nivel de gris'); plt.ylabel('número de pixels');\n",
    "plt.title('histograma');"
   ]
  },
  {
   "cell_type": "markdown",
   "metadata": {},
   "source": [
    "## Transformaciones de \"valor\""
   ]
  },
  {
   "cell_type": "markdown",
   "metadata": {},
   "source": [
    "Se modifica cada pixel independientemente de los demás."
   ]
  },
  {
   "cell_type": "code",
   "execution_count": null,
   "metadata": {},
   "outputs": [],
   "source": [
    "img = imread('../images/exposure/exposure1.jpg')\n",
    "#img = imread('../images/coins.png')\n",
    "#img = imread('../images/cube3.png')"
   ]
  },
  {
   "cell_type": "code",
   "execution_count": null,
   "metadata": {},
   "outputs": [],
   "source": [
    "g = cv.cvtColor(img,cv.COLOR_RGB2GRAY).astype(float)"
   ]
  },
  {
   "cell_type": "code",
   "execution_count": null,
   "metadata": {},
   "outputs": [],
   "source": [
    "def show(x):\n",
    "    fig(12,4)\n",
    "    plt.subplot(1,2,1)\n",
    "    plt.imshow(x,'gray',vmin=0, vmax=255)\n",
    "    plt.subplot(1,2,2)\n",
    "    kk = plt.hist(np.clip(x,0,255).flatten(),np.arange(257)); plt.axis([-1,256,0,10000]);\n",
    "    #print(kk[0])"
   ]
  },
  {
   "cell_type": "code",
   "execution_count": null,
   "metadata": {},
   "outputs": [],
   "source": [
    "show(g)"
   ]
  },
  {
   "cell_type": "code",
   "execution_count": null,
   "metadata": {},
   "outputs": [],
   "source": [
    "show(g+100)"
   ]
  },
  {
   "cell_type": "markdown",
   "metadata": {},
   "source": [
    "## Histogram equalization\n",
    "\n",
    "En el siguiente ejemplo vamos a mostrar un par de técnicas de normalización de contraste que tratan de repartir un poco mejor la gama de blanco a negro de la imagen."
   ]
  },
  {
   "cell_type": "code",
   "execution_count": null,
   "metadata": {},
   "outputs": [],
   "source": [
    "# trabajan con pixels de tipo int\n",
    "g = cv.cvtColor(img,cv.COLOR_RGB2GRAY)"
   ]
  },
  {
   "cell_type": "code",
   "execution_count": null,
   "metadata": {},
   "outputs": [],
   "source": [
    "show(cv.equalizeHist(g))"
   ]
  },
  {
   "cell_type": "markdown",
   "metadata": {},
   "source": [
    "El método [CLAHE](https://en.wikipedia.org/wiki/Adaptive_histogram_equalization) (*contrast limited adaptive histogram equalization*) equaliza cada pixel con el histograma de su entorno local. La limitación de contraste evita la amplificación del ruido."
   ]
  },
  {
   "cell_type": "code",
   "execution_count": null,
   "metadata": {},
   "outputs": [],
   "source": [
    "clahe = cv.createCLAHE(clipLimit=2.0, tileGridSize=(8,8))"
   ]
  },
  {
   "cell_type": "code",
   "execution_count": null,
   "metadata": {},
   "outputs": [],
   "source": [
    "show(clahe.apply(g))"
   ]
  },
  {
   "cell_type": "markdown",
   "metadata": {},
   "source": [
    "En imágenes en color se puede aplicar la ecualización de histograma al canal de luminancia en el espacios de color YUV, HSL, etc."
   ]
  },
  {
   "cell_type": "code",
   "execution_count": null,
   "metadata": {},
   "outputs": [],
   "source": [
    "yuv = cv.cvtColor(img,cv.COLOR_RGB2YUV)\n",
    "#yuv[:,:,0] = cv.equalizeHist(yuv[:,:,0])\n",
    "yuv[:,:,0] = clahe.apply(yuv[:,:,0])\n",
    "z = cv.cvtColor(yuv,cv.COLOR_YUV2RGB)\n",
    "\n",
    "plt.figure(figsize=(12,4))\n",
    "plt.subplot(1,2,1); plt.imshow(img);\n",
    "plt.subplot(1,2,2); plt.imshow(z);"
   ]
  },
  {
   "cell_type": "markdown",
   "metadata": {},
   "source": [
    "## Histogram 2D"
   ]
  },
  {
   "cell_type": "code",
   "execution_count": null,
   "metadata": {},
   "outputs": [],
   "source": [
    "import numpy as np\n",
    "import matplotlib.pyplot as plt"
   ]
  },
  {
   "cell_type": "code",
   "execution_count": null,
   "metadata": {},
   "outputs": [],
   "source": [
    "datos = np.random.randn(1000,2)\n",
    "plt.figure(figsize=(8,8))\n",
    "plt.plot(*datos.T,'.')\n",
    "plt.axis('equal');"
   ]
  },
  {
   "cell_type": "code",
   "execution_count": null,
   "metadata": {},
   "outputs": [],
   "source": [
    "plt.figure(figsize=(6,6))\n",
    "hist,*k = plt.hist2d(*np.random.randn(1000,2).T,bins=20)\n",
    "plt.axis('equal');"
   ]
  },
  {
   "cell_type": "code",
   "execution_count": null,
   "metadata": {},
   "outputs": [],
   "source": [
    "from mpl_toolkits.mplot3d import Axes3D\n",
    "fg = plt.figure(figsize=(14, 6))\n",
    "\n",
    "_xx, _yy = np.meshgrid(np.arange(20), np.arange(20))\n",
    "x, y = _xx.ravel(), _yy.ravel()\n",
    "bottom = 0\n",
    "width = depth = 1\n",
    "\n",
    "ax1 = fg.add_subplot(121, projection='3d')\n",
    "top = hist.ravel()\n",
    "ax1.bar3d(x, y, bottom, width, depth, top , shade=True);"
   ]
  }
 ],
 "metadata": {
  "hide_input": false,
  "kernelspec": {
   "display_name": "Python 3 (ipykernel)",
   "language": "python",
   "name": "python3"
  },
  "language_info": {
   "codemirror_mode": {
    "name": "ipython",
    "version": 3
   },
   "file_extension": ".py",
   "mimetype": "text/x-python",
   "name": "python",
   "nbconvert_exporter": "python",
   "pygments_lexer": "ipython3",
   "version": "3.12.8"
  },
  "varInspector": {
   "cols": {
    "lenName": 16,
    "lenType": 16,
    "lenVar": 40
   },
   "kernels_config": {
    "python": {
     "delete_cmd_postfix": "",
     "delete_cmd_prefix": "del ",
     "library": "var_list.py",
     "varRefreshCmd": "print(var_dic_list())"
    },
    "r": {
     "delete_cmd_postfix": ") ",
     "delete_cmd_prefix": "rm(",
     "library": "var_list.r",
     "varRefreshCmd": "cat(var_dic_list()) "
    }
   },
   "types_to_exclude": [
    "module",
    "function",
    "builtin_function_or_method",
    "instance",
    "_Feature"
   ],
   "window_display": false
  }
 },
 "nbformat": 4,
 "nbformat_minor": 4
}

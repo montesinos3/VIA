{
 "cells": [
  {
   "cell_type": "markdown",
   "metadata": {},
   "source": [
    "# Chroma key"
   ]
  },
  {
   "cell_type": "markdown",
   "metadata": {},
   "source": [
    "Vamos a implementar el efecto de composición de imágenes [chroma key](https://en.wikipedia.org/wiki/Chroma_key)."
   ]
  },
  {
   "cell_type": "code",
   "execution_count": null,
   "metadata": {},
   "outputs": [],
   "source": [
    "import numpy             as np\n",
    "import cv2               as cv\n",
    "import skimage           as si\n",
    "import matplotlib.pyplot as plt\n",
    "import ipywidgets\n",
    "from matplotlib.pyplot import imshow, subplot, title\n",
    "\n",
    "%matplotlib inline"
   ]
  },
  {
   "cell_type": "code",
   "execution_count": null,
   "metadata": {},
   "outputs": [],
   "source": [
    "def fig(w,h):\n",
    "    return plt.figure(figsize=(w,h))\n",
    "\n",
    "def readrgb(file):\n",
    "    return cv.cvtColor( cv.imread(\"../images/\"+file), cv.COLOR_BGR2RGB) \n",
    "\n",
    "def rgb2yuv(x):\n",
    "    return cv.cvtColor(x,cv.COLOR_RGB2YUV)"
   ]
  },
  {
   "cell_type": "markdown",
   "metadata": {},
   "source": [
    "## Chroma"
   ]
  },
  {
   "cell_type": "markdown",
   "metadata": {},
   "source": [
    "Necesitamos una imagen de fondo (\"*background*\"). Si tuviéramos un fondo uniforme de color muy distinto al objeto (el típico fondo verde) sería más fácil separarlo. Pero vamos a trabajar con cualquier escena. Por ejemplo:"
   ]
  },
  {
   "cell_type": "code",
   "execution_count": null,
   "metadata": {},
   "outputs": [],
   "source": [
    "back = readrgb(\"mono-0.png\")\n",
    "obj  = readrgb(\"mono-1.png\")\n",
    "\n",
    "fig(12,4)\n",
    "subplot(1,2,1); imshow(back); title('fondo')\n",
    "subplot(1,2,2); imshow(obj); title('aparece objeto');"
   ]
  },
  {
   "cell_type": "markdown",
   "metadata": {},
   "source": [
    "Queremos meter al personaje en un paisaje distinto.\n",
    "\n",
    "Para ello vamos a intentar obtener una \"máscara\" de los pixels ocupados por el objeto. Calculamos la diferencia absoluta pixel a pixel y la binarizamos con un umbral que ajustamos por prueba y error."
   ]
  },
  {
   "cell_type": "code",
   "execution_count": null,
   "metadata": {},
   "outputs": [],
   "source": [
    "# diferencia de imágenes en el espacio RGB\n",
    "drgb = np.sum(cv.absdiff(back,obj), axis=2)\n",
    "\n",
    "imshow(drgb,'gray'); title('diferencia RGB');"
   ]
  },
  {
   "cell_type": "markdown",
   "metadata": {},
   "source": [
    "Observamos la distribución de valores:"
   ]
  },
  {
   "cell_type": "code",
   "execution_count": null,
   "metadata": {},
   "outputs": [],
   "source": [
    "plt.hist(drgb.flatten(),100);"
   ]
  },
  {
   "cell_type": "markdown",
   "metadata": {},
   "source": [
    "El punto de corte para separar las zonas donde realmente está el objeto se elige a ojo mirando el histograma, en un valor que esté en el valle entre los valores de diferencia bajos y altos. (Más adelante estudiaremos el umbralizado automático.)\n",
    "\n",
    "El aspecto que tendrá la \"máscara\" de selección del objeto (imagen booleana que indica los píxels que pertencen al objeto) se puede mostrar de forma interactiva para cualquier umbral de corte usando la función \"interactive\":"
   ]
  },
  {
   "cell_type": "code",
   "execution_count": null,
   "metadata": {},
   "outputs": [],
   "source": [
    "def fun(h):\n",
    "    imshow(drgb>h,'gray')\n",
    "\n",
    "ipywidgets.interactive(fun, h=(0,350))"
   ]
  },
  {
   "cell_type": "markdown",
   "metadata": {},
   "source": [
    "Finalmente creamos la máscara con el umbral deseado y copiamos solo esos pixels a la imagen de destino (que debe ser del mismo tamaño)."
   ]
  },
  {
   "cell_type": "code",
   "execution_count": null,
   "metadata": {},
   "outputs": [],
   "source": [
    "mask = drgb > 80\n",
    "\n",
    "fig(12,4)\n",
    "imshow(mask,'gray'); title('mask');"
   ]
  },
  {
   "cell_type": "markdown",
   "metadata": {},
   "source": [
    "Finalmente elegimos una imagen de destino y copiamos los pixels del personaje con ayuda de la máscara."
   ]
  },
  {
   "cell_type": "code",
   "execution_count": null,
   "metadata": {},
   "outputs": [],
   "source": [
    "# el paisaje ficticio donde queremos insertar el personaje\n",
    "dst  = readrgb(\"pano/pano003.jpg\")\n",
    "# nos aseguramos de que tenga el mismo tamaño que las imágenes anteriores\n",
    "r,c = mask.shape\n",
    "result = cv.resize(dst,(c,r))\n",
    "\n",
    "# hay que convertir la mask a 3 canales para poder copiar rgb\n",
    "mask3 = np.expand_dims(mask,axis=2)\n",
    "\n",
    "np.copyto(result, obj, where = mask3)\n",
    "\n",
    "imshow(result); title('resultado');\n",
    "#cv.imwrite('chroma.png',cv.cvtColor(result,cv.COLOR_RGB2BGR))"
   ]
  },
  {
   "cell_type": "markdown",
   "metadata": {},
   "source": [
    "La máscara no es perfecta: quedan algunos \"agujeros\" en las zonas donde el objeto es de un color parecido al del fondo. En este ejemplo las imágenes back y obj se han tomado fijando en modo manual la exposición y el balance de blancos de la webcam (con guvcview) para reducir en lo posible los cambios de iluminación y tono de color que se producen en modo automático cuando aparece el personaje. Si no hacemos esto los resultados serán mucho peores."
   ]
  },
  {
   "cell_type": "markdown",
   "metadata": {},
   "source": [
    "### Espacio UV"
   ]
  },
  {
   "cell_type": "markdown",
   "metadata": {},
   "source": [
    "Se puede experimentar con otros espacios de color para intentar reducir algunos artefactos, como por ejemplo las sombras."
   ]
  },
  {
   "cell_type": "code",
   "execution_count": null,
   "metadata": {},
   "outputs": [],
   "source": [
    "back = readrgb(\"ss0.png\")\n",
    "obj  = readrgb(\"ss1.png\")\n",
    "\n",
    "# diferencia de imágenes en el espacio RGB\n",
    "drgb2 = np.sum(cv.absdiff(back,obj), axis=2)\n",
    "\n",
    "# diferencia de imágenes en el espacio UV\n",
    "backyuv = rgb2yuv(back)\n",
    "objyuv  = rgb2yuv(obj)\n",
    "duv = np.sum(cv.absdiff(backyuv,objyuv)[:,:,[1,2]], axis=2)\n",
    "\n",
    "fig(12,8)\n",
    "plt.set_cmap('gray')\n",
    "subplot(2,2,1); imshow(back); title('fondo')\n",
    "subplot(2,2,2); imshow(obj); title('aparece objeto')\n",
    "subplot(2,2,3); imshow(drgb2); title('diferencia RGB')\n",
    "subplot(2,2,4); imshow(duv); title('diferencia UV');"
   ]
  },
  {
   "cell_type": "markdown",
   "metadata": {},
   "source": [
    "La separación es muy buena en con los dos espacios de color, pero en este ejemplo parece que la sombra añadida por el objeto influye menos en la diferencia UV."
   ]
  },
  {
   "cell_type": "markdown",
   "metadata": {},
   "source": [
    "## Background subtraction\n",
    " \n",
    "Existen [métodos automáticos](https://en.wikipedia.org/wiki/Background_subtraction) para modelar dinámicamente el fondo de la imagen y eliminarlo. El ejemplo de código `backsub.py` muestra el resultado del método [MOG2](https://docs.opencv.org/3.0-beta/doc/py_tutorials/py_video/py_bg_subtraction/py_bg_subtraction.html) disponible en opencv, basado en un modelo de mezcla para el color de los pixels.\n",
    "\n",
    "El problema es que si el sujeto se mantiene un rato quieto termina convirtiéndose en fondo. Para evitarlo, puede interrumpirse la actualización del modelo de fondo cuando se considere."
   ]
  }
 ],
 "metadata": {
  "hide_input": false,
  "kernelspec": {
   "display_name": "Python 3 (ipykernel)",
   "language": "python",
   "name": "python3"
  },
  "language_info": {
   "codemirror_mode": {
    "name": "ipython",
    "version": 3
   },
   "file_extension": ".py",
   "mimetype": "text/x-python",
   "name": "python",
   "nbconvert_exporter": "python",
   "pygments_lexer": "ipython3",
   "version": "3.10.8"
  },
  "nbTranslate": {
   "displayLangs": [
    "en",
    "es"
   ],
   "hotkey": "alt-t",
   "langInMainMenu": true,
   "sourceLang": "es",
   "targetLang": "en",
   "useGoogleTranslate": true
  },
  "varInspector": {
   "cols": {
    "lenName": 16,
    "lenType": 16,
    "lenVar": 40
   },
   "kernels_config": {
    "python": {
     "delete_cmd_postfix": "",
     "delete_cmd_prefix": "del ",
     "library": "var_list.py",
     "varRefreshCmd": "print(var_dic_list())"
    },
    "r": {
     "delete_cmd_postfix": ") ",
     "delete_cmd_prefix": "rm(",
     "library": "var_list.r",
     "varRefreshCmd": "cat(var_dic_list()) "
    }
   },
   "types_to_exclude": [
    "module",
    "function",
    "builtin_function_or_method",
    "instance",
    "_Feature"
   ],
   "window_display": false
  },
  "widgets": {
   "state": {
    "599cfc64c96f49d690406c0dc16fe404": {
     "views": [
      {
       "cell_index": 10
      }
     ]
    }
   },
   "version": "1.2.0"
  }
 },
 "nbformat": 4,
 "nbformat_minor": 4
}

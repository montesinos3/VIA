{
 "cells": [
  {
   "cell_type": "markdown",
   "id": "ef0efda1-0814-42e3-a696-6642c8c6c3f9",
   "metadata": {},
   "source": [
    "# Ejemplos de código"
   ]
  },
  {
   "cell_type": "markdown",
   "id": "e785ee65-1dea-4ab2-ac9b-2cd564ebc982",
   "metadata": {},
   "source": [
    "## Comprobación inicial"
   ]
  },
  {
   "cell_type": "markdown",
   "id": "b4a9732c-cace-4ea4-96c3-db0abe1cfb63",
   "metadata": {},
   "source": [
    "1. [`check.py`](../check.py): comprobación de las versiones de los paquetes instalados.\n",
    "\n",
    "1. [`hello.py`](../code/hello.py): lee imagen de archivo, la reescala, muestra y sobreescribe un texto.\n",
    "\n",
    "1. [`webcam.py`](../code/webcam.py): muestra la secuencia de imágenes capturadas por una webcam.\n",
    "\n",
    "1. [`2cams.py`](../code/2cams.py): combina las imágenes tomadas por dos cámaras.\n",
    "\n",
    "1. [`stream.py`](../code/stream.py): ejemplo de uso de la fuente genérica de imágenes.\n",
    "\n",
    "1. [`surface.py`](../code/surface.py): superficie 3D de niveles de gris en vivo usando pyqtgraph.\n",
    "\n",
    "1. [`facemesh.py`](../code/facemesh.py): malla de una cara usando mediapipe."
   ]
  },
  {
   "cell_type": "markdown",
   "id": "7781b51f-7564-4e71-8705-7ebb798dbe28",
   "metadata": {},
   "source": [
    "## Utilidades"
   ]
  },
  {
   "cell_type": "markdown",
   "id": "51a012e0-caa3-4150-8c22-fb0bf4d598e0",
   "metadata": {},
   "source": [
    "1. [`save_video.py`](../code/save_video.py): ejemplo de uso de la utilidad de grabación de vídeo.\n",
    "\n",
    "1. [`mouse.py`](../code/mouse.py), [`medidor.py`](../code/medidor.py): ejemplo de captura de eventos de ratón.\n",
    "\n",
    "1. [`roi.py`](../code/roi.py): ejemplo de selección de región rectangular.\n",
    "\n",
    "1. [`trackbar.py`](../code/trackbar.py): ejemplo de parámetro interactivo.\n",
    "\n",
    "1. [`help_window.py`](../code/help_window.py): ejemplo de ventana de ayuda.\n",
    "\n",
    "1. [`wzoom.py`](../code/wzoom.py): ejemplo de ventana con zoom.\n",
    "\n",
    "1. [`args.py`](../code/args.py):  ejemplo de argumentos en la línea de órdenes."
   ]
  },
  {
   "cell_type": "markdown",
   "id": "04436c14-d4d5-4755-b667-8446ca1d9c04",
   "metadata": {},
   "source": [
    "## Actividad"
   ]
  },
  {
   "cell_type": "markdown",
   "id": "38de49bb-719c-4b95-bec8-8f7b68acf830",
   "metadata": {},
   "source": [
    "1. [`deque.py`](../code/deque.py): procesamiento de las $n$ imágenes más recientes.\n",
    "\n",
    "1. [`backsub0.py`](../code/backsub0.py), [`backsub.py`](../code/backsub.py): eliminación de fondo mediante MOG2."
   ]
  },
  {
   "cell_type": "markdown",
   "id": "e85991e2-eabc-405e-8bba-11e2b8c4e003",
   "metadata": {},
   "source": [
    "## Color"
   ]
  },
  {
   "cell_type": "markdown",
   "id": "354f09de-9862-4b65-8241-9206601d26e6",
   "metadata": {},
   "source": [
    "1. [`histogram.py`](../code/histogram.py): histograma en vivo con opencv.\n",
    "\n",
    "1. [`histogram2.py`](../code/histogram2.py): histograma en vivo con matplotlib.\n",
    "\n",
    "1. [`inrange0.py`](../code/inrange0.py), [`inrange.py`](../code/inrange.py): umbralización de color, máscaras, componentes conexas y contornos.\n",
    "\n",
    "1. [`reprohist.py`](../code/reprohist.py),  [`mean-shift.py`](../code/mean-shift.py), [`camshift.py`](../code/camshift.py): reproyección de histograma y tracking."
   ]
  },
  {
   "cell_type": "markdown",
   "id": "7b835673-334f-4184-9dbc-cddb628f4631",
   "metadata": {},
   "source": [
    "## Filtros"
   ]
  },
  {
   "cell_type": "markdown",
   "id": "02970a2a-2038-47d3-a748-130421c6c767",
   "metadata": {},
   "source": [
    "1. [`boxy.py`](../code/boxy.py): combinación simple de filtros para detección de zonas \"interesantes\".\n",
    "\n",
    "1. [`box_vs_gaussian.py`](../code/box_vs_gaussian.py): comparación de calidad y eficiencia."
   ]
  },
  {
   "cell_type": "markdown",
   "id": "9ff49007-f38b-40c9-8907-cab8350d903a",
   "metadata": {},
   "source": [
    "## HOG"
   ]
  },
  {
   "cell_type": "markdown",
   "id": "13ce86ce-3d05-4337-9ca1-3250ff90dce7",
   "metadata": {},
   "source": [
    "1. [`hog/pedestrian.py`](../code/hog/pedestrian.py): detector de peatones de opencv.\n",
    "\n",
    "1. [`hog/facelandmarks.py`](../code/hog/facelandmarks.py): detector de caras y landmarks de dlib.\n",
    "\n",
    "1. [`hog/hog0.py`](../code/hog/hog0.py): experimentos con hog.\n",
    "\n",
    "1. [`regressor.py`](../code/regressor.py): predictor directo de la posición de una región."
   ]
  },
  {
   "cell_type": "markdown",
   "id": "7b8fba02-61e4-476b-a77c-4ba33e6934ef",
   "metadata": {},
   "source": [
    "## Key points"
   ]
  },
  {
   "cell_type": "markdown",
   "id": "cce597f7-ae2d-412c-b32f-d85282ba2351",
   "metadata": {},
   "source": [
    "1. [`crosscorr.py`](../code/crosscorr.py): ejemplo de match template.\n",
    "\n",
    "1. [`kcf.py`](../code/crosscorr.py): ejemplo de discriminative correlation filter.\n",
    "\n",
    "1. [`LK/*.py`](../code/LK): seguimiento de puntos con el método de Lucas-Kanade.\n",
    "\n",
    "1. [`SIFT/*.py`](../code/SIFT): demostración de la detección de keypoints y búsqueda de coincidencias en imágenes en vivo."
   ]
  },
  {
   "cell_type": "markdown",
   "id": "46d0dcd9-7ed1-47b5-9bfe-ffc5da094e6e",
   "metadata": {},
   "source": [
    "## Reconocimiento de formas"
   ]
  },
  {
   "cell_type": "markdown",
   "id": "5261ed22-ffdc-4e4e-924b-a0eff166ea59",
   "metadata": {},
   "source": [
    "1. [`shape/*.py`](../code/shape): reconocimiento de formas mediante descriptores frecuenciales."
   ]
  },
  {
   "cell_type": "markdown",
   "id": "d58947ab-ce49-4479-a090-2a08d60a1005",
   "metadata": {},
   "source": [
    "## Deep Learning"
   ]
  },
  {
   "cell_type": "markdown",
   "id": "1ca80c2a-9803-4cd8-afdc-6da6f06a5b2d",
   "metadata": {},
   "source": [
    "1. [`code/DL`](../code/DL): Modelos avanzados de deep learning para visión artificial (mediapipe, inception, YOLO, FaceDeep, openpose)."
   ]
  },
  {
   "cell_type": "markdown",
   "id": "c2d9e7e4-e41a-41fc-9f1a-8199c854a370",
   "metadata": {},
   "source": [
    "## Geometría visual"
   ]
  },
  {
   "cell_type": "markdown",
   "id": "f00ba8ba-4a60-4e1e-8217-476c457bd9a9",
   "metadata": {},
   "source": [
    "1. [`code/polygons`](../code/polygons) y [`code/elipses`](../code/elipses): Rectificación de planos en base a marcadores artificiales.\n",
    "\n",
    "1. [`stitcher.py`](../code/stitcher.py): construcción automática de panoramas.\n",
    "\n",
    "1. [`code/pose`](../code/pose): estimación de la matriz de cámara y realidad aumentada."
   ]
  },
  {
   "cell_type": "markdown",
   "id": "8e5060ab-fffd-439c-931a-9c49ae062413",
   "metadata": {},
   "source": [
    "## Varios"
   ]
  },
  {
   "attachments": {},
   "cell_type": "markdown",
   "id": "6cc4a2df-9ea6-42d1-96a5-b57801aaef84",
   "metadata": {},
   "source": [
    "1. [`surface2.py`](../code/surface2.py): superficie 3D de niveles de gris  suavizada y manejo de teclado con pyqtgraph y opengl.\n",
    "\n",
    "1. [`server.py`](../code/server.py): ejemplo de servidor web de imágenes capturadas con la webcam.\n",
    "\n",
    "1. [`mjpegserver.py`](../code/mjpegserver.py): servidor de secuencias de video en formato mjpeg.\n",
    "\n",
    "1. [`bot`](../code/bot): bots de [Telegram](https://python-telegram-bot.org/).\n",
    "\n",
    "1. [`grabcut.py`](../code/grabcut.py): segmentación de objetos interactiva mediante GrabCut.\n",
    "\n",
    "1. [`spectral.py`](../code/spectral.py): FFT en vivo.\n",
    "\n",
    "1. [`thread`](../code/thread): captura y procesamiento concurrente.\n",
    "\n",
    "1. [`testC.py`](../code/testC.py), [`inC`](../code/inC): Interfaz C-numpy.\n",
    "\n",
    "1. [`ocr.py`](../code/ocr.py): reconocimiento de caracteres impresos con tesseract/tesserocr sobre imagen en vivo.\n",
    "\n",
    "1. [`zbardemo.py`](../code/zbardemo.py): detección de códigos de barras y QR sobre imagen en vivo."
   ]
  }
 ],
 "metadata": {
  "kernelspec": {
   "display_name": "Python 3 (ipykernel)",
   "language": "python",
   "name": "python3"
  },
  "language_info": {
   "codemirror_mode": {
    "name": "ipython",
    "version": 3
   },
   "file_extension": ".py",
   "mimetype": "text/x-python",
   "name": "python",
   "nbconvert_exporter": "python",
   "pygments_lexer": "ipython3",
   "version": "3.11.9"
  }
 },
 "nbformat": 4,
 "nbformat_minor": 5
}

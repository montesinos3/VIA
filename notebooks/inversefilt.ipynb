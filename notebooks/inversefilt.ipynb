{
 "cells": [
  {
   "cell_type": "markdown",
   "metadata": {},
   "source": [
    "# Filtrado inverso\n",
    "\n",
    "En este notebook vamos a intentar deshacer una convolución trabajando en el dominio de la frecuencia."
   ]
  },
  {
   "cell_type": "markdown",
   "metadata": {},
   "source": [
    "## Bibliotecas y funciones auxiliares"
   ]
  },
  {
   "cell_type": "code",
   "execution_count": null,
   "metadata": {},
   "outputs": [],
   "source": [
    "import numpy             as np\n",
    "import numpy.fft         as fft\n",
    "import scipy.linalg      as la\n",
    "import cv2               as cv\n",
    "import skimage           as si\n",
    "import matplotlib.pyplot as plt\n",
    "import numpy.random      as rnd\n",
    "import scipy.signal      as signal\n",
    "from matplotlib.pyplot import imshow, subplot, title"
   ]
  },
  {
   "cell_type": "code",
   "execution_count": null,
   "metadata": {},
   "outputs": [],
   "source": [
    "def fig(w,h):\n",
    "    plt.figure(figsize=(w,h))\n",
    "\n",
    "def readrgb(file):\n",
    "    return cv.cvtColor( cv.imread(\"../images/\"+file), cv.COLOR_BGR2RGB) \n",
    "\n",
    "def rgb2gray(x):\n",
    "    return cv.cvtColor(x,cv.COLOR_RGB2GRAY)\n",
    "\n",
    "def gray2float(x):\n",
    "    return x.astype(float) / 255\n",
    "\n",
    "def imshowg(x):\n",
    "    imshow(x, 'gray')\n",
    "\n",
    "def imshowx(x):\n",
    "    imshow(x, 'gray', interpolation='nearest')    \n",
    "\n",
    "def imshowf(x):\n",
    "    imshow(x, 'gray', vmin = 0, vmax=1)\n",
    "\n",
    "def imshows(x,r=1):\n",
    "    imshow(x, 'gray', vmin = -r, vmax=r)"
   ]
  },
  {
   "cell_type": "code",
   "execution_count": null,
   "metadata": {},
   "outputs": [],
   "source": [
    "def dom(sz, raw=False):\n",
    "    r,c = sz\n",
    "    x,y = np.meshgrid(range(c),range(r))\n",
    "    if (raw):\n",
    "        return x,y\n",
    "    else:\n",
    "        c2 = c//2\n",
    "        return (x-c2)/c2 , (y-r//2)/c2\n",
    "\n",
    "def flip(x): return np.flipud(np.fliplr(x))\n",
    "\n",
    "def conv(k,x):\n",
    "    return cv.filter2D(x,-1,flip(k))\n",
    "\n",
    "def cconv(k,x):\n",
    "    return signal.convolve2d(x, k, boundary='symm', mode='same')\n",
    "\n",
    "def ft(x):\n",
    "    return fft.fft2(x)\n",
    "\n",
    "def ift(x):\n",
    "    return fft.ifft2(x)\n",
    "\n",
    "# mejor fft.fftshift, fft.ifftshift, hay que cambiarlo y definir uncenter\n",
    "def center(psf):\n",
    "    h = psf.copy()\n",
    "    r,c = psf.shape\n",
    "    h = h[list(range(r//2,r)) + list(range(r//2)) ,:]\n",
    "    h = h[:, list(range(c//2,c)) + list(range(c//2))]\n",
    "    return h\n",
    "\n",
    "def normaliza(x):\n",
    "    return x / np.sum(x)\n",
    "\n",
    "def pad(k,sz):\n",
    "    r,c = sz\n",
    "    rk,ck = k.shape\n",
    "    rk2 = rk // 2\n",
    "    ck2 = ck // 2\n",
    "    r2  = r  // 2\n",
    "    c2  = c  // 2\n",
    "    y = np.zeros([r,c])\n",
    "    y[r2-rk2:r2-rk2+rk, c2-ck2:c2-ck2+ck] = k\n",
    "    return y\n",
    "\n",
    "def invert(H, thres=0.1):\n",
    "    x = H.copy()\n",
    "    np.copyto(x,thres,where=abs(H)<thres)    \n",
    "    return 1/x\n",
    "\n",
    "def wiener(psf,snr):\n",
    "    H = ft(center(psf))\n",
    "    return np.conjugate(H)/(np.abs(H)**2 + snr)"
   ]
  },
  {
   "cell_type": "markdown",
   "metadata": {},
   "source": [
    "## Relación entre el filtro espacial y frecuencial\n",
    "\n",
    "Antes de intentar el filtrado inverso, comprobamos que se obtiene el mismo resultado haciendo una convolución que atenuando frecuencias."
   ]
  },
  {
   "cell_type": "code",
   "execution_count": null,
   "metadata": {},
   "outputs": [],
   "source": [
    "img = readrgb('cube3.png')[:,50:480+50]\n",
    "g = rgb2gray(img)\n",
    "f = gray2float(g)\n",
    "imshowg(g)"
   ]
  },
  {
   "cell_type": "markdown",
   "metadata": {},
   "source": [
    "Preparamos la máscara de convolución de un filtro gaussiano."
   ]
  },
  {
   "cell_type": "code",
   "execution_count": null,
   "metadata": {},
   "outputs": [],
   "source": [
    "r = 30\n",
    "x,y = dom((2*r+1,2*r+1),raw=True)\n",
    "\n",
    "sigma = 10\n",
    "psf = np.exp(-((x-r)**2+(y-r)**2)/sigma**2)\n",
    "psf = psf/np.sum(psf)\n",
    "print(np.sum(psf))\n",
    "imshowx(psf)"
   ]
  },
  {
   "cell_type": "markdown",
   "metadata": {},
   "source": [
    "Y la aplicamos a la imagen de entrada."
   ]
  },
  {
   "cell_type": "code",
   "execution_count": null,
   "metadata": {},
   "outputs": [],
   "source": [
    "s = conv(psf,f)\n",
    "\n",
    "fig(12,5)\n",
    "subplot(1,2,1); imshowg(f); title('input')\n",
    "subplot(1,2,2); imshowg(s); title('convolución');"
   ]
  },
  {
   "cell_type": "markdown",
   "metadata": {},
   "source": [
    "El resultado es equivalente a una multiplicación elemento a elemento en el dominio de la frecuencia."
   ]
  },
  {
   "cell_type": "code",
   "execution_count": null,
   "metadata": {},
   "outputs": [],
   "source": [
    "h = pad(psf,f.shape)\n",
    "\n",
    "H = ft(center(h))\n",
    "\n",
    "print(H.max())\n",
    "\n",
    "fig(12,4)\n",
    "subplot(1,2,1); imshowg(h) ; title('h: respuesta al impulso')\n",
    "subplot(1,2,2); imshowg(center(abs(H))); title('H = fft(h): atenuación de frecuencias');"
   ]
  },
  {
   "cell_type": "code",
   "execution_count": null,
   "metadata": {},
   "outputs": [],
   "source": [
    "lp = np.real(ift(ft(f)*H))\n",
    "\n",
    "fig(12,5)\n",
    "subplot(1,2,1); imshowg(s);   title('fitro espacial')\n",
    "subplot(1,2,2); imshowg(lp);  title('filtro frecuencial');"
   ]
  },
  {
   "cell_type": "markdown",
   "metadata": {},
   "source": [
    "La diferencia entre las dos solo es apreciable cerca de los bordes. En realidad la convolución con máscaras grandes se implementa con la FFT."
   ]
  },
  {
   "cell_type": "markdown",
   "metadata": {},
   "source": [
    "La transformada de Fourier de una gaussiana de achura $\\sigma$ es una gaussiana de anchura $1/\\sigma$: cuanto mayor sea el emborronamiento más se atenuarán las altas frecuencias."
   ]
  },
  {
   "cell_type": "code",
   "execution_count": null,
   "metadata": {},
   "outputs": [],
   "source": [
    "hp = np.real(ift(ft(f)*(1-H)))\n",
    "\n",
    "fig(12,5)\n",
    "subplot(1,2,1); imshowg(f); title('input')\n",
    "subplot(1,2,2); imshows(hp,0.1); title('high pass');"
   ]
  },
  {
   "cell_type": "code",
   "execution_count": null,
   "metadata": {},
   "outputs": [],
   "source": [
    "fig(12,5)\n",
    "subplot(1,2,1); imshowg(f); title('input')\n",
    "subplot(1,2,2); imshowg(hp); title('high pass');"
   ]
  },
  {
   "cell_type": "markdown",
   "metadata": {},
   "source": [
    "## Filtrado inverso"
   ]
  },
  {
   "cell_type": "markdown",
   "metadata": {},
   "source": [
    "En el dominio de la frecuencia, un filtro lineal es una multiplicación por H, la transformada de la máscara de convolución. Entonces, en principio, dividiendo por H se podría deshacer su efecto. Sería una \"deconvolución\". El problema es que H tenga ceros..."
   ]
  },
  {
   "cell_type": "markdown",
   "metadata": {},
   "source": [
    "Cargamos una imagen para hacer los experimentos."
   ]
  },
  {
   "cell_type": "code",
   "execution_count": null,
   "metadata": {},
   "outputs": [],
   "source": [
    "img = readrgb('texto/borroso0.png')[:,50:480+50]\n",
    "g = rgb2gray(img)\n",
    "f = gray2float(g)\n",
    "imshowg(g)"
   ]
  },
  {
   "cell_type": "markdown",
   "metadata": {},
   "source": [
    "Ahora elegimos una de las siguientes degradaciones."
   ]
  },
  {
   "cell_type": "code",
   "execution_count": null,
   "metadata": {},
   "outputs": [],
   "source": [
    "ejemplo = 1\n",
    "\n",
    "# suavizado gaussiano\n",
    "if ejemplo == 1:\n",
    "    r = 30\n",
    "    x,y = dom((2*r+1,2*r+1),raw=True)\n",
    "    sigma = 10\n",
    "    psf = np.exp(-((x-r)**2+(y-r)**2)/sigma**2)\n",
    "\n",
    "# imagen doble\n",
    "if ejemplo == 2:\n",
    "    r = 10\n",
    "    psf = np.zeros([2*r+1,2*r+1])\n",
    "    psf[r,[r,r+10]] = 1\n",
    "    psf = psf/np.sum(psf)\n",
    "\n",
    "# imagen \"movida\" horizontalmente\n",
    "if ejemplo == 3:\n",
    "    r = 10\n",
    "    psf = np.zeros([2*r+1,2*r+1])\n",
    "    psf[r,:] = 1\n",
    "\n",
    "psf = psf/np.sum(psf)\n",
    "print(np.sum(psf))\n",
    "\n",
    "s = conv(psf,f)\n",
    "\n",
    "fig(12,5)\n",
    "subplot(1,2,1); imshowx(psf)\n",
    "subplot(1,2,2); imshowg(s)"
   ]
  },
  {
   "cell_type": "markdown",
   "metadata": {},
   "source": [
    "Intentamos deshacer la degradación elegida. Para ello calculamos su FFT y calculamos la inversa, con cuidado de saturar los valores muy pequeños para que no se hagan infinitos.\n",
    "\n",
    "En teoría es mejor usar el [filtro de Wiener](https://en.wikipedia.org/wiki/Wiener_deconvolution)."
   ]
  },
  {
   "cell_type": "code",
   "execution_count": null,
   "metadata": {},
   "outputs": [],
   "source": [
    "h = pad(psf,f.shape)\n",
    "\n",
    "H = ft(center(h))\n",
    "\n",
    "IH = invert(H,0.01)\n",
    "\n",
    "IHW = wiener(pad(psf,f.shape),0.000001)\n",
    "\n",
    "fig(12,10)\n",
    "subplot(2,2,1); imshowg(h)\n",
    "subplot(2,2,2); imshowg(abs(center(H)))\n",
    "subplot(2,2,3); imshowg(abs(center(IH)))\n",
    "subplot(2,2,4); imshowg(abs(center(IHW)))"
   ]
  },
  {
   "cell_type": "code",
   "execution_count": null,
   "metadata": {},
   "outputs": [],
   "source": [
    "fig(12,10)\n",
    "subplot(2,2,1); imshowf(f); title('orig')\n",
    "subplot(2,2,2); imshowf(s); title('input')\n",
    "\n",
    "subplot(2,2,3)\n",
    "imshowf(abs(ift(ft(s)*IH)))\n",
    "title('inv')\n",
    "\n",
    "subplot(2,2,4)\n",
    "imshowf(abs(ift(ft(s)*IHW)))\n",
    "title('wiener');"
   ]
  },
  {
   "cell_type": "markdown",
   "metadata": {},
   "source": [
    "El resultado no está mal pero es una situación poco realista: una degradación sintética y conocida."
   ]
  },
  {
   "cell_type": "markdown",
   "metadata": {},
   "source": [
    "## Imagen natural\n",
    "\n",
    "Intentamos mejorar una imagen real desenfocada ópticamente. Sin demasiado éxito, tal vez porque la respuesta al impulso (su *point spread function*) no es una gaussiana ni la transformación invariante a desplazamientos, etc."
   ]
  },
  {
   "cell_type": "code",
   "execution_count": null,
   "metadata": {},
   "outputs": [],
   "source": [
    "b = readrgb('texto/bo2.png')[100:700,150:750]\n",
    "b = gray2float(rgb2gray(b))\n",
    "fig(12,8)\n",
    "imshow(b,'gray',vmin=0,vmax=1);"
   ]
  },
  {
   "cell_type": "code",
   "execution_count": null,
   "metadata": {},
   "outputs": [],
   "source": [
    "# radio de la máscara\n",
    "r = 100\n",
    "x,y = dom((2*r+1,2*r+1),raw=True)\n",
    "\n",
    "# sigma que suponemos\n",
    "sigma = 9\n",
    "psf = np.exp(-((x-r)**2+(y-r)**2)/sigma**2)\n",
    "psf = psf/np.sum(psf)\n",
    "print(np.sum(psf))\n",
    "\n",
    "IHW = wiener(pad(psf,b.shape),0.001)\n",
    "\n",
    "rb = abs(ift(ft(b)*IHW))\n",
    "\n",
    "fig(12,8)\n",
    "imshowf(rb)"
   ]
  },
  {
   "cell_type": "markdown",
   "metadata": {},
   "source": [
    "### Depuración"
   ]
  },
  {
   "cell_type": "markdown",
   "metadata": {},
   "source": [
    "Hemos capturado la misma imagen pero mejor enfocada."
   ]
  },
  {
   "cell_type": "code",
   "execution_count": null,
   "metadata": {},
   "outputs": [],
   "source": [
    "#b = readrgb('texto/borroso1.png')\n",
    "b0 = readrgb('texto/bo0.png')\n",
    "b0 = gray2float(rgb2gray(b0))\n",
    "b = readrgb('texto/bo2.png')\n",
    "b = gray2float(rgb2gray(b))\n",
    "\n",
    "fig(12,8)\n",
    "imshowf(b0)"
   ]
  },
  {
   "cell_type": "markdown",
   "metadata": {},
   "source": [
    "Vamos a ver si al menos \"a ojo\" la imagen desenfocada y el suavizado gaussiano se parecen."
   ]
  },
  {
   "cell_type": "code",
   "execution_count": null,
   "metadata": {},
   "outputs": [],
   "source": [
    "fig(12,8)\n",
    "imshowf(b)"
   ]
  },
  {
   "cell_type": "code",
   "execution_count": null,
   "metadata": {},
   "outputs": [],
   "source": [
    "gb = cv.GaussianBlur(b0,(-1,-1),8)\n",
    "\n",
    "fig(12,8)\n",
    "imshowf(gb)"
   ]
  },
  {
   "cell_type": "code",
   "execution_count": null,
   "metadata": {},
   "outputs": [],
   "source": [
    "fig(12,8)\n",
    "imshow(b[300:450,450:650],'gray');"
   ]
  },
  {
   "cell_type": "code",
   "execution_count": null,
   "metadata": {},
   "outputs": [],
   "source": [
    "fig(12,8)\n",
    "imshow(gb[300:450,450:650],'gray');"
   ]
  },
  {
   "cell_type": "markdown",
   "metadata": {},
   "source": [
    "La imagen original está bastante pixelada en comparación con la sintética, pero se parecen bastante."
   ]
  },
  {
   "cell_type": "markdown",
   "metadata": {},
   "source": [
    "Vamos a comparar el resultado del filtrado inverso con la imagen enfocada."
   ]
  },
  {
   "cell_type": "code",
   "execution_count": null,
   "metadata": {},
   "outputs": [],
   "source": [
    "r = 100\n",
    "x,y = dom((2*r+1,2*r+1),raw=True)\n",
    "\n",
    "sigma = 8\n",
    "psf = np.exp(-((x-r)**2+(y-r)**2)/sigma**2)\n",
    "psf = psf/np.sum(psf)\n",
    "print(np.sum(psf))\n",
    "\n",
    "IHW = wiener(pad(psf,b.shape),0.001)\n",
    "\n",
    "rb = abs(ift(ft(b)*IHW))\n",
    "\n",
    "fig(12,8)\n",
    "#subplot(1,2,1); imshowg(b)\n",
    "#subplot(1,2,2); imshowf(abs(ift(ft(b)*IHW)))\n",
    "imshowf(rb)"
   ]
  },
  {
   "cell_type": "markdown",
   "metadata": {},
   "source": [
    "Ampliamos:"
   ]
  },
  {
   "cell_type": "code",
   "execution_count": null,
   "metadata": {},
   "outputs": [],
   "source": [
    "fig(12,8)\n",
    "imshow(rb[300:450,450:650],'gray');"
   ]
  },
  {
   "cell_type": "code",
   "execution_count": null,
   "metadata": {},
   "outputs": [],
   "source": [
    "fig(12,8)\n",
    "imshow(b0[300:450,450:650],'gray');"
   ]
  },
  {
   "cell_type": "markdown",
   "metadata": {},
   "source": [
    "Hay que investigar más este tema...\n",
    "\n",
    "- [Inverse filtering](http://yuzhikov.com/articles/BlurredImagesRestoration1.htm)\n",
    "\n",
    "\n",
    "- [Wiener](https://www.cis.rit.edu/class/simg782/lectures/lecture_16/lec782_05_16.pdf)"
   ]
  }
 ],
 "metadata": {
  "hide_input": false,
  "kernelspec": {
   "display_name": "Python 3 (ipykernel)",
   "language": "python",
   "name": "python3"
  },
  "language_info": {
   "codemirror_mode": {
    "name": "ipython",
    "version": 3
   },
   "file_extension": ".py",
   "mimetype": "text/x-python",
   "name": "python",
   "nbconvert_exporter": "python",
   "pygments_lexer": "ipython3",
   "version": "3.11.5"
  },
  "varInspector": {
   "cols": {
    "lenName": 16,
    "lenType": 16,
    "lenVar": 40
   },
   "kernels_config": {
    "python": {
     "delete_cmd_postfix": "",
     "delete_cmd_prefix": "del ",
     "library": "var_list.py",
     "varRefreshCmd": "print(var_dic_list())"
    },
    "r": {
     "delete_cmd_postfix": ") ",
     "delete_cmd_prefix": "rm(",
     "library": "var_list.r",
     "varRefreshCmd": "cat(var_dic_list()) "
    }
   },
   "types_to_exclude": [
    "module",
    "function",
    "builtin_function_or_method",
    "instance",
    "_Feature"
   ],
   "window_display": false
  }
 },
 "nbformat": 4,
 "nbformat_minor": 4
}

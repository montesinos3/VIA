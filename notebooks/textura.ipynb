{
 "cells": [
  {
   "cell_type": "markdown",
   "metadata": {},
   "source": [
    "# Clasificación de texturas"
   ]
  },
  {
   "cell_type": "markdown",
   "metadata": {},
   "source": [
    "En algunos problemas de visión artificial el objetivo es reconocer diferentes tipos de imagen que no tienen forma ni color definido, ni puntos de interés (keypoints) reproducibles.\n",
    "\n",
    "![tex1](../images/demos/tex1.png)\n",
    "\n",
    "![tex2](../images/demos/tex2.png)\n",
    "\n",
    "Si tienen ciertas regularidades o estructuras repetitivas podemos intentar un ataque mediante el análisis de [texturas](https://en.wikipedia.org/wiki/Image_texture). "
   ]
  },
  {
   "cell_type": "markdown",
   "metadata": {},
   "source": [
    "## Local Binary Patterns"
   ]
  },
  {
   "cell_type": "markdown",
   "metadata": {},
   "source": [
    "Vamos a experimentar con el descriptor de textura [LBP](http://scikit-image.org/docs/dev/auto_examples/features_detection/plot_local_binary_pattern.html) (Local Binary Pattern). La idea es calcular un histograma de los diferentes tipos de entorno local que hay en una región. Fíjate en la imagen siguiente. El trocito rojo pequeño de la izquierda se ve ampliado en el centro. Vamos a fijarnos en el pixel central del recuadro verde. A este pixel le vamos a asignar un código en función de su entorno local. Tiene a su alrededor 8 pixels, que vamos a convertir en ceros (=negro) o unos (=blanco) según sean más oscuros o más claros que el pixel central. Esto se muestra en el recuadro verde de la derecha. Debajo ponemos los bits ordenados de izquierda a derecha y de arriba a abajo (quitando el central). Pasando a decimal tenemos el código asignado al pixel central, que en este caso el el 43.\n",
    "\n",
    "![lbp1](../images/demos/lbp/lbp1.png)\n",
    "\n",
    "A continuación se muestran otros ejemplos. Observa los códigos binarios que se obtienen de los niveles de gris. Como se basan en la comparación de mayor/menor el código es bastante independiente de la iluminación y da un resultado que está relacionado con el tipo de borde y su orientación. \n",
    "\n",
    "![lbp2](../images/demos/lbp/lbp2.png)\n",
    "\n",
    "![lbp3](../images/demos/lbp/lbp3.png)\n",
    "\n",
    "![lpb4](../images/demos/lbp/lbp4.png)\n",
    "\n",
    "Este código se calcula para todos los pixels de una región de interés. Como hay 8 bits en el entorno 3x3 que hemos considerado, hay 256 códigos posibles. (El código puede guardarse en una imagen de byte como las monocromas que estamos utilizando. Pero su visualización como imagen no es fácil de interpretar.)\n",
    "\n",
    "Vamos a caracterizar un ROI con el histograma de estos códigos, con una caja para cada posible valor. Comparando estos histogramas podemos distinguir texturas. En este notebook vamos a experimentar con esta idea."
   ]
  },
  {
   "cell_type": "markdown",
   "metadata": {},
   "source": [
    "Como siempre, preparamos unas cuantas utilidades."
   ]
  },
  {
   "cell_type": "code",
   "execution_count": null,
   "metadata": {},
   "outputs": [],
   "source": [
    "import numpy as np\n",
    "import cv2   as cv\n",
    "\n",
    "import matplotlib.pyplot as plt\n",
    "\n",
    "def fig(w,h):\n",
    "    plt.figure(figsize=(w,h))\n",
    "\n",
    "def readrgb(file):\n",
    "    return cv.cvtColor( cv.imread('../images/'+file), cv.COLOR_BGR2RGB) \n",
    "\n",
    "def rgb2gray(x):\n",
    "    return cv.cvtColor(x,cv.COLOR_RGB2GRAY)"
   ]
  },
  {
   "cell_type": "markdown",
   "metadata": {},
   "source": [
    "Opencv tiene una implementación de LBP, pero aquí usarmos la de scikit-image, que es muy configurable y admite ciertas variantes del método. Los puntos del entorno se toman en un círculo a una cierta distancia, en vez de ser los 8 del entorno cuadrado que hemos mostrado antes, pero el efecto es muy similar."
   ]
  },
  {
   "cell_type": "code",
   "execution_count": null,
   "metadata": {},
   "outputs": [],
   "source": [
    "from skimage.feature import local_binary_pattern"
   ]
  },
  {
   "cell_type": "markdown",
   "metadata": {},
   "source": [
    "Lo probamos en una imagen cualquiera, ampliando mucho una región:"
   ]
  },
  {
   "cell_type": "code",
   "execution_count": null,
   "metadata": {},
   "outputs": [],
   "source": [
    "img = rgb2gray(readrgb('coins.png'))\n",
    "\n",
    "lbp = local_binary_pattern(img,8,5)  # número de puntos, radio\n",
    "\n",
    "fig(12,4)\n",
    "plt.subplot(1,2,1)\n",
    "plt.imshow(img[300:310,300:310],'gray', interpolation='nearest')\n",
    "plt.title('niveles de gris')\n",
    "plt.subplot(1,2,2)\n",
    "plt.imshow(lbp[300:310,300:310],interpolation='nearest')\n",
    "plt.title('códigos LBP');"
   ]
  },
  {
   "cell_type": "markdown",
   "metadata": {},
   "source": [
    "Como hemos explicado más arriba, son códigos binarios para cada posible configuración de entornos de pixel 3x3, teniendo en cuenta si cada pixel es más o menos oscuro que el centro."
   ]
  },
  {
   "cell_type": "code",
   "execution_count": null,
   "metadata": {},
   "outputs": [],
   "source": [
    "lbp[:5,:5]"
   ]
  },
  {
   "cell_type": "markdown",
   "metadata": {},
   "source": [
    "La \"textura\" de una región de la imagen (o de toda ella) se puede describir mediante un histograma de estos códigos."
   ]
  },
  {
   "cell_type": "code",
   "execution_count": null,
   "metadata": {},
   "outputs": [],
   "source": [
    "hlbp, _b = np.histogram(lbp, bins=np.arange(257))\n",
    "plt.plot(hlbp);"
   ]
  },
  {
   "cell_type": "markdown",
   "metadata": {},
   "source": [
    "Creamos una función con las operaciones anteriores:"
   ]
  },
  {
   "cell_type": "code",
   "execution_count": null,
   "metadata": {},
   "outputs": [],
   "source": [
    "# calcula el código LBP de cada pixel en un trozo de imagen y hace un histograma de ellos\n",
    "def feature(x):\n",
    "    g = rgb2gray(x)\n",
    "    h,w = g.shape\n",
    "    lbp = local_binary_pattern(g,8,5)\n",
    "    d = 10  # descartamos un borde de 10 pixels\n",
    "    h,b = np.histogram(lbp[d:-d,d:-d], bins=256, range=(0,256))\n",
    "    s = np.sum(h)\n",
    "    return h/s"
   ]
  },
  {
   "cell_type": "markdown",
   "metadata": {},
   "source": [
    "En primer lugar experimentamos con una pequeña colección de imágenes de texturas:\n",
    "\n",
    "    wget https://robot.inf.um.es/material/va/texturas.tar.gz\n",
    "    \n",
    "(En la carpeta `images/texturas` del repositorio hay un script que automatiza la descarga)."
   ]
  },
  {
   "cell_type": "markdown",
   "metadata": {},
   "source": [
    "Como no son muchas imágenes podemos guardarlas todas en una lista, emparejadas con su nombre de archivo:"
   ]
  },
  {
   "cell_type": "code",
   "execution_count": null,
   "metadata": {},
   "outputs": [],
   "source": [
    "import glob\n",
    "\n",
    "texs = [ (file, readrgb(file)) for file in sorted(glob.glob('../images/texturas/simple/*.*')) ]"
   ]
  },
  {
   "cell_type": "code",
   "execution_count": null,
   "metadata": {},
   "outputs": [],
   "source": [
    "len(texs)"
   ]
  },
  {
   "cell_type": "markdown",
   "metadata": {},
   "source": [
    "Veamos una de ellas."
   ]
  },
  {
   "cell_type": "code",
   "execution_count": null,
   "metadata": {},
   "outputs": [],
   "source": [
    "n = 47\n",
    "plt.imshow(texs[n][1]); plt.title(texs[n][0]);"
   ]
  },
  {
   "cell_type": "markdown",
   "metadata": {},
   "source": [
    "Calculamos los histogramas LPB de todas ellas:"
   ]
  },
  {
   "cell_type": "code",
   "execution_count": null,
   "metadata": {},
   "outputs": [],
   "source": [
    "vs = [feature(t[1]) for t in texs]"
   ]
  },
  {
   "cell_type": "markdown",
   "metadata": {},
   "source": [
    "Y mostramos el de la imagen anterior."
   ]
  },
  {
   "cell_type": "code",
   "execution_count": null,
   "metadata": {},
   "outputs": [],
   "source": [
    "plt.bar(range(256),vs[n]);"
   ]
  },
  {
   "cell_type": "markdown",
   "metadata": {},
   "source": [
    "La siguiente función encuentra las imágenes más parecidas a una de ellas."
   ]
  },
  {
   "cell_type": "code",
   "execution_count": null,
   "metadata": {},
   "outputs": [],
   "source": [
    "import numpy.linalg as la\n",
    "\n",
    "# dado un elemento k, busca el más parecido en la lista, (que no sea él mismo)\n",
    "def check(k,vs):\n",
    "    vk = vs[k]\n",
    "    ds = [ (la.norm(v-vk), m) for m,v in enumerate(vs) if m != k ]\n",
    "    return sorted(ds)"
   ]
  },
  {
   "cell_type": "markdown",
   "metadata": {},
   "source": [
    "Cambiando la variable `t` en la celda siguiente elegimos la textura que queremos comparar y mostramos las dos más parecidas."
   ]
  },
  {
   "cell_type": "code",
   "execution_count": null,
   "metadata": {},
   "outputs": [],
   "source": [
    "t = 8\n",
    "r = check(t,vs)[:5]  # nos quedamos con las 5 mejores\n",
    "\n",
    "y = r[0][1]\n",
    "z = r[1][1]\n",
    "fig(15,4)\n",
    "plt.subplot(1,3,1); plt.imshow(texs[t][1]); plt.title(texs[t][0][26:]);\n",
    "plt.subplot(1,3,2); plt.imshow(texs[y][1]); plt.title(texs[y][0][26:]);\n",
    "plt.subplot(1,3,3); plt.imshow(texs[z][1]); plt.title(texs[z][0][26:]);\n",
    "\n",
    "r"
   ]
  },
  {
   "cell_type": "markdown",
   "metadata": {},
   "source": [
    "La segunda mejor está mucho más alejada."
   ]
  },
  {
   "cell_type": "code",
   "execution_count": null,
   "metadata": {},
   "outputs": [],
   "source": [
    "t = 10\n",
    "r = check(t,vs)[:5]\n",
    "\n",
    "y = r[0][1]\n",
    "z = r[1][1]\n",
    "fig(15,4)\n",
    "plt.subplot(1,3,1); plt.imshow(texs[t][1]); plt.title(texs[t][0][26:]);\n",
    "plt.subplot(1,3,2); plt.imshow(texs[y][1]); plt.title(texs[y][0][26:]);\n",
    "plt.subplot(1,3,3); plt.imshow(texs[z][1]); plt.title(texs[z][0][26:]);\n",
    "\n",
    "r"
   ]
  },
  {
   "cell_type": "markdown",
   "metadata": {},
   "source": [
    "La diferencia cero exacta indica que hay imágenes repetidas. Esta base de datos no es muy buena. Vamos a utilizar una colección de texturas más completa (ya se ha descargado automáticamente con el script anterior).\n",
    "\n",
    "    http://www.robots.ox.ac.uk/~vgg/research/texclass/data/curetgrey.zip\n",
    "    \n",
    "Esta colección tiene varias muestras de cada tipo de textura, con diferentes condiciones de iluminación y otros cambios. Echa un vistazo a la carpeta para ver las imágenes disponibles."
   ]
  },
  {
   "cell_type": "markdown",
   "metadata": {},
   "source": [
    "En este caso guardamos directamente la \"feature\" para no tener en memoria las 5.6K imágenes de la colección. (Pero entonces luego habrá que leer otra vez con `readrgb` las imágenes que queramos mostrar.)"
   ]
  },
  {
   "cell_type": "code",
   "execution_count": null,
   "metadata": {},
   "outputs": [],
   "source": [
    "# no es instantáneo...\n",
    "texs = [ (file, feature(readrgb(file))) for file in sorted(glob.glob('../images/texturas/curetgrey/*/*.*')) ]"
   ]
  },
  {
   "cell_type": "code",
   "execution_count": null,
   "metadata": {},
   "outputs": [],
   "source": [
    "len(texs)"
   ]
  },
  {
   "cell_type": "code",
   "execution_count": null,
   "metadata": {},
   "outputs": [],
   "source": [
    "vs = [t[1] for t in texs]"
   ]
  },
  {
   "cell_type": "code",
   "execution_count": null,
   "metadata": {},
   "outputs": [],
   "source": [
    "t = 2345\n",
    "r = check(t,vs)[:5]\n",
    "\n",
    "y = r[0][1]\n",
    "\n",
    "fig(12,4)\n",
    "plt.subplot(1,2,1); plt.imshow(readrgb(texs[t][0])); plt.title(texs[t][0][29:]);\n",
    "plt.subplot(1,2,2); plt.imshow(readrgb(texs[y][0])); plt.title(texs[y][0][29:]);\n",
    "\n",
    "r"
   ]
  },
  {
   "cell_type": "markdown",
   "metadata": {},
   "source": [
    "Encuentra correctamente muestras de la misma textura."
   ]
  },
  {
   "cell_type": "markdown",
   "metadata": {},
   "source": [
    "El método es interesante pero tiene limitaciones. Por ejemplo, no es invariante a escala ni a rotaciones. Pero es muy sencillo y eficiente y puede ser útil en situaciones donde las condiciones de captura están controladas."
   ]
  }
 ],
 "metadata": {
  "hide_input": false,
  "kernelspec": {
   "display_name": "Python 3 (ipykernel)",
   "language": "python",
   "name": "python3"
  },
  "language_info": {
   "codemirror_mode": {
    "name": "ipython",
    "version": 3
   },
   "file_extension": ".py",
   "mimetype": "text/x-python",
   "name": "python",
   "nbconvert_exporter": "python",
   "pygments_lexer": "ipython3",
   "version": "3.11.9"
  }
 },
 "nbformat": 4,
 "nbformat_minor": 4
}

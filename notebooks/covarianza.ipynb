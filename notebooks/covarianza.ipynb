{
 "cells": [
  {
   "cell_type": "markdown",
   "metadata": {},
   "source": [
    "# Elipsoide de incertidumbre"
   ]
  },
  {
   "cell_type": "markdown",
   "metadata": {},
   "source": [
    "Es una descripción sencilla y práctica de un conjunto de datos multidimensionales."
   ]
  },
  {
   "cell_type": "code",
   "execution_count": null,
   "metadata": {},
   "outputs": [],
   "source": [
    "import numpy              as np\n",
    "import numpy.linalg       as la\n",
    "import cv2                as cv\n",
    "import matplotlib.pyplot  as plt\n",
    "import numpy.random       as rnd\n",
    "from   mpl_toolkits.mplot3d import Axes3D"
   ]
  },
  {
   "cell_type": "markdown",
   "metadata": {},
   "source": [
    "Ejemplo con datos artificiales: generamos 100 puntos 2D aleatorios con distribución normal (`randn`) y los transformamos para obtener variables dependientes."
   ]
  },
  {
   "cell_type": "code",
   "execution_count": null,
   "metadata": {},
   "outputs": [],
   "source": [
    "A = np.array([[5,1],\n",
    "              [1,3]])\n",
    "B = np.array([5,10])\n",
    "x = rnd.randn(100,2) @ A.T + B    # x = Ar+B\n",
    "\n",
    "plt.plot(x[:,0],x[:,1],'.');\n",
    "plt.xlabel('feature 1'); plt.ylabel('feature 2')\n",
    "plt.grid(); plt.axis('equal');"
   ]
  },
  {
   "cell_type": "markdown",
   "metadata": {},
   "source": [
    "## Matriz de covarianza"
   ]
  },
  {
   "cell_type": "markdown",
   "metadata": {},
   "source": [
    "La muestra aleatoria multidimensional se puede caracterizar con la media (localización) y la matriz de covarianza (dispersión):"
   ]
  },
  {
   "cell_type": "code",
   "execution_count": null,
   "metadata": {},
   "outputs": [],
   "source": [
    "m = np.mean(x,axis=0)\n",
    "c = np.cov(x,rowvar=False)\n",
    "\n",
    "print(m)\n",
    "print(c)"
   ]
  },
  {
   "cell_type": "markdown",
   "metadata": {},
   "source": [
    "La desviaciones típicas de las variables originales están en la diagonal:"
   ]
  },
  {
   "cell_type": "code",
   "execution_count": null,
   "metadata": {},
   "outputs": [],
   "source": [
    "np.sqrt(np.diag(c))"
   ]
  },
  {
   "cell_type": "markdown",
   "metadata": {},
   "source": [
    "Los coeficientes de covarianza son los elementos fuera de la diagonal, y a partir de ellos pueden obtenerse los [coeficientes de correlación lineal](https://en.wikipedia.org/wiki/Pearson_correlation_coefficient), cuyo valor, entre -1 y +1 indica el grado de dependencia lineal entre cada pareja de variables."
   ]
  },
  {
   "cell_type": "code",
   "execution_count": null,
   "metadata": {},
   "outputs": [],
   "source": [
    "c[0,1]/np.sqrt(c[0,0]*c[1,1])"
   ]
  },
  {
   "cell_type": "markdown",
   "metadata": {},
   "source": [
    "Es importante recordar que la correlación lineal puede no detectar dependencias no lineales más complejas y que la correlación estadística no implica que exista una relación de causa-efecto entre las variables."
   ]
  },
  {
   "cell_type": "markdown",
   "metadata": {},
   "source": [
    "Las variables originales no siempre son las más adecuadas para describir un conjunto de datos. Es conveniente transformarlas para encontrar una representación más simple. Las [direcciones principales](https://en.wikipedia.org/wiki/Principal_component_analysis) son muy informativas: están descorreladas (son linealmente independientes) y pueden ordenarse de mayor a menor importancia. Se consiguen con [valores y vectores propios](https://en.wikipedia.org/wiki/Eigendecomposition_of_a_matrix) de la matriz de covarianza. (Se trata simplemente de cambiar el sistema de referencia, girando los ejes.)"
   ]
  },
  {
   "cell_type": "code",
   "execution_count": null,
   "metadata": {},
   "outputs": [],
   "source": [
    "l,v = la.eigh(c)  # eigenvalues and eigenvectors de c, cuando c es simétrica.\n",
    "\n",
    "print(np.sqrt(l))\n",
    "print(v)\n",
    "\n",
    "sl1 = np.sqrt(l[0])\n",
    "sl2 = np.sqrt(l[1])\n",
    "v1 = v[:,0]\n",
    "v2 = v[:,1]"
   ]
  },
  {
   "cell_type": "markdown",
   "metadata": {},
   "source": [
    "El conjunto de datos puede resumirse mediante una elipse centrada en la media y que engloba una proporción grande (p.ej. el 90%) de los datos."
   ]
  },
  {
   "cell_type": "code",
   "execution_count": null,
   "metadata": {},
   "outputs": [],
   "source": [
    "# para representar gráficamente la elipse de incertidumbre deformamos un círculo\n",
    "angle = np.linspace(0,2*np.pi,100)\n",
    "circle = np.array([ np.cos(angle), np.sin(angle)]).T\n",
    "\n",
    "# matriz de rotación de ángulo a\n",
    "def rot(a):\n",
    "    c = np.cos(a)\n",
    "    s = np.sin(a)\n",
    "    return np.array([[c,-s],\n",
    "                     [s, c]])\n",
    "\n",
    "# elipse centrada en mx,my, con ejes s1 y s2, y ángulo a\n",
    "def ellip(mx,my,s1,s2,a):\n",
    "    return np.array([mx,my]) + circle @ np.diag([s1,s2]) @ rot(-a)"
   ]
  },
  {
   "cell_type": "code",
   "execution_count": null,
   "metadata": {},
   "outputs": [],
   "source": [
    "plt.plot(x[:,0],x[:,1],'.'); #plt.axis('equal');\n",
    "e = ellip(m[0],m[1],2*sl2,2*sl1,np.arctan2(v2[1],v2[0]))\n",
    "plt.plot(*e.T);\n",
    "plt.plot(*m,'o',color='red')\n",
    "plt.title('elipse de incertidumbre $\\mu \\pm 2\\sigma$');"
   ]
  },
  {
   "cell_type": "markdown",
   "metadata": {},
   "source": [
    "### Distancia normalizada"
   ]
  },
  {
   "cell_type": "markdown",
   "metadata": {},
   "source": [
    "Cuando tenemos datos multidimensionales es difícil construir un modelo preciso, sobre todo en dimensión alta. Lo más práctico, al menos en un primer ataque, es construir un [modelo gaussiano](https://en.wikipedia.org/wiki/Multivariate_normal_distribution), basado únicamente en la media y matriz de covarianza.\n",
    "\n",
    "La fórmula matemática que obtiene la (densidad de) probabilidad de un vector se expresa en función de la \"variable estandarizada\", que puede considerarse una [distancia](https://en.wikipedia.org/wiki/Mahalanobis_distance) entre el vector y el conjunto de datos."
   ]
  },
  {
   "cell_type": "markdown",
   "metadata": {},
   "source": [
    "Aquí vemos una representación de la distribución de probabilidad como curvas de nivel y las direcciones principales. Es la elipse de incertidumbre a una, dos, y 3 desviaciones."
   ]
  },
  {
   "cell_type": "code",
   "execution_count": null,
   "metadata": {},
   "outputs": [],
   "source": [
    "# distancia de Mahalanobis, con la inversa de la matriz de covarianza precomputada\n",
    "def distMah(m,ic,v):\n",
    "    return np.sqrt((v-m) @ ic @ (v-m))\n",
    "\n",
    "# auxiliar para poder hacer un contour plot\n",
    "def dm(m,c):\n",
    "    ic = la.inv(c)\n",
    "    f = lambda x,y: distMah(m,ic,np.array([x,y]))\n",
    "    return np.vectorize(f)"
   ]
  },
  {
   "cell_type": "code",
   "execution_count": null,
   "metadata": {},
   "outputs": [],
   "source": [
    "r = np.linspace(-15,25,100)\n",
    "x1,x2 = np.meshgrid(r,r)\n",
    "\n",
    "plt.figure(figsize=(6,6))\n",
    "\n",
    "plt.plot(x[:,0],x[:,1],'.');\n",
    "plt.contour(x1,x2, dm(m,c)(x1,x2), [1,2,3], colors=['gray']);\n",
    "\n",
    "plt.plot([m[0],m[0]+v2[0]*2*sl2],[m[1],m[1]+v2[1]*2*sl2], 'red')\n",
    "plt.plot([m[0],m[0]+v1[0]*2*sl1],[m[1],m[1]+v1[1]*2*sl1], 'green')\n",
    "\n",
    "plt.grid(); plt.axis('equal');"
   ]
  },
  {
   "cell_type": "markdown",
   "metadata": {},
   "source": [
    "Y aquí tenemos la densidad de probabilidad:"
   ]
  },
  {
   "cell_type": "code",
   "execution_count": null,
   "metadata": {},
   "outputs": [],
   "source": [
    "y = np.exp(-0.5*dm(m,c)(x1,x2)**2)\n",
    "\n",
    "fig = plt.figure()\n",
    "ax = fig.add_subplot(111, projection='3d')\n",
    "ax.plot_surface(x1,x2,y, cmap=\"coolwarm\", linewidth=0.5, rstride=2, cstride=2);"
   ]
  },
  {
   "cell_type": "code",
   "execution_count": null,
   "metadata": {},
   "outputs": [],
   "source": [
    "plt.imshow(y); plt.axis('off');"
   ]
  },
  {
   "cell_type": "markdown",
   "metadata": {},
   "source": [
    "El elipsoide de incertidumbre es equivalente a suponer un modelo normal (Gaussiano) de los datos. Muy simple pero a la vez muy potente."
   ]
  },
  {
   "cell_type": "markdown",
   "metadata": {},
   "source": [
    "### Aplicaciones\n",
    "\n",
    "- Distancia normalizada, clasificadores sencillos\n",
    "- Componentes principales, reducción de dimensión\n",
    "- Inferencia Bayesiana en modelos gaussianos, filtro de Kalman, gaussian processes\n",
    "- Modelos de mezcla"
   ]
  },
  {
   "cell_type": "markdown",
   "metadata": {},
   "source": [
    "## Computación a partir de un array"
   ]
  },
  {
   "cell_type": "markdown",
   "metadata": {},
   "source": [
    "En el ejemplo anterior hemos calculado la elipse de incertidumbre a partir de un conjunto de puntos (una muestra de la variable aleatoria de interés). Pero también puede interesarnos un modelo gaussiano para representar una región 2D en la que cada punto $f(x,y)$ puede ser 0 ó 1 (una máscara) o la verosimilitud ($f(x) \\geq 0$) de una cierta propiedad, o una probabilidad."
   ]
  },
  {
   "cell_type": "markdown",
   "metadata": {},
   "source": [
    "El modelo elíptico a partir de una imagen general (no máscara) es útil para encontrar la región de máxima respuesta a un determinado detector, por ejemplo en el tracking por modelos de color usando reproyección de histograma."
   ]
  },
  {
   "cell_type": "code",
   "execution_count": null,
   "metadata": {},
   "outputs": [],
   "source": [
    "def readrgb(file):\n",
    "    return cv.cvtColor( cv.imread('../images/'+file), cv.COLOR_BGR2RGB) \n",
    "\n",
    "def rgb2gray(x):\n",
    "    return cv.cvtColor(x,cv.COLOR_RGB2GRAY)"
   ]
  },
  {
   "cell_type": "code",
   "execution_count": null,
   "metadata": {},
   "outputs": [],
   "source": [
    "img = readrgb('reproh.png')\n",
    "f = rgb2gray(img)\n",
    "plt.imshow(f,'gray'); plt.colorbar();"
   ]
  },
  {
   "cell_type": "markdown",
   "metadata": {},
   "source": [
    "Para encontrar un modelo elíptico de esa región, o sea, un modelo gaussiano de la distribución de probabilidad de la \"intensidad de luz\", utilizamos los *momentos* de la imagen:\n",
    "\n",
    "$$m_{pq} \\equiv \\sum_{x,y} f(x,y) x^p y^q $$\n",
    "\n",
    "A partir de ellos podemos calcular la media y matriz de covarianza de la región."
   ]
  },
  {
   "cell_type": "code",
   "execution_count": null,
   "metadata": {},
   "outputs": [],
   "source": [
    "def medcov(c):\n",
    "    m = cv.moments(c.astype(np.float32))  # int32, float32, but not float64! (for contours)\n",
    "    s = m['m00']\n",
    "    return (m['m10']/s, m['m01']/s, m['mu20']/s, m['mu02']/s, m['mu11']/s)"
   ]
  },
  {
   "cell_type": "code",
   "execution_count": null,
   "metadata": {},
   "outputs": [],
   "source": [
    "mx,my,cxx,cyy,cxy = medcov(f)\n",
    "\n",
    "c = np.array([[cxx,cxy],\n",
    "              [cxy,cyy]])\n",
    "\n",
    "l,v = la.eigh(c)\n",
    "\n",
    "print(np.sqrt(l))\n",
    "print(v)\n",
    "\n",
    "sl1 = np.sqrt(l[0])\n",
    "sl2 = np.sqrt(l[1])\n",
    "v1 = v[:,0]\n",
    "v2 = v[:,1]\n",
    "\n",
    "plt.imshow(f,'gray');\n",
    "e = ellip(mx,my,2*sl2,2*sl1,np.arctan2(v2[1],v2[0]))\n",
    "plt.plot(e[:,0],e[:,1]);"
   ]
  },
  {
   "cell_type": "markdown",
   "metadata": {},
   "source": [
    "La elipse no se ajusta perfectamente a la región porque se ha calculado con las intensidades en toda la imagen y hay \"outliers\" cerca de la esquina superior derecha. Si se recalcula dando menos peso a los puntos más alejados conseguimos un modelo mucho mejor (el método de tracking *camshift* se basa en esta idea)."
   ]
  },
  {
   "cell_type": "markdown",
   "metadata": {},
   "source": [
    "La elipse de incertidumbre puede obtenerse también a partir de una máscara (imagen booleana):"
   ]
  },
  {
   "cell_type": "code",
   "execution_count": null,
   "metadata": {},
   "outputs": [],
   "source": [
    "img = readrgb('patata.png')\n",
    "f = rgb2gray(img) < 128\n",
    "\n",
    "plt.imshow(f);"
   ]
  },
  {
   "cell_type": "code",
   "execution_count": null,
   "metadata": {},
   "outputs": [],
   "source": [
    "mx,my,cxx,cyy,cxy = medcov(f)\n",
    "\n",
    "c = np.array([[cxx,cxy],\n",
    "              [cxy,cyy]])\n",
    "\n",
    "l,v = la.eigh(c)\n",
    "\n",
    "print(np.sqrt(l))\n",
    "print(v)\n",
    "\n",
    "sl1 = np.sqrt(l[0])\n",
    "sl2 = np.sqrt(l[1])\n",
    "v1 = v[:,0]\n",
    "v2 = v[:,1]"
   ]
  },
  {
   "cell_type": "code",
   "execution_count": null,
   "metadata": {},
   "outputs": [],
   "source": [
    "plt.imshow(f,'gray');\n",
    "e = ellip(mx,my,2*sl2,2*sl1,np.arctan2(v2[1],v2[0]))\n",
    "plt.plot(e[:,0],e[:,1]);"
   ]
  },
  {
   "cell_type": "markdown",
   "metadata": {},
   "source": [
    "Cuando la región es una máscara y solo tiene una componente conexa los momentos se pueden calcular de forma más eficiente a partir únicamente del contorno de la figura. Para ello se utiliza un versión discreta del [Teorema de Green](https://en.wikipedia.org/wiki/Green%27s_theorem)."
   ]
  },
  {
   "cell_type": "code",
   "execution_count": null,
   "metadata": {},
   "outputs": [],
   "source": [
    "contours,_ = cv.findContours(f.astype(np.uint8), cv.RETR_EXTERNAL, cv.CHAIN_APPROX_SIMPLE)\n",
    "print(len(contours))"
   ]
  },
  {
   "cell_type": "code",
   "execution_count": null,
   "metadata": {},
   "outputs": [],
   "source": [
    "medcov(contours[0])"
   ]
  },
  {
   "cell_type": "code",
   "execution_count": null,
   "metadata": {},
   "outputs": [],
   "source": [
    "medcov(f)"
   ]
  },
  {
   "cell_type": "code",
   "execution_count": null,
   "metadata": {},
   "outputs": [],
   "source": [
    "mx,my,cxx,cyy,cxy = medcov(contours[0])\n",
    "c = np.array([[cxx,cxy],\n",
    "              [cxy,cyy]])\n",
    "\n",
    "l,v = la.eigh(c)\n",
    "\n",
    "sl1 = np.sqrt(l[0])\n",
    "sl2 = np.sqrt(l[1])\n",
    "v1 = v[:,0]\n",
    "v2 = v[:,1]\n",
    "\n",
    "plt.plot(contours[0][:,:,0],contours[0][:,:,1]);\n",
    "e = ellip(mx,my,2*sl2,2*sl1,np.arctan2(v2[1],v2[0]))\n",
    "plt.plot(e[:,0],e[:,1]);"
   ]
  },
  {
   "cell_type": "markdown",
   "metadata": {},
   "source": [
    "**Ejercicio**: Deduce una fórmula sencilla para calcular el área de un polígono a partir de las coordenadas de sus vértices."
   ]
  }
 ],
 "metadata": {
  "anaconda-cloud": {},
  "hide_input": false,
  "kernelspec": {
   "display_name": "Python 3 (ipykernel)",
   "language": "python",
   "name": "python3"
  },
  "language_info": {
   "codemirror_mode": {
    "name": "ipython",
    "version": 3
   },
   "file_extension": ".py",
   "mimetype": "text/x-python",
   "name": "python",
   "nbconvert_exporter": "python",
   "pygments_lexer": "ipython3",
   "version": "3.11.5"
  }
 },
 "nbformat": 4,
 "nbformat_minor": 4
}

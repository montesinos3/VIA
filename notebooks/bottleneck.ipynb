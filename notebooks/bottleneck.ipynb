{
 "cells": [
  {
   "cell_type": "markdown",
   "metadata": {},
   "source": [
    "# Autoencoder"
   ]
  },
  {
   "cell_type": "markdown",
   "metadata": {},
   "source": [
    "(Si no tienes GPU puedes [ejecutar este notebook en COLAB](https://colab.research.google.com/github/AlbertoRuiz/umucv/blob/master/notebooks/bottleneck.ipynb))"
   ]
  },
  {
   "cell_type": "markdown",
   "metadata": {},
   "source": [
    "## Load MNIST data"
   ]
  },
  {
   "cell_type": "code",
   "execution_count": null,
   "metadata": {},
   "outputs": [],
   "source": [
    "import os\n",
    "os.environ[\"KERAS_BACKEND\"] = \"torch\""
   ]
  },
  {
   "cell_type": "code",
   "execution_count": null,
   "metadata": {
    "colab": {
     "base_uri": "https://localhost:8080/"
    },
    "id": "MkkCR6kjOF-x",
    "outputId": "50ad0134-2979-476e-81f7-ab235e30d5bf"
   },
   "outputs": [],
   "source": [
    "import matplotlib.pyplot as plt\n",
    "import numpy             as np\n",
    "\n",
    "import keras"
   ]
  },
  {
   "cell_type": "code",
   "execution_count": null,
   "metadata": {
    "colab": {
     "base_uri": "https://localhost:8080/"
    },
    "id": "MkkCR6kjOF-x",
    "outputId": "50ad0134-2979-476e-81f7-ab235e30d5bf"
   },
   "outputs": [],
   "source": [
    "(kxl,cl), (kxt,ct) = keras.datasets.mnist.load_data()\n",
    "\n",
    "xl = kxl.reshape(len(kxl),-1)/255\n",
    "xt = kxt.reshape(len(kxt),-1)/255\n",
    "print(xl.shape, cl.shape)\n",
    "print(xt.shape, ct.shape)"
   ]
  },
  {
   "cell_type": "markdown",
   "metadata": {},
   "source": [
    "## 2D embedding"
   ]
  },
  {
   "cell_type": "code",
   "execution_count": null,
   "metadata": {
    "id": "BIKkTzh4Xq8F"
   },
   "outputs": [],
   "source": [
    "model = keras.Sequential(\n",
    "    [keras.Input(shape=(28*28,))] +\n",
    "    [keras.layers.Dense(u, activation='relu' if u!=2 else 'sigmoid') for u in [256,128,64,32,2,32,64,128,256]]+\n",
    "    [keras.layers.Dense(28*28, activation='linear')]\n",
    ")\n",
    "\n",
    "model.summary()"
   ]
  },
  {
   "cell_type": "code",
   "execution_count": null,
   "metadata": {},
   "outputs": [],
   "source": [
    "model.compile(loss=\"mse\", optimizer=\"adam\")"
   ]
  },
  {
   "cell_type": "code",
   "execution_count": null,
   "metadata": {},
   "outputs": [],
   "source": [
    "history = model.fit(xl, xl, epochs=100, batch_size=500)"
   ]
  },
  {
   "cell_type": "code",
   "execution_count": null,
   "metadata": {},
   "outputs": [],
   "source": [
    "plt.plot(history.history['loss']);"
   ]
  },
  {
   "cell_type": "code",
   "execution_count": null,
   "metadata": {
    "id": "XVMEZNVSae4n"
   },
   "outputs": [],
   "source": [
    "pred = model.predict(xl)"
   ]
  },
  {
   "cell_type": "code",
   "execution_count": null,
   "metadata": {
    "id": "i5tNMarHbl2B"
   },
   "outputs": [],
   "source": [
    "def shdig(v):\n",
    "    x = np.reshape(v,[28,28])\n",
    "    plt.imshow(1-x, 'gray', vmin=0, vmax=1, interpolation=\"nearest\");\n",
    "\n",
    "def compare(k):\n",
    "    plt.figure(figsize=(8,4))\n",
    "    plt.subplot(1,2,1); shdig(xl[k])\n",
    "    plt.subplot(1,2,2); shdig(pred[k])"
   ]
  },
  {
   "cell_type": "code",
   "execution_count": null,
   "metadata": {
    "colab": {
     "base_uri": "https://localhost:8080/",
     "height": 352
    },
    "id": "FAXn28wJcE1_",
    "outputId": "03170bf5-0912-4dda-b13b-f8df8aad9b85"
   },
   "outputs": [],
   "source": [
    "compare(37)"
   ]
  },
  {
   "cell_type": "code",
   "execution_count": null,
   "metadata": {
    "colab": {
     "base_uri": "https://localhost:8080/",
     "height": 352
    },
    "id": "Fvvn4nq3cJjo",
    "outputId": "c43a8ce1-a954-4a50-981e-b3f9d43bfec9"
   },
   "outputs": [],
   "source": [
    "compare(10235)"
   ]
  },
  {
   "cell_type": "code",
   "execution_count": null,
   "metadata": {
    "id": "0BnnAFiFcviS"
   },
   "outputs": [],
   "source": [
    "encoder = keras.Sequential()\n",
    "encoder.add(keras.Input(shape=(28*28,)))\n",
    "for x in model.layers[:5]:\n",
    "    encoder.add(x)\n",
    "    \n",
    "decoder = keras.Sequential()\n",
    "decoder.add(keras.Input(shape=(2,)))\n",
    "for x in model.layers[5:]:\n",
    "    decoder.add(x)"
   ]
  },
  {
   "cell_type": "code",
   "execution_count": null,
   "metadata": {
    "id": "01tQLUPMdAth"
   },
   "outputs": [],
   "source": [
    "xy = encoder.predict(xl)"
   ]
  },
  {
   "cell_type": "code",
   "execution_count": null,
   "metadata": {
    "colab": {
     "base_uri": "https://localhost:8080/",
     "height": 483
    },
    "id": "MBTp_3BpdQmC",
    "outputId": "f2e6e4ee-a6a0-449e-b623-105211efa086"
   },
   "outputs": [],
   "source": [
    "plt.figure(figsize=(5,5))\n",
    "plt.scatter(*xy.T,s=1,c=cl,cmap='tab10');"
   ]
  },
  {
   "cell_type": "code",
   "execution_count": null,
   "metadata": {
    "colab": {
     "base_uri": "https://localhost:8080/",
     "height": 1000
    },
    "id": "bZZQev23eTqh",
    "outputId": "5eb58597-6e12-4a7b-b114-89c24c17dc5b"
   },
   "outputs": [],
   "source": [
    "ns = 1\n",
    "plt.figure(figsize=(12,5))\n",
    "for d in range(10):\n",
    "    plt.subplot(2,5,ns)\n",
    "    ns += 1\n",
    "    plt.scatter(*xy.T,s=1,c=cl==d,cmap='coolwarm');\n",
    "    plt.title(d)\n",
    "    plt.axis('off')"
   ]
  },
  {
   "cell_type": "markdown",
   "metadata": {},
   "source": [
    "## 3D embedding"
   ]
  },
  {
   "cell_type": "code",
   "execution_count": null,
   "metadata": {},
   "outputs": [],
   "source": [
    "encoder = keras.Sequential()\n",
    "encoder.add(keras.Input(shape=(28*28,)))\n",
    "for u in [256, 128, 64, 32]:\n",
    "    encoder.add(keras.layers.Dense(units=u, activation='relu'))\n",
    "encoder.add(keras.layers.Dense(units=3, activation='sigmoid'))\n",
    "\n",
    "decoder = keras.Sequential()\n",
    "decoder.add(keras.Input(shape=(3,)))\n",
    "for u in [32, 64, 128, 256]:\n",
    "    decoder.add(keras.layers.Dense(units=u, activation='relu'))\n",
    "decoder.add(keras.layers.Dense(units=28*28, activation='linear'))\n",
    "\n",
    "model = keras.Sequential([encoder, decoder])\n",
    "model.compile(loss='mse', optimizer='adam')"
   ]
  },
  {
   "cell_type": "code",
   "execution_count": null,
   "metadata": {},
   "outputs": [],
   "source": [
    "encoder.summary()"
   ]
  },
  {
   "cell_type": "code",
   "execution_count": null,
   "metadata": {},
   "outputs": [],
   "source": [
    "decoder.summary()"
   ]
  },
  {
   "cell_type": "code",
   "execution_count": null,
   "metadata": {},
   "outputs": [],
   "source": [
    "history = model.fit(xl, xl, epochs=100, batch_size=500)"
   ]
  },
  {
   "cell_type": "code",
   "execution_count": null,
   "metadata": {},
   "outputs": [],
   "source": [
    "plt.plot(history.history['loss']);"
   ]
  },
  {
   "cell_type": "code",
   "execution_count": null,
   "metadata": {},
   "outputs": [],
   "source": [
    "xyz = encoder.predict(xl)"
   ]
  },
  {
   "cell_type": "code",
   "execution_count": null,
   "metadata": {},
   "outputs": [],
   "source": [
    "showclass = 3\n",
    "\n",
    "fig = plt.figure(figsize=(6,6))\n",
    "ax = fig.add_subplot(projection='3d')\n",
    "ax.plot(*xyz[cl!=showclass].T,'.',markersize=1,alpha=0.5,color='gray');\n",
    "ax.plot(*xyz[cl==showclass].T,'.',markersize=1,alpha=0.5,color='red');\n",
    "\n",
    "#ax.scatter(*map.T,s=0.1,c=cl==0,cmap='coolwarm',alpha=0.5);\n"
   ]
  },
  {
   "cell_type": "code",
   "execution_count": null,
   "metadata": {},
   "outputs": [],
   "source": [
    "fig = plt.figure(figsize=(6,6))\n",
    "ax = fig.add_subplot(projection='3d')\n",
    "for c in range(10):\n",
    "    ax.plot(*xyz[cl==c].T,'.',markersize=1,alpha=0.5,label=c);\n",
    "plt.legend(markerscale=10);"
   ]
  },
  {
   "cell_type": "markdown",
   "metadata": {},
   "source": [
    "Si estás en tu máquina local puedes visualizar dinámicamente el gráfico 3D con el backend tk de matplotlib:"
   ]
  },
  {
   "cell_type": "code",
   "execution_count": null,
   "metadata": {},
   "outputs": [],
   "source": [
    "%matplotlib tk"
   ]
  },
  {
   "cell_type": "code",
   "execution_count": null,
   "metadata": {},
   "outputs": [],
   "source": [
    "fig = plt.figure(figsize=(8,8))\n",
    "ax = fig.add_subplot(projection='3d')\n",
    "for c in range(10):\n",
    "    ax.plot(*xyz[cl==c].T,'.',markersize=1,alpha=0.5,label=c);\n",
    "plt.legend(markerscale=10);"
   ]
  },
  {
   "cell_type": "markdown",
   "metadata": {},
   "source": [
    "Volvemos al los gráficos inline:"
   ]
  },
  {
   "cell_type": "code",
   "execution_count": null,
   "metadata": {},
   "outputs": [],
   "source": [
    "%matplotlib inline"
   ]
  },
  {
   "cell_type": "code",
   "execution_count": null,
   "metadata": {},
   "outputs": [],
   "source": [
    "from ipywidgets import interactive, FloatSlider\n",
    "\n",
    "def fun(a=0.5,b=0.5,c=0.5):\n",
    "    shdig(decoder.predict(np.array([[a,b,c]]),verbose=False));\n",
    "\n",
    "interactive(fun, a=(0.,1,0.01), b=(0.,1,0.01), c=(0.,1,0.01))"
   ]
  },
  {
   "cell_type": "markdown",
   "metadata": {},
   "source": [
    "Vemos que muchas posiciones del embedding producen imágenes que no tienen forma de dígitos reconocibles. Si queremos aprender un modelo de un conjunto de objetos que permita generar muestras realistas es necesario hacer alguna mejoras. Algunas técnicas para esto son los variational autoencoders y stable diffusion."
   ]
  }
 ],
 "metadata": {
  "accelerator": "GPU",
  "colab": {
   "collapsed_sections": [],
   "name": "mnistdlmap2d.ipynb",
   "provenance": []
  },
  "kernelspec": {
   "display_name": "Python 3 (ipykernel)",
   "language": "python",
   "name": "python3"
  },
  "language_info": {
   "codemirror_mode": {
    "name": "ipython",
    "version": 3
   },
   "file_extension": ".py",
   "mimetype": "text/x-python",
   "name": "python",
   "nbconvert_exporter": "python",
   "pygments_lexer": "ipython3",
   "version": "3.11.5"
  }
 },
 "nbformat": 4,
 "nbformat_minor": 4
}

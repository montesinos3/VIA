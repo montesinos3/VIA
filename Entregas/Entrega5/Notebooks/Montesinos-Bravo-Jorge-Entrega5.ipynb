{
 "cells": [
  {
   "cell_type": "markdown",
   "id": "9546f09c",
   "metadata": {},
   "source": [
    "# Entrega 5\n",
    "## DL\n",
    "### Entrena un modelo de deep learning con tus propias imágenes. Puedes utilizar la herramienta ultralytics y apoyarte en el ejemplo code/DL/yolotrain. Otra posibilidad es reproducir el ejemplo code/DL/UNET."
   ]
  },
  {
   "cell_type": "markdown",
   "id": "b9564036",
   "metadata": {},
   "source": []
  }
 ],
 "metadata": {
  "language_info": {
   "name": "python"
  }
 },
 "nbformat": 4,
 "nbformat_minor": 5
}

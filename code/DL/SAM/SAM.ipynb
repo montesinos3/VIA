{
 "cells": [
  {
   "cell_type": "markdown",
   "id": "93bf26f7-5ab1-473d-8c84-55ba46d64833",
   "metadata": {},
   "source": [
    "# SAM: segment anything"
   ]
  },
  {
   "cell_type": "markdown",
   "id": "ceb65134-549e-42fa-9dd2-39bc30af9f6d",
   "metadata": {},
   "source": [
    "https://github.com/facebookresearch/segment-anything"
   ]
  },
  {
   "cell_type": "code",
   "execution_count": null,
   "id": "cbb23616-a34e-46e3-8df1-e48d0bf98d4f",
   "metadata": {},
   "outputs": [],
   "source": [
    "# !pip install git+https://github.com/facebookresearch/segment-anything.git"
   ]
  },
  {
   "cell_type": "code",
   "execution_count": null,
   "id": "76e2be9f-8471-4a0e-949d-f18b9ef950f3",
   "metadata": {},
   "outputs": [],
   "source": [
    "import numpy as np\n",
    "import torch\n",
    "import matplotlib.pyplot as plt\n",
    "import cv2"
   ]
  },
  {
   "cell_type": "code",
   "execution_count": null,
   "id": "034970d6-9746-4347-aace-58410d908a6e",
   "metadata": {},
   "outputs": [],
   "source": [
    "def show_anns(anns):\n",
    "    if len(anns) == 0:\n",
    "        return\n",
    "    sorted_anns = sorted(anns, key=(lambda x: x['area']), reverse=True)\n",
    "    ax = plt.gca()\n",
    "    ax.set_autoscale_on(False)\n",
    "\n",
    "    img = np.ones((sorted_anns[0]['segmentation'].shape[0], sorted_anns[0]['segmentation'].shape[1], 4))\n",
    "    img[:,:,3] = 0\n",
    "    for ann in sorted_anns:\n",
    "        m = ann['segmentation']\n",
    "        color_mask = np.concatenate([np.random.random(3), [0.35]])\n",
    "        img[m] = color_mask\n",
    "    ax.imshow(img)"
   ]
  },
  {
   "cell_type": "code",
   "execution_count": null,
   "id": "7543bbc0-54a0-4a9e-ba35-d2e020555dd2",
   "metadata": {},
   "outputs": [],
   "source": [
    "from segment_anything import sam_model_registry, SamAutomaticMaskGenerator, SamPredictor"
   ]
  },
  {
   "cell_type": "code",
   "execution_count": null,
   "id": "f1d9cbb1-2d45-46ea-bc35-bc3565e4ec9c",
   "metadata": {},
   "outputs": [],
   "source": [
    "# !wget https://dl.fbaipublicfiles.com/segment_anything/sam_vit_h_4b8939.pth\n",
    "# !wget https://dl.fbaipublicfiles.com/segment_anything/sam_vit_b_01ec64.pth"
   ]
  },
  {
   "cell_type": "code",
   "execution_count": null,
   "id": "2537769a-f7f1-41a6-abba-9701a981e270",
   "metadata": {},
   "outputs": [],
   "source": [
    "# very large\n",
    "#sam_checkpoint = \"sam_vit_h_4b8939.pth\"\n",
    "#model_type = \"vit_h\"\n",
    "\n",
    "# small\n",
    "sam_checkpoint = \"sam_vit_b_01ec64.pth\"\n",
    "model_type = \"vit_b\"\n",
    "\n",
    "device = \"cuda\"\n",
    "\n",
    "sam = sam_model_registry[model_type](checkpoint=sam_checkpoint)\n",
    "sam.to(device=device)\n",
    "\n",
    "mask_generator = SamAutomaticMaskGenerator(sam)"
   ]
  },
  {
   "cell_type": "code",
   "execution_count": null,
   "id": "856e7a09-b716-45cd-99a6-0848dbbcbb51",
   "metadata": {},
   "outputs": [],
   "source": [
    "image = cv2.imread('../../../images/madelman.png')\n",
    "image = cv2.cvtColor(image, cv2.COLOR_BGR2RGB)\n",
    "plt.imshow(image);"
   ]
  },
  {
   "cell_type": "code",
   "execution_count": null,
   "id": "e4c90bde-1a80-4b11-8535-b63fcdec285a",
   "metadata": {},
   "outputs": [],
   "source": [
    "image = image[::2,::2]"
   ]
  },
  {
   "cell_type": "code",
   "execution_count": null,
   "id": "779f7da4-431b-425f-ae08-d6bb4c909f71",
   "metadata": {},
   "outputs": [],
   "source": [
    "masks = mask_generator.generate(image)"
   ]
  },
  {
   "cell_type": "code",
   "execution_count": null,
   "id": "1b13a12d-1789-4f72-b890-c1cd06ab1080",
   "metadata": {},
   "outputs": [],
   "source": [
    "plt.imshow(image)\n",
    "show_anns(masks)"
   ]
  },
  {
   "cell_type": "code",
   "execution_count": null,
   "id": "c72ab077-9aa8-4b5a-991e-8f868b25de40",
   "metadata": {},
   "outputs": [],
   "source": [
    "len(masks)"
   ]
  },
  {
   "cell_type": "code",
   "execution_count": null,
   "id": "241c3bcd-6229-4728-98ab-7117b973c752",
   "metadata": {},
   "outputs": [],
   "source": [
    "masks[0]['segmentation']"
   ]
  },
  {
   "cell_type": "code",
   "execution_count": null,
   "id": "3a83bbae-d35b-4d2d-9c2e-e9d4df9f2932",
   "metadata": {},
   "outputs": [],
   "source": [
    "for m in masks:\n",
    "    plt.figure(figsize=(3,3))\n",
    "    plt.imshow(m['segmentation']);\n",
    "    plt.axis('off')\n",
    "    plt.show()"
   ]
  }
 ],
 "metadata": {
  "kernelspec": {
   "display_name": "Python 3 (ipykernel)",
   "language": "python",
   "name": "python3"
  },
  "language_info": {
   "codemirror_mode": {
    "name": "ipython",
    "version": 3
   },
   "file_extension": ".py",
   "mimetype": "text/x-python",
   "name": "python",
   "nbconvert_exporter": "python",
   "pygments_lexer": "ipython3",
   "version": "3.11.5"
  }
 },
 "nbformat": 4,
 "nbformat_minor": 5
}

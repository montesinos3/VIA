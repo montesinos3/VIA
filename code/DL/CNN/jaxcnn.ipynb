{
 "cells": [
  {
   "cell_type": "markdown",
   "id": "11cca099-81cf-4156-b368-1f32ea1a0de5",
   "metadata": {},
   "source": [
    "# JAX CNN"
   ]
  },
  {
   "cell_type": "markdown",
   "id": "e9d1a729-1c5a-4844-bd5a-c5abc61e46e6",
   "metadata": {},
   "source": [
    "En este notebook practicamos un poco con la programación diferenciable de JAX construyendo ejemplos adversariales.\n",
    "\n",
    "En primer lugar definimos y entrenamos una red convolucional sencilla. Está copiada de la que hemos hecho en Keras para MNIST, pero quitamos el dropout porque necesita meter los `rng` y complica un poco el código."
   ]
  },
  {
   "cell_type": "code",
   "execution_count": 1,
   "id": "8d45ab80-fddf-4075-b761-75825c33dd12",
   "metadata": {},
   "outputs": [],
   "source": [
    "import jax\n",
    "import jax.numpy as jnp\n",
    "\n",
    "from flax import linen as nn\n",
    "\n",
    "class SimpleCNN(nn.Module):\n",
    "    @nn.compact\n",
    "    def __call__(self, x):\n",
    "        x = nn.Conv(features=32, kernel_size=(3, 3), strides=(1, 1), padding='SAME', name='conv1')(x)\n",
    "        x = nn.relu(x)\n",
    "        x = nn.max_pool(x, window_shape=(2, 2), strides=(2, 2), padding='SAME')\n",
    "        x = nn.Conv(features=64, kernel_size=(3, 3), strides=(1, 1), padding='SAME', name='conv2')(x)\n",
    "        x = nn.relu(x)\n",
    "        x = nn.max_pool(x, window_shape=(2, 2), strides=(2, 2), padding='SAME')\n",
    "        x = x.reshape((x.shape[0], -1))  # Flatten\n",
    "        #x = nn.Dropout(rate=0.5)(x, deterministic=False)\n",
    "        x = nn.Dense(features=10, name='dense')(x)\n",
    "        x = nn.softmax(x)\n",
    "        return x"
   ]
  },
  {
   "cell_type": "markdown",
   "id": "e507251e-6ecd-49d5-a05b-9ec79f4f9354",
   "metadata": {},
   "source": [
    "Los ejemplos los sacamos de Keras, donde tenemos clara la normalización."
   ]
  },
  {
   "cell_type": "code",
   "execution_count": 2,
   "id": "32380437-c00a-4769-b286-2512b6234007",
   "metadata": {
    "hidden": true,
    "id": "L8clZ9I7Eo9m"
   },
   "outputs": [],
   "source": [
    "import os\n",
    "os.environ[\"KERAS_BACKEND\"] = \"torch\""
   ]
  },
  {
   "cell_type": "code",
   "execution_count": 3,
   "id": "3a4fa7b4-9c4d-4c71-89de-0bbc1c32ad57",
   "metadata": {
    "hidden": true,
    "id": "vukV6A9HEo9m"
   },
   "outputs": [
    {
     "name": "stdout",
     "output_type": "stream",
     "text": [
      "(60000, 28, 28) (60000,)\n",
      "x_train shape: (60000, 28, 28, 1)\n",
      "60000 train samples\n",
      "10000 test samples\n"
     ]
    }
   ],
   "source": [
    "import keras\n",
    "import numpy as np\n",
    "\n",
    "(x_train, y_train), (x_test, y_test) = keras.datasets.mnist.load_data()\n",
    "print(x_train.shape, y_train.shape)\n",
    "\n",
    "# Scale images to the [0, 1] range\n",
    "x_train = x_train.astype(\"float32\") / 255\n",
    "x_test = x_test.astype(\"float32\") / 255\n",
    "# Make sure images have shape (28, 28, 1)\n",
    "x_train = np.expand_dims(x_train, -1)\n",
    "x_test = np.expand_dims(x_test, -1)\n",
    "print(\"x_train shape:\", x_train.shape)\n",
    "print(x_train.shape[0], \"train samples\")\n",
    "print(x_test.shape[0], \"test samples\")\n",
    "\n",
    "cl = y_train\n",
    "ct = y_test\n",
    "\n",
    "num_classes=10\n",
    "# convert class labels to one-hot vectors\n",
    "y_train = keras.utils.to_categorical(y_train, num_classes)\n",
    "y_test = keras.utils.to_categorical(y_test, num_classes)"
   ]
  },
  {
   "cell_type": "markdown",
   "id": "86e8e17f-8e01-4c52-bb88-09450b01b54b",
   "metadata": {},
   "source": [
    "Hay que inicializar la red con datos `dummy` para que se organice internamente."
   ]
  },
  {
   "cell_type": "code",
   "execution_count": 4,
   "id": "be5615ee-b124-4cc7-b44b-d30df485090d",
   "metadata": {},
   "outputs": [],
   "source": [
    "model = SimpleCNN()"
   ]
  },
  {
   "cell_type": "code",
   "execution_count": 5,
   "id": "50c5e8e3-39af-4c26-b609-864676f2076e",
   "metadata": {},
   "outputs": [
    {
     "name": "stderr",
     "output_type": "stream",
     "text": [
      "2024-04-12 13:18:30.517209: W external/xla/xla/service/gpu/nvptx_compiler.cc:718] The NVIDIA driver's CUDA version is 12.2 which is older than the ptxas CUDA version (12.4.131). Because the driver is older than the ptxas version, XLA is disabling parallel compilation, which may slow down compilation. You should update your NVIDIA driver or use the NVIDIA-provided CUDA forward compatibility packages.\n"
     ]
    }
   ],
   "source": [
    "variables = model.init(jax.random.key(0), jnp.ones((1,28,28,1)))"
   ]
  },
  {
   "cell_type": "markdown",
   "id": "cbe3b349-d28c-487a-93c4-300a5d6cc189",
   "metadata": {},
   "source": [
    "Puede salir algún *warning*, pero si tenemos la GPU bien configurada lo importante es que en la siguiente celda salga `cuda`:"
   ]
  },
  {
   "cell_type": "code",
   "execution_count": 6,
   "id": "6ebc8517-6837-4de6-a4d8-9134012c7c1b",
   "metadata": {},
   "outputs": [
    {
     "data": {
      "text/plain": [
       "[cuda(id=0)]"
      ]
     },
     "execution_count": 6,
     "metadata": {},
     "output_type": "execute_result"
    }
   ],
   "source": [
    "jax.devices()"
   ]
  },
  {
   "cell_type": "markdown",
   "id": "11f5c3b1-0d94-4526-b8e5-d17b6fa02583",
   "metadata": {},
   "source": [
    "Verificamos que las dimensiones de salida son consistentes con las entradas:"
   ]
  },
  {
   "cell_type": "code",
   "execution_count": 7,
   "id": "a3fe5744-74c1-48c5-a010-805f0f1c16c0",
   "metadata": {},
   "outputs": [],
   "source": [
    "output = model.apply(variables, jnp.ones((7,28,28,1)))"
   ]
  },
  {
   "cell_type": "code",
   "execution_count": 8,
   "id": "9e1ca52d-aa8f-485e-946d-13197227dc2d",
   "metadata": {},
   "outputs": [
    {
     "data": {
      "text/plain": [
       "(7, 10)"
      ]
     },
     "execution_count": 8,
     "metadata": {},
     "output_type": "execute_result"
    }
   ],
   "source": [
    "output.shape"
   ]
  },
  {
   "cell_type": "markdown",
   "id": "719c3eb7-9e7b-47c6-a4bb-65f8eae8c695",
   "metadata": {},
   "source": [
    "Por sencillez optimizamos el error cuadrático (aunque sería mejor la crossentropy)."
   ]
  },
  {
   "cell_type": "code",
   "execution_count": 9,
   "id": "a09b5d48-c289-4f2d-b8c7-c2d260f5763c",
   "metadata": {},
   "outputs": [],
   "source": [
    "def loss(variables,x,y):\n",
    "    return jnp.mean((model.apply(variables,x) - y)**2)"
   ]
  },
  {
   "cell_type": "code",
   "execution_count": 10,
   "id": "fe858f80-6c46-4e68-85e5-2f6bc3a3ced6",
   "metadata": {},
   "outputs": [
    {
     "data": {
      "text/plain": [
       "Array(0.09125638, dtype=float32)"
      ]
     },
     "execution_count": 10,
     "metadata": {},
     "output_type": "execute_result"
    }
   ],
   "source": [
    "loss(variables, x_train[:10], y_train[:10])"
   ]
  },
  {
   "cell_type": "code",
   "execution_count": 11,
   "id": "3102863f-6f3f-44ed-bd02-12b01dc98597",
   "metadata": {},
   "outputs": [],
   "source": [
    "grad_fn = jax.jit(jax.value_and_grad(loss))"
   ]
  },
  {
   "cell_type": "markdown",
   "id": "ae69418e-9f8a-4930-acef-ff37d385b397",
   "metadata": {},
   "source": [
    "El módulo `flax` para hacer redes con `jax` usa unas estructuras especiales para guardar los parámetros de un modelo. Necesitamos la siguiente función auxiliar para acctualizarlos."
   ]
  },
  {
   "cell_type": "code",
   "execution_count": 12,
   "id": "196708d6-e811-40b8-a8e8-8af5f0ac25a0",
   "metadata": {},
   "outputs": [],
   "source": [
    "@jax.jit\n",
    "def update_params(params, learning_rate, grads):\n",
    "  params = jax.tree_util.tree_map(\n",
    "      lambda p, g: p - learning_rate * g, params, grads)\n",
    "  return params"
   ]
  },
  {
   "cell_type": "markdown",
   "id": "e0e154c7-acfb-4b51-a32e-783ed46fa602",
   "metadata": {},
   "source": [
    "Definimos nuestro propio *stochastic gradient descent* (SGD):"
   ]
  },
  {
   "cell_type": "code",
   "execution_count": 13,
   "id": "f18e5684-0688-49bf-96eb-fca28c8791c5",
   "metadata": {},
   "outputs": [
    {
     "name": "stdout",
     "output_type": "stream",
     "text": [
      "0 18.059954\n",
      "1 7.5228786\n",
      "2 4.4843373\n",
      "3 3.6271744\n",
      "4 3.1790102\n",
      "5 2.885961\n",
      "6 2.6565568\n",
      "7 2.4729555\n",
      "8 2.316346\n",
      "9 2.1849875\n",
      "10 2.0683057\n",
      "11 1.9638747\n",
      "12 1.8718023\n",
      "13 1.7903966\n",
      "14 1.7117388\n",
      "15 1.6406102\n",
      "16 1.5757151\n",
      "17 1.522045\n",
      "18 1.4676843\n",
      "19 1.416237\n",
      "20 1.3724797\n",
      "21 1.3279872\n",
      "22 1.2942588\n",
      "23 1.2567873\n",
      "24 1.221005\n",
      "25 1.1946336\n",
      "26 1.1639574\n",
      "27 1.1382073\n",
      "28 1.1129299\n",
      "29 1.0893986\n"
     ]
    }
   ],
   "source": [
    "lr = 1e-1\n",
    "nbatch = 250\n",
    "w = model.init(jax.random.key(0), jnp.ones((1,28,28,1)))\n",
    "\n",
    "for epoch in range(30):\n",
    "    r = np.random.permutation(len(x_train))\n",
    "    acloss = 0\n",
    "    for k in range(len(x_train)//nbatch):\n",
    "        select = r[k*nbatch:(k+1)*nbatch]\n",
    "        l, g = grad_fn(w, x_train[select], y_train[select])\n",
    "        acloss += l\n",
    "        w = update_params(w, lr, g)\n",
    "    print(epoch, acloss)"
   ]
  },
  {
   "cell_type": "markdown",
   "id": "c2bac8bc-d100-4db4-8cd3-5aa6b8d4fe1e",
   "metadata": {},
   "source": [
    "No va mal, pero como suele suceder, el método ADAM es mucho más rápido:"
   ]
  },
  {
   "cell_type": "code",
   "execution_count": 14,
   "id": "13a88b4f-27ae-4c85-8092-248629ddf098",
   "metadata": {},
   "outputs": [
    {
     "name": "stdout",
     "output_type": "stream",
     "text": [
      "0 9.966686\n",
      "1 3.049809\n",
      "2 2.1402822\n",
      "3 1.6877234\n",
      "4 1.404421\n",
      "5 1.2089978\n",
      "6 1.070253\n",
      "7 0.97209233\n",
      "8 0.8937618\n",
      "9 0.8283967\n",
      "10 0.7725745\n",
      "11 0.723294\n",
      "12 0.68576735\n",
      "13 0.6487561\n",
      "14 0.62380725\n",
      "15 0.593022\n",
      "16 0.5690764\n",
      "17 0.5474778\n",
      "18 0.5299766\n",
      "19 0.5050686\n",
      "20 0.48944545\n",
      "21 0.47330064\n",
      "22 0.45457056\n",
      "23 0.4473565\n",
      "24 0.4323661\n",
      "25 0.41969758\n",
      "26 0.4044593\n",
      "27 0.39430046\n",
      "28 0.37984157\n",
      "29 0.3679229\n"
     ]
    }
   ],
   "source": [
    "import optax\n",
    "\n",
    "lr = 1e-4\n",
    "nbatch = 250\n",
    "nepochs= 30\n",
    "w = model.init(jax.random.key(0), jnp.ones((1,28,28,1)))\n",
    "\n",
    "tx = optax.adam(learning_rate=lr)\n",
    "opt_state = tx.init(w)\n",
    "\n",
    "for epoch in range(nepochs):\n",
    "    r = np.random.permutation(len(x_train))\n",
    "    acloss = 0\n",
    "    for k in range(len(x_train)//nbatch):\n",
    "        select = r[k*nbatch:(k+1)*nbatch]\n",
    "        l, g = grad_fn(w, x_train[select], y_train[select])\n",
    "        acloss += l\n",
    "        updates, opt_state = tx.update(g, opt_state)\n",
    "        w = optax.apply_updates(w, updates)\n",
    "\n",
    "    print(epoch, acloss)"
   ]
  },
  {
   "cell_type": "markdown",
   "id": "510057ca-27af-4bff-acd5-da4ce72c0d7f",
   "metadata": {},
   "source": [
    "Verificamos que realmente hemos aprendido algo cercano al 99% (como la red que hicimos con keras):"
   ]
  },
  {
   "cell_type": "code",
   "execution_count": 15,
   "id": "c149a479-4d95-45c0-9a26-6c28b43c2bc4",
   "metadata": {},
   "outputs": [],
   "source": [
    "def success_rate(model, parameters, X, C, nbatch):\n",
    "    r = []\n",
    "    for k in range(len(X)//nbatch):\n",
    "        xx = X[k*nbatch:(k+1)*nbatch]\n",
    "        yy = C[k*nbatch:(k+1)*nbatch]\n",
    "        p = jnp.argmax(model.apply(parameters,xx),axis=1) == yy\n",
    "        r.append(jnp.mean(p))\n",
    "    return jnp.array(r).mean()"
   ]
  },
  {
   "cell_type": "code",
   "execution_count": 16,
   "id": "7bd56121-9634-4828-8cd4-64ee1fe0f427",
   "metadata": {},
   "outputs": [
    {
     "data": {
      "text/plain": [
       "Array(0.99221665, dtype=float32)"
      ]
     },
     "execution_count": 16,
     "metadata": {},
     "output_type": "execute_result"
    }
   ],
   "source": [
    "success_rate(model, w, x_train, cl, 100)"
   ]
  },
  {
   "cell_type": "code",
   "execution_count": 17,
   "id": "f4667381-1f67-4bef-945a-9c282a9dc74b",
   "metadata": {},
   "outputs": [
    {
     "data": {
      "text/plain": [
       "Array(0.9876, dtype=float32)"
      ]
     },
     "execution_count": 17,
     "metadata": {},
     "output_type": "execute_result"
    }
   ],
   "source": [
    "success_rate(model, w, x_test, ct, 100)"
   ]
  },
  {
   "cell_type": "markdown",
   "id": "76acd05c-3fd2-4498-91d3-956867ca3bbb",
   "metadata": {},
   "source": [
    "Le falta una fracción para llegar al 99% de test, que tal vez puede atribuirse a que no hemos incluido el *dropout*."
   ]
  },
  {
   "cell_type": "markdown",
   "id": "cc5d69d7-5645-441b-a141-194bcdf68630",
   "metadata": {},
   "source": [
    "Ahora elegimos una \"víctima\", que vamos a modificar levemente para engañar a la red."
   ]
  },
  {
   "cell_type": "code",
   "execution_count": 18,
   "id": "81e4a950-a201-4cbf-aae5-c3ec2b908fff",
   "metadata": {},
   "outputs": [],
   "source": [
    "import matplotlib.pyplot as plt"
   ]
  },
  {
   "cell_type": "code",
   "execution_count": 19,
   "id": "99d84d15-8315-4c78-9d99-46f6f092f1a2",
   "metadata": {},
   "outputs": [
    {
     "data": {
      "image/png": "[encoded data removed]",
      "text/plain": [
       "<Figure size 1200x400 with 2 Axes>"
      ]
     },
     "metadata": {},
     "output_type": "display_data"
    }
   ],
   "source": [
    "k = 4000\n",
    "B = x_train[k]\n",
    "fig, (ax1,ax2) = plt.subplots(1,2,figsize=(12,4))\n",
    "ax1.imshow(1-B,'gray',vmin=0,vmax=1)\n",
    "ax2.bar(np.arange(10), model.apply(w, jnp.array([B]))[0])\n",
    "ax2.set_xticks(np.arange(10));"
   ]
  },
  {
   "cell_type": "markdown",
   "id": "bdc94cb0-72c4-4137-b645-916365e83a2a",
   "metadata": {},
   "source": [
    "El criterio de coste es simplemente acercar las salidas a una determinada respuesta distinta de la correcta. El parámetro es la perturbación de la entrada, los pesos de la red ahora son constantes. No hace falta tener en cuenta nada más porque solo nos interesan los signos del gradiente. Queremos la dirección en la que debemos aplicar una pequeña perturbación."
   ]
  },
  {
   "cell_type": "code",
   "execution_count": 20,
   "id": "be0b21fd-fac4-44bc-b517-61367519f553",
   "metadata": {},
   "outputs": [],
   "source": [
    "@jax.jit\n",
    "def adversarial(delta):\n",
    "    r = model.apply(w, jnp.array([B+delta]))\n",
    "    y = jnp.eye(10)[3]\n",
    "    loss = jnp.sum((r-y)**2)\n",
    "    return loss"
   ]
  },
  {
   "cell_type": "code",
   "execution_count": 21,
   "id": "20727f93-2238-47ef-852f-bfaeac70a28d",
   "metadata": {},
   "outputs": [
    {
     "data": {
      "text/plain": [
       "Array(1.9996634, dtype=float32)"
      ]
     },
     "execution_count": 21,
     "metadata": {},
     "output_type": "execute_result"
    }
   ],
   "source": [
    "D = jnp.zeros((28,28,1))\n",
    "adversarial(D)"
   ]
  },
  {
   "cell_type": "code",
   "execution_count": 22,
   "id": "d8dddf38-5b42-43cd-a2ce-6d8c7775ac1c",
   "metadata": {},
   "outputs": [],
   "source": [
    "ad_grad_fn = jax.jit(jax.value_and_grad(adversarial))"
   ]
  },
  {
   "cell_type": "code",
   "execution_count": 23,
   "id": "292349b0-3c79-4274-9464-4abb32887eed",
   "metadata": {},
   "outputs": [
    {
     "name": "stdout",
     "output_type": "stream",
     "text": [
      "0 1.9996634\n",
      "1 1.9991536\n",
      "2 1.9974978\n",
      "3 1.9921381\n",
      "4 1.9742751\n",
      "5 1.9111421\n",
      "6 1.6923052\n",
      "7 1.1476854\n",
      "8 0.42526025\n",
      "9 0.07428199\n"
     ]
    }
   ],
   "source": [
    "eps = 0.01\n",
    "\n",
    "D = jnp.zeros((28,28,1))\n",
    "\n",
    "for k in range(10):\n",
    "    l, g = ad_grad_fn(D)\n",
    "    print(k, l)\n",
    "    D += -eps*jnp.sign(g)"
   ]
  },
  {
   "cell_type": "code",
   "execution_count": 24,
   "id": "e7283b25-d965-453c-ab2a-c9a4843034d9",
   "metadata": {},
   "outputs": [
    {
     "data": {
      "image/png": "[encoded data removed]",
      "text/plain": [
       "<Figure size 1200x400 with 2 Axes>"
      ]
     },
     "metadata": {},
     "output_type": "display_data"
    }
   ],
   "source": [
    "fig, (ax1,ax2) = plt.subplots(1,2,figsize=(12,4))\n",
    "ax1.imshow(1-(B+D),'gray',vmin=0,vmax=1)\n",
    "ax2.bar(np.arange(10), model.apply(w, jnp.array([B+D]))[0])\n",
    "ax2.set_xticks(np.arange(10));"
   ]
  }
 ],
 "metadata": {
  "kernelspec": {
   "display_name": "Python 3 (ipykernel)",
   "language": "python",
   "name": "python3"
  },
  "language_info": {
   "codemirror_mode": {
    "name": "ipython",
    "version": 3
   },
   "file_extension": ".py",
   "mimetype": "text/x-python",
   "name": "python",
   "nbconvert_exporter": "python",
   "pygments_lexer": "ipython3",
   "version": "3.11.5"
  }
 },
 "nbformat": 4,
 "nbformat_minor": 5
}
